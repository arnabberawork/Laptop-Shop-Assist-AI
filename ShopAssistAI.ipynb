{
 "cells": [
  {
   "cell_type": "markdown",
   "id": "90bb1e2a",
   "metadata": {
    "id": "90bb1e2a"
   },
   "source": [
    "# ShopAssist AI"
   ]
  },
  {
   "cell_type": "markdown",
   "id": "5bf1cc72",
   "metadata": {
    "id": "5bf1cc72"
   },
   "source": [
    "## Part 1: Introduction\n",
    "\n",
    "#### **What you have learnt till now**\n",
    "\n",
    "So far you have learnt how to make LLM API calls in Python. In particular, you worked with OpenAI's GPT 3.5 models and the `Chat Completion API` to build a simple AI tutor.\n",
    "\n",
    "<br>\n",
    "\n",
    "Next, you went over some principles, techniques, and tactics for prompt engineering.\n",
    "The two main principles of writing a good prompt:\n",
    "1.  Providing clear instructions,\n",
    "2.  Enhancing LLM reasoning capabilities.\n",
    "\n",
    "Under providing clear instructions, you learnt how to structure the body of a prompt through 5 components - **Task, Role, Context, Guidelines and Output Format**.\n",
    "\n",
    "You also understood that providing a very clear syntax and conditioning on good performance can get you closer to the desired output.\n",
    "\n",
    "<br>\n",
    "\n",
    "Next, under enhancing LLM reasoning capabilities, you learnt two specific techniques -\n",
    "(i) Chain-of-Thought prompting,\n",
    "(ii) Few-Shot prompting.\n",
    "\n",
    "Under chain-of-thought prompting, you essentially enable the LLM to work through the solution step-by-step and in few-shot prompting, you provide relevant examples of how you want the outputs to look like. So now you could structure your prompts into proper components and provide clear chain-of-thought instructions along with relevant examples of ideal inputs and outputs.\n",
    "\n",
    "You also learnt some advanced prompting techniques like self-consistency and ReAct prompting. Self-consistency is basically the technique where you ensemble multiple attempts and select the most consistent output out of them. And in ReAct prompting, you enable the LLM to reason out a scenario and act based on some examples.\n",
    "\n",
    "<br>\n",
    "\n",
    "Finally, you looked at some examples of how you can design LLM-based systems. Apart from prompting techniques, you understood that designing a LLM-based system also requires a safe design, i.e., the capabilities to detect and respond to unsafe user queries and prompt injections. You looked at the moderation API offered by OpenAI that can help you design such safer systems.\n",
    "\n",
    "With all of these learnings, let’s now get started on designing our first LLM application - ShopAssist AI."
   ]
  },
  {
   "cell_type": "markdown",
   "id": "eTECjBM1_t1B",
   "metadata": {
    "id": "eTECjBM1_t1B"
   },
   "source": [
    "\n",
    "#### Project Background\n",
    "\n",
    "In today's digital age, online shopping has become the go-to option for many consumers. However, the overwhelming number of choices and the lack of personalized assistance can make the shopping experience daunting. To address this, we have developed **ShopAssist AI, a chatbot that combines the power of large language models and rule-based functions to ensure accurate and reliable information delivery**.\n",
    "\n",
    "\n",
    "#### Problem Statement\n",
    "\n",
    "*Given a dataset containing information about laptops (product names, specifications, descriptions, etc.), build a chatbot that parses the dataset and provides accurate laptop recommendations based on user requirements*.\n",
    "\n",
    "\n",
    "You can load the data and see it here."
   ]
  },
  {
   "cell_type": "markdown",
   "id": "nJLXik04pfGM",
   "metadata": {
    "id": "nJLXik04pfGM"
   },
   "source": [
    "You can download the data from [here](https://cdn.upgrad.com/uploads/production/c85f3fdd-b29f-4c47-9e87-99bbda0fd233/laptop_data.csv) or uncomment the code below to download the file."
   ]
  },
  {
   "cell_type": "code",
   "execution_count": 432,
   "id": "29adca8b",
   "metadata": {
    "id": "29adca8b"
   },
   "outputs": [
    {
     "data": {
      "text/html": [
       "<div>\n",
       "<style scoped>\n",
       "    .dataframe tbody tr th:only-of-type {\n",
       "        vertical-align: middle;\n",
       "    }\n",
       "\n",
       "    .dataframe tbody tr th {\n",
       "        vertical-align: top;\n",
       "    }\n",
       "\n",
       "    .dataframe thead th {\n",
       "        text-align: right;\n",
       "    }\n",
       "</style>\n",
       "<table border=\"1\" class=\"dataframe\">\n",
       "  <thead>\n",
       "    <tr style=\"text-align: right;\">\n",
       "      <th></th>\n",
       "      <th>Brand</th>\n",
       "      <th>Model Name</th>\n",
       "      <th>Core</th>\n",
       "      <th>CPU Manufacturer</th>\n",
       "      <th>Clock Speed</th>\n",
       "      <th>RAM Size</th>\n",
       "      <th>Storage Type</th>\n",
       "      <th>Display Type</th>\n",
       "      <th>Display Size</th>\n",
       "      <th>Graphics Processor</th>\n",
       "      <th>Screen Resolution</th>\n",
       "      <th>OS</th>\n",
       "      <th>Laptop Weight</th>\n",
       "      <th>Special Features</th>\n",
       "      <th>Warranty</th>\n",
       "      <th>Average Battery Life</th>\n",
       "      <th>Price</th>\n",
       "      <th>Description</th>\n",
       "    </tr>\n",
       "  </thead>\n",
       "  <tbody>\n",
       "    <tr>\n",
       "      <th>0</th>\n",
       "      <td>Dell</td>\n",
       "      <td>Inspiron</td>\n",
       "      <td>i5</td>\n",
       "      <td>Intel</td>\n",
       "      <td>2.4 GHz</td>\n",
       "      <td>8GB</td>\n",
       "      <td>SSD</td>\n",
       "      <td>LCD</td>\n",
       "      <td>15.6\"</td>\n",
       "      <td>Intel UHD</td>\n",
       "      <td>1920x1080</td>\n",
       "      <td>Windows 10</td>\n",
       "      <td>2.5 kg</td>\n",
       "      <td>Backlit Keyboard</td>\n",
       "      <td>1 year</td>\n",
       "      <td>6 hours</td>\n",
       "      <td>35,000</td>\n",
       "      <td>The Dell Inspiron is a versatile laptop that c...</td>\n",
       "    </tr>\n",
       "    <tr>\n",
       "      <th>1</th>\n",
       "      <td>MSI</td>\n",
       "      <td>GL65</td>\n",
       "      <td>i7</td>\n",
       "      <td>Intel</td>\n",
       "      <td>2.6 GHz</td>\n",
       "      <td>16GB</td>\n",
       "      <td>HDD+SSD</td>\n",
       "      <td>IPS</td>\n",
       "      <td>15.6\"</td>\n",
       "      <td>NVIDIA GTX</td>\n",
       "      <td>1920x1080</td>\n",
       "      <td>Windows 10</td>\n",
       "      <td>2.3 kg</td>\n",
       "      <td>RGB Keyboard</td>\n",
       "      <td>2 years</td>\n",
       "      <td>4 hours</td>\n",
       "      <td>55,000</td>\n",
       "      <td>The MSI GL65 is a high-performance laptop desi...</td>\n",
       "    </tr>\n",
       "    <tr>\n",
       "      <th>2</th>\n",
       "      <td>HP</td>\n",
       "      <td>EliteBook</td>\n",
       "      <td>i7</td>\n",
       "      <td>Intel</td>\n",
       "      <td>2.8 GHz</td>\n",
       "      <td>16GB</td>\n",
       "      <td>SSD</td>\n",
       "      <td>LED</td>\n",
       "      <td>14\"</td>\n",
       "      <td>Intel UHD</td>\n",
       "      <td>1920x1080</td>\n",
       "      <td>Windows 11</td>\n",
       "      <td>1.5 kg</td>\n",
       "      <td>Fingerprint Sensor</td>\n",
       "      <td>3 years</td>\n",
       "      <td>8 hours</td>\n",
       "      <td>90,000</td>\n",
       "      <td>The HP EliteBook is a premium laptop designed ...</td>\n",
       "    </tr>\n",
       "    <tr>\n",
       "      <th>3</th>\n",
       "      <td>Lenovo</td>\n",
       "      <td>IdeaPad</td>\n",
       "      <td>i3</td>\n",
       "      <td>Intel</td>\n",
       "      <td>2.1 GHz</td>\n",
       "      <td>8GB</td>\n",
       "      <td>HDD</td>\n",
       "      <td>TN</td>\n",
       "      <td>15.6\"</td>\n",
       "      <td>Intel UHD</td>\n",
       "      <td>1366x768</td>\n",
       "      <td>Windows 10</td>\n",
       "      <td>2.2 kg</td>\n",
       "      <td>Dolby Audio</td>\n",
       "      <td>1 year</td>\n",
       "      <td>5 hours</td>\n",
       "      <td>25,000</td>\n",
       "      <td>The Lenovo IdeaPad is a versatile laptop that ...</td>\n",
       "    </tr>\n",
       "    <tr>\n",
       "      <th>4</th>\n",
       "      <td>ASUS</td>\n",
       "      <td>ZenBook Pro</td>\n",
       "      <td>i9</td>\n",
       "      <td>Intel</td>\n",
       "      <td>3.1 GHz</td>\n",
       "      <td>64GB</td>\n",
       "      <td>SSD</td>\n",
       "      <td>OLED</td>\n",
       "      <td>15.6\"</td>\n",
       "      <td>NVIDIA RTX</td>\n",
       "      <td>3840x2160</td>\n",
       "      <td>Windows 10</td>\n",
       "      <td>1.8 kg</td>\n",
       "      <td>NanoEdge Display</td>\n",
       "      <td>2 years</td>\n",
       "      <td>7 hours</td>\n",
       "      <td>200,000</td>\n",
       "      <td>The ASUS ZenBook Pro is a high-end laptop that...</td>\n",
       "    </tr>\n",
       "    <tr>\n",
       "      <th>5</th>\n",
       "      <td>Acer</td>\n",
       "      <td>Predator</td>\n",
       "      <td>i7</td>\n",
       "      <td>Intel</td>\n",
       "      <td>2.8 GHz</td>\n",
       "      <td>16GB</td>\n",
       "      <td>SSD</td>\n",
       "      <td>IPS</td>\n",
       "      <td>17.3\"</td>\n",
       "      <td>NVIDIA GTX</td>\n",
       "      <td>1920x1080</td>\n",
       "      <td>Windows 10</td>\n",
       "      <td>3.2 kg</td>\n",
       "      <td>Dual Cooling Fans</td>\n",
       "      <td>1 year</td>\n",
       "      <td>5 hours</td>\n",
       "      <td>80,000</td>\n",
       "      <td>The Acer Predator is a powerhouse laptop desig...</td>\n",
       "    </tr>\n",
       "    <tr>\n",
       "      <th>6</th>\n",
       "      <td>Microsoft</td>\n",
       "      <td>Surface Laptop</td>\n",
       "      <td>i5</td>\n",
       "      <td>Intel</td>\n",
       "      <td>1.6 GHz</td>\n",
       "      <td>8GB</td>\n",
       "      <td>SSD</td>\n",
       "      <td>PixelSense</td>\n",
       "      <td>13.5\"</td>\n",
       "      <td>Intel Iris Plus</td>\n",
       "      <td>2256x1504</td>\n",
       "      <td>Windows 11</td>\n",
       "      <td>1.3 kg</td>\n",
       "      <td>Touchscreen Display</td>\n",
       "      <td>1 year</td>\n",
       "      <td>10 hours</td>\n",
       "      <td>90,000</td>\n",
       "      <td>The Microsoft Surface Laptop is a premium devi...</td>\n",
       "    </tr>\n",
       "    <tr>\n",
       "      <th>7</th>\n",
       "      <td>Lenovo</td>\n",
       "      <td>ThinkPad</td>\n",
       "      <td>Ryzen 7</td>\n",
       "      <td>AMD</td>\n",
       "      <td>3.0 GHz</td>\n",
       "      <td>16GB</td>\n",
       "      <td>SSD</td>\n",
       "      <td>IPS</td>\n",
       "      <td>14\"</td>\n",
       "      <td>NVIDIA GTX</td>\n",
       "      <td>2560x1440</td>\n",
       "      <td>Linux</td>\n",
       "      <td>1.6 kg</td>\n",
       "      <td>Backlit Keyboard</td>\n",
       "      <td>3 years</td>\n",
       "      <td>6 hours</td>\n",
       "      <td>60,000</td>\n",
       "      <td>The Lenovo ThinkPad is a powerful laptop desig...</td>\n",
       "    </tr>\n",
       "    <tr>\n",
       "      <th>8</th>\n",
       "      <td>HP</td>\n",
       "      <td>Pavilion</td>\n",
       "      <td>i5</td>\n",
       "      <td>Intel</td>\n",
       "      <td>2.3 GHz</td>\n",
       "      <td>12GB</td>\n",
       "      <td>HDD</td>\n",
       "      <td>LCD</td>\n",
       "      <td>15.6\"</td>\n",
       "      <td>Intel UHD</td>\n",
       "      <td>1366x768</td>\n",
       "      <td>Windows 10</td>\n",
       "      <td>2.1 kg</td>\n",
       "      <td>B&amp;O Audio</td>\n",
       "      <td>1 year</td>\n",
       "      <td>4 hours</td>\n",
       "      <td>30,000</td>\n",
       "      <td>The HP Pavilion is a budget-friendly laptop th...</td>\n",
       "    </tr>\n",
       "    <tr>\n",
       "      <th>9</th>\n",
       "      <td>ASUS</td>\n",
       "      <td>ROG Strix G</td>\n",
       "      <td>i7</td>\n",
       "      <td>Intel</td>\n",
       "      <td>2.9 GHz</td>\n",
       "      <td>16GB</td>\n",
       "      <td>SSD</td>\n",
       "      <td>IPS</td>\n",
       "      <td>17.3\"</td>\n",
       "      <td>NVIDIA RTX</td>\n",
       "      <td>1920x1080</td>\n",
       "      <td>Windows 10</td>\n",
       "      <td>2.9 kg</td>\n",
       "      <td>Aura Sync RGB Keyboard</td>\n",
       "      <td>2 years</td>\n",
       "      <td>5 hours</td>\n",
       "      <td>85,000</td>\n",
       "      <td>The ASUS ROG Strix G is a high-performance gam...</td>\n",
       "    </tr>\n",
       "    <tr>\n",
       "      <th>10</th>\n",
       "      <td>Dell</td>\n",
       "      <td>XPS 15</td>\n",
       "      <td>i9</td>\n",
       "      <td>Intel</td>\n",
       "      <td>2.8 GHz</td>\n",
       "      <td>32GB</td>\n",
       "      <td>SSD</td>\n",
       "      <td>OLED</td>\n",
       "      <td>15.6\"</td>\n",
       "      <td>NVIDIA GTX</td>\n",
       "      <td>3840x2160</td>\n",
       "      <td>Windows 11</td>\n",
       "      <td>1.8 kg</td>\n",
       "      <td>Adobe RGB color gamut</td>\n",
       "      <td>3 years</td>\n",
       "      <td>8 hours</td>\n",
       "      <td>180,000</td>\n",
       "      <td>The Dell XPS 15 is a premium laptop that combi...</td>\n",
       "    </tr>\n",
       "    <tr>\n",
       "      <th>11</th>\n",
       "      <td>Lenovo</td>\n",
       "      <td>ThinkPad X1 Carbon</td>\n",
       "      <td>i7</td>\n",
       "      <td>Intel</td>\n",
       "      <td>2.6 GHz</td>\n",
       "      <td>16GB</td>\n",
       "      <td>SSD</td>\n",
       "      <td>IPS</td>\n",
       "      <td>14\"</td>\n",
       "      <td>Intel UHD</td>\n",
       "      <td>2560x1440</td>\n",
       "      <td>Windows 10</td>\n",
       "      <td>1.13 kg</td>\n",
       "      <td>IR Camera for Face Unlock</td>\n",
       "      <td>3 years</td>\n",
       "      <td>12 hours</td>\n",
       "      <td>130,000</td>\n",
       "      <td>The Lenovo ThinkPad X1 Carbon is a sleek and l...</td>\n",
       "    </tr>\n",
       "    <tr>\n",
       "      <th>12</th>\n",
       "      <td>Acer</td>\n",
       "      <td>Swift 3</td>\n",
       "      <td>Ryzen 5</td>\n",
       "      <td>AMD</td>\n",
       "      <td>2.3 GHz</td>\n",
       "      <td>8GB</td>\n",
       "      <td>SSD</td>\n",
       "      <td>IPS</td>\n",
       "      <td>14\"</td>\n",
       "      <td>AMD Radeon</td>\n",
       "      <td>1920x1080</td>\n",
       "      <td>Windows 11</td>\n",
       "      <td>1.2 kg</td>\n",
       "      <td>Fingerprint Reader</td>\n",
       "      <td>1 year</td>\n",
       "      <td>9 hours</td>\n",
       "      <td>50,000</td>\n",
       "      <td>The Acer Swift 3 is a lightweight and affordab...</td>\n",
       "    </tr>\n",
       "    <tr>\n",
       "      <th>13</th>\n",
       "      <td>Apple</td>\n",
       "      <td>MacBook Air</td>\n",
       "      <td>M1</td>\n",
       "      <td>Apple</td>\n",
       "      <td>3.2 GHz</td>\n",
       "      <td>16GB</td>\n",
       "      <td>SSD</td>\n",
       "      <td>Retina</td>\n",
       "      <td>13.3\"</td>\n",
       "      <td>Apple M1</td>\n",
       "      <td>2560x1600</td>\n",
       "      <td>macOS</td>\n",
       "      <td>1.29 kg</td>\n",
       "      <td>Touch ID</td>\n",
       "      <td>3 years</td>\n",
       "      <td>14 hours</td>\n",
       "      <td>100,000</td>\n",
       "      <td>The Apple MacBook Air is a sleek and lightweig...</td>\n",
       "    </tr>\n",
       "    <tr>\n",
       "      <th>14</th>\n",
       "      <td>MSI</td>\n",
       "      <td>Prestige 14</td>\n",
       "      <td>i5</td>\n",
       "      <td>Intel</td>\n",
       "      <td>2.4 GHz</td>\n",
       "      <td>16GB</td>\n",
       "      <td>SSD</td>\n",
       "      <td>IPS</td>\n",
       "      <td>14\"</td>\n",
       "      <td>NVIDIA GTX</td>\n",
       "      <td>1920x1080</td>\n",
       "      <td>Windows 10</td>\n",
       "      <td>1.29 kg</td>\n",
       "      <td>True Color Technology</td>\n",
       "      <td>2 years</td>\n",
       "      <td>8 hours</td>\n",
       "      <td>70,000</td>\n",
       "      <td>The MSI Prestige 14 is a compact and stylish l...</td>\n",
       "    </tr>\n",
       "    <tr>\n",
       "      <th>15</th>\n",
       "      <td>ASUS</td>\n",
       "      <td>ZenBook 13</td>\n",
       "      <td>i7</td>\n",
       "      <td>Intel</td>\n",
       "      <td>2.8 GHz</td>\n",
       "      <td>16GB</td>\n",
       "      <td>SSD</td>\n",
       "      <td>NanoEdge</td>\n",
       "      <td>13.3\"</td>\n",
       "      <td>Intel Iris Xe</td>\n",
       "      <td>1920x1080</td>\n",
       "      <td>Windows 11</td>\n",
       "      <td>1.11 kg</td>\n",
       "      <td>Military-Grade Durability</td>\n",
       "      <td>2 years</td>\n",
       "      <td>11 hours</td>\n",
       "      <td>95,000</td>\n",
       "      <td>The ASUS ZenBook 13 is a lightweight and power...</td>\n",
       "    </tr>\n",
       "    <tr>\n",
       "      <th>16</th>\n",
       "      <td>Dell</td>\n",
       "      <td>Precision 5550</td>\n",
       "      <td>Xeon</td>\n",
       "      <td>Intel</td>\n",
       "      <td>2.6 GHz</td>\n",
       "      <td>32GB</td>\n",
       "      <td>SSD</td>\n",
       "      <td>OLED</td>\n",
       "      <td>15.6\"</td>\n",
       "      <td>NVIDIA Quadro</td>\n",
       "      <td>3840x2160</td>\n",
       "      <td>Ubuntu</td>\n",
       "      <td>1.83 kg</td>\n",
       "      <td>Thunderbolt 3 Connectivity</td>\n",
       "      <td>3 years</td>\n",
       "      <td>6 hours</td>\n",
       "      <td>250,000</td>\n",
       "      <td>The Dell Precision 5550 is a high-performance ...</td>\n",
       "    </tr>\n",
       "    <tr>\n",
       "      <th>17</th>\n",
       "      <td>HP</td>\n",
       "      <td>ENVY x360</td>\n",
       "      <td>i7</td>\n",
       "      <td>Intel</td>\n",
       "      <td>2.8 GHz</td>\n",
       "      <td>16GB</td>\n",
       "      <td>SSD</td>\n",
       "      <td>IPS</td>\n",
       "      <td>15.6\"</td>\n",
       "      <td>Intel Iris Xe</td>\n",
       "      <td>1920x1080</td>\n",
       "      <td>Windows 10</td>\n",
       "      <td>2.05 kg</td>\n",
       "      <td>2-in-1 Convertible Design</td>\n",
       "      <td>1 year</td>\n",
       "      <td>7 hours</td>\n",
       "      <td>80,000</td>\n",
       "      <td>The HP ENVY x360 is a versatile 2-in-1 convert...</td>\n",
       "    </tr>\n",
       "    <tr>\n",
       "      <th>18</th>\n",
       "      <td>Razer</td>\n",
       "      <td>Blade 15</td>\n",
       "      <td>i7</td>\n",
       "      <td>Intel</td>\n",
       "      <td>2.6 GHz</td>\n",
       "      <td>16GB</td>\n",
       "      <td>SSD</td>\n",
       "      <td>IPS</td>\n",
       "      <td>15.6\"</td>\n",
       "      <td>NVIDIA RTX</td>\n",
       "      <td>1920x1080</td>\n",
       "      <td>Windows 11</td>\n",
       "      <td>2.09 kg</td>\n",
       "      <td>Chroma RGB Keyboard</td>\n",
       "      <td>1 year</td>\n",
       "      <td>6 hours</td>\n",
       "      <td>150,000</td>\n",
       "      <td>The Razer Blade 15 is a high-performance gamin...</td>\n",
       "    </tr>\n",
       "    <tr>\n",
       "      <th>19</th>\n",
       "      <td>Apple</td>\n",
       "      <td>MacBook Pro</td>\n",
       "      <td>i9</td>\n",
       "      <td>Intel</td>\n",
       "      <td>2.9 GHz</td>\n",
       "      <td>32GB</td>\n",
       "      <td>SSD</td>\n",
       "      <td>Retina</td>\n",
       "      <td>16\"</td>\n",
       "      <td>AMD Radeon</td>\n",
       "      <td>3072x1920</td>\n",
       "      <td>macOS</td>\n",
       "      <td>2.02 kg</td>\n",
       "      <td>True Tone Display</td>\n",
       "      <td>3 years</td>\n",
       "      <td>10 hours</td>\n",
       "      <td>280,000</td>\n",
       "      <td>The Apple MacBook Pro is a high-end laptop tha...</td>\n",
       "    </tr>\n",
       "  </tbody>\n",
       "</table>\n",
       "</div>"
      ],
      "text/plain": [
       "        Brand          Model Name     Core CPU Manufacturer Clock Speed RAM Size Storage Type  \\\n",
       "0        Dell            Inspiron       i5            Intel     2.4 GHz      8GB          SSD   \n",
       "1         MSI                GL65       i7            Intel     2.6 GHz     16GB      HDD+SSD   \n",
       "2          HP           EliteBook       i7            Intel     2.8 GHz     16GB          SSD   \n",
       "3      Lenovo             IdeaPad       i3            Intel     2.1 GHz      8GB          HDD   \n",
       "4        ASUS         ZenBook Pro       i9            Intel     3.1 GHz     64GB          SSD   \n",
       "5        Acer            Predator       i7            Intel     2.8 GHz     16GB          SSD   \n",
       "6   Microsoft      Surface Laptop       i5            Intel     1.6 GHz      8GB          SSD   \n",
       "7      Lenovo            ThinkPad  Ryzen 7              AMD     3.0 GHz     16GB          SSD   \n",
       "8          HP            Pavilion       i5            Intel     2.3 GHz     12GB          HDD   \n",
       "9        ASUS         ROG Strix G       i7            Intel     2.9 GHz     16GB          SSD   \n",
       "10       Dell              XPS 15       i9            Intel     2.8 GHz     32GB          SSD   \n",
       "11     Lenovo  ThinkPad X1 Carbon       i7            Intel     2.6 GHz     16GB          SSD   \n",
       "12       Acer             Swift 3  Ryzen 5              AMD     2.3 GHz      8GB          SSD   \n",
       "13      Apple         MacBook Air       M1            Apple     3.2 GHz     16GB          SSD   \n",
       "14        MSI         Prestige 14       i5            Intel     2.4 GHz     16GB          SSD   \n",
       "15       ASUS          ZenBook 13       i7            Intel     2.8 GHz     16GB          SSD   \n",
       "16       Dell      Precision 5550     Xeon            Intel     2.6 GHz     32GB          SSD   \n",
       "17         HP           ENVY x360       i7            Intel     2.8 GHz     16GB          SSD   \n",
       "18      Razer            Blade 15       i7            Intel     2.6 GHz     16GB          SSD   \n",
       "19      Apple         MacBook Pro       i9            Intel     2.9 GHz     32GB          SSD   \n",
       "\n",
       "   Display Type Display Size Graphics Processor Screen Resolution          OS Laptop Weight  \\\n",
       "0           LCD        15.6\"          Intel UHD         1920x1080  Windows 10        2.5 kg   \n",
       "1           IPS        15.6\"         NVIDIA GTX         1920x1080  Windows 10        2.3 kg   \n",
       "2           LED          14\"          Intel UHD         1920x1080  Windows 11        1.5 kg   \n",
       "3            TN        15.6\"          Intel UHD          1366x768  Windows 10        2.2 kg   \n",
       "4          OLED        15.6\"         NVIDIA RTX         3840x2160  Windows 10        1.8 kg   \n",
       "5           IPS        17.3\"         NVIDIA GTX         1920x1080  Windows 10        3.2 kg   \n",
       "6    PixelSense        13.5\"    Intel Iris Plus         2256x1504  Windows 11        1.3 kg   \n",
       "7           IPS          14\"         NVIDIA GTX         2560x1440       Linux        1.6 kg   \n",
       "8           LCD        15.6\"          Intel UHD          1366x768  Windows 10        2.1 kg   \n",
       "9           IPS        17.3\"         NVIDIA RTX         1920x1080  Windows 10        2.9 kg   \n",
       "10         OLED        15.6\"         NVIDIA GTX         3840x2160  Windows 11        1.8 kg   \n",
       "11          IPS          14\"          Intel UHD         2560x1440  Windows 10       1.13 kg   \n",
       "12          IPS          14\"         AMD Radeon         1920x1080  Windows 11        1.2 kg   \n",
       "13       Retina        13.3\"           Apple M1         2560x1600       macOS       1.29 kg   \n",
       "14          IPS          14\"         NVIDIA GTX         1920x1080  Windows 10       1.29 kg   \n",
       "15     NanoEdge        13.3\"      Intel Iris Xe         1920x1080  Windows 11       1.11 kg   \n",
       "16         OLED        15.6\"      NVIDIA Quadro         3840x2160      Ubuntu       1.83 kg   \n",
       "17          IPS        15.6\"      Intel Iris Xe         1920x1080  Windows 10       2.05 kg   \n",
       "18          IPS        15.6\"         NVIDIA RTX         1920x1080  Windows 11       2.09 kg   \n",
       "19       Retina          16\"         AMD Radeon         3072x1920       macOS       2.02 kg   \n",
       "\n",
       "              Special Features Warranty Average Battery Life    Price  \\\n",
       "0             Backlit Keyboard   1 year              6 hours   35,000   \n",
       "1                 RGB Keyboard  2 years              4 hours   55,000   \n",
       "2           Fingerprint Sensor  3 years              8 hours   90,000   \n",
       "3                  Dolby Audio   1 year              5 hours   25,000   \n",
       "4             NanoEdge Display  2 years              7 hours  200,000   \n",
       "5            Dual Cooling Fans   1 year              5 hours   80,000   \n",
       "6          Touchscreen Display   1 year             10 hours   90,000   \n",
       "7             Backlit Keyboard  3 years              6 hours   60,000   \n",
       "8                    B&O Audio   1 year              4 hours   30,000   \n",
       "9       Aura Sync RGB Keyboard  2 years              5 hours   85,000   \n",
       "10       Adobe RGB color gamut  3 years              8 hours  180,000   \n",
       "11   IR Camera for Face Unlock  3 years             12 hours  130,000   \n",
       "12          Fingerprint Reader   1 year              9 hours   50,000   \n",
       "13                    Touch ID  3 years             14 hours  100,000   \n",
       "14       True Color Technology  2 years              8 hours   70,000   \n",
       "15   Military-Grade Durability  2 years             11 hours   95,000   \n",
       "16  Thunderbolt 3 Connectivity  3 years              6 hours  250,000   \n",
       "17   2-in-1 Convertible Design   1 year              7 hours   80,000   \n",
       "18         Chroma RGB Keyboard   1 year              6 hours  150,000   \n",
       "19           True Tone Display  3 years             10 hours  280,000   \n",
       "\n",
       "                                          Description  \n",
       "0   The Dell Inspiron is a versatile laptop that c...  \n",
       "1   The MSI GL65 is a high-performance laptop desi...  \n",
       "2   The HP EliteBook is a premium laptop designed ...  \n",
       "3   The Lenovo IdeaPad is a versatile laptop that ...  \n",
       "4   The ASUS ZenBook Pro is a high-end laptop that...  \n",
       "5   The Acer Predator is a powerhouse laptop desig...  \n",
       "6   The Microsoft Surface Laptop is a premium devi...  \n",
       "7   The Lenovo ThinkPad is a powerful laptop desig...  \n",
       "8   The HP Pavilion is a budget-friendly laptop th...  \n",
       "9   The ASUS ROG Strix G is a high-performance gam...  \n",
       "10  The Dell XPS 15 is a premium laptop that combi...  \n",
       "11  The Lenovo ThinkPad X1 Carbon is a sleek and l...  \n",
       "12  The Acer Swift 3 is a lightweight and affordab...  \n",
       "13  The Apple MacBook Air is a sleek and lightweig...  \n",
       "14  The MSI Prestige 14 is a compact and stylish l...  \n",
       "15  The ASUS ZenBook 13 is a lightweight and power...  \n",
       "16  The Dell Precision 5550 is a high-performance ...  \n",
       "17  The HP ENVY x360 is a versatile 2-in-1 convert...  \n",
       "18  The Razer Blade 15 is a high-performance gamin...  \n",
       "19  The Apple MacBook Pro is a high-end laptop tha...  "
      ]
     },
     "execution_count": 432,
     "metadata": {},
     "output_type": "execute_result"
    }
   ],
   "source": [
    "# Import the libraries\n",
    "import pandas as pd\n",
    "from IPython.display import display, HTML\n",
    "# Set the display width to control the output width\n",
    "pd.set_option('display.width', 100)\n",
    "# Read the dataset and read the Laptop Dataset\n",
    "df = pd.read_csv('laptop_data.csv')\n",
    "df"
   ]
  },
  {
   "cell_type": "markdown",
   "id": "81bc7e3b",
   "metadata": {
    "id": "81bc7e3b"
   },
   "source": [
    "#### Approach:\n",
    "\n",
    "1. **Conversation and Information Gathering**: The chatbot will utilize language models to understand and generate natural responses. Through a conversational flow, it will ask relevant questions to gather information about the user's requirements.\n",
    "2. **Information Extraction**: Once the essential information is collected, rule-based functions come into play, extracting top 3 laptops that best matches the user's needs.\n",
    "3. **Personalized Recommendation**: Leveraging this extracted information, the chatbot engages in further dialogue with the user, efficiently addressing their queries and aiding them in finding the perfect laptop solution."
   ]
  },
  {
   "cell_type": "markdown",
   "id": "5e7aada9",
   "metadata": {
    "id": "5e7aada9"
   },
   "source": [
    "## Part 2: System Design"
   ]
  },
  {
   "cell_type": "markdown",
   "id": "a43fb33e",
   "metadata": {
    "id": "a43fb33e"
   },
   "source": [
    "\n",
    "#### Dataset\n",
    "\n",
    "We have a dataset `laptop.csv` where  each row describes the features of a single laptop and also has a small description at the end. The chatbot that we build will leverage LLMs to parse this `Description` column and provide recommendations"
   ]
  },
  {
   "cell_type": "markdown",
   "id": "73d39aba",
   "metadata": {
    "id": "73d39aba"
   },
   "source": [
    "Here's the overall flow of conversation for the ShopAssist Chatbot:\n",
    "\n",
    "The chatbot should ask a series of questions to\n",
    "- Determine the user's requirments. For simplicity, we have used 6 features to encapsulate the user's needs. The 6 features are as follows:\n",
    "    - GPU intensity\n",
    "    - Display quality\n",
    "    - Portability\n",
    "    - Multitasking\n",
    "    - Processing speed\n",
    "    - Budget\n",
    "\n",
    "- Confirm if the user's requirements have been correctly captured at the end.\n",
    "\n",
    "After that the chatbot lists down the top 3 products that are the most relevant, and engages in further conversation to help the user find the best one.\n"
   ]
  },
  {
   "cell_type": "markdown",
   "id": "281ca223",
   "metadata": {
    "id": "281ca223"
   },
   "source": [
    "#### Building the Chatbot\n",
    "\n",
    "Now let's go ahead and understand the system design for the chatbot.\n",
    "\n",
    "![Chatbot_sys_design.png](Chatbot_sys_design.png)"
   ]
  },
  {
   "cell_type": "markdown",
   "id": "51b581e9",
   "metadata": {
    "id": "51b581e9"
   },
   "source": [
    "`Stage 1`\n",
    "\n",
    "- Intent Clarity Layer\n",
    "- Intent Confirmation Layer\n",
    "\n",
    "`Stage 2`\n",
    "\n",
    "- Product Mapping Layer\n",
    "- Product Information Extraction Layer\n",
    "\n",
    "`Stage 3`\n",
    "\n",
    "- Product Recommendation Layer"
   ]
  },
  {
   "cell_type": "markdown",
   "id": "bbceebf1",
   "metadata": {
    "id": "bbceebf1"
   },
   "source": [
    "##### Major functions behind the Chatbot\n",
    "\n",
    "Let's now look at a brief overview of the major functions that form the chatbot. We'll take a deep dive later\n",
    "\n",
    "\n",
    "\n",
    "- `initialize_conversation()`: This initializes the variable conversation with the system message.\n",
    "- `get_chat_completions()`: This takes the ongoing conversation as the input and returns the response by the assistant\n",
    "- `moderation_check()`: This checks if the user's or the assistant's message is inappropriate. If any of these is inappropriate, it ends the conversation.\n",
    "- `intent_confirmation_layer()`: This function takes the assistant's response and evaluates if the chatbot has captured the user's profile clearly. Specifically, this checks if the following properties for the user has been captured or not GPU intensity, Display quality, Portability, Multitasking, Processing speed, Budget\n",
    "- `dictionary_present()`: This function checks if the final understanding of user's profile is returned by the chatbot as a python dictionary or not. If there is a dictionary, it extracts the information as a Python dictionary.\n",
    "- `compare_laptops_with_user()`: This function compares the user's profile with the different laptops and come back with the top 3 recommendations.\n",
    "- `initialize_conv_reco()`: Initializes the recommendations conversation"
   ]
  },
  {
   "cell_type": "markdown",
   "id": "8cd07e7a",
   "metadata": {
    "id": "8cd07e7a"
   },
   "source": [
    "In the next sections, we will look at how to write the code for the above functions."
   ]
  },
  {
   "cell_type": "markdown",
   "id": "59bd717d",
   "metadata": {
    "id": "59bd717d"
   },
   "source": [
    "## Part 3: Implementation"
   ]
  },
  {
   "cell_type": "markdown",
   "id": "mPMUbPd0R8nl",
   "metadata": {
    "id": "mPMUbPd0R8nl"
   },
   "source": [
    "## Stage 1"
   ]
  },
  {
   "cell_type": "markdown",
   "id": "4NTg1G-9x2rP",
   "metadata": {
    "id": "4NTg1G-9x2rP"
   },
   "source": [
    "[Stage 1 Flowchart](https://cdn.upgrad.com/uploads/production/ed8cf454-0c7c-4c5d-bc05-23bb3cea6c57/image+3.jpg)\n",
    "\n",
    "[Stage1 system design](Stage1_sys_design.png)\n",
    "\n",
    "[Stage1 example design](Stage1_example.png)"
   ]
  },
  {
   "cell_type": "markdown",
   "id": "680b636d",
   "metadata": {
    "id": "680b636d"
   },
   "source": [
    "### 3.1 - Import the libraries\n",
    "\n",
    "Let's start by importing the libraries that we'll require for this project. Following are the ones:\n",
    "- openai\n",
    "- pandas\n",
    "- os, json, ast\n",
    "\n",
    "Make sure the api key is stored in the text file `OPENAI_API_Key.txt`."
   ]
  },
  {
   "cell_type": "code",
   "execution_count": 89,
   "id": "65e05f4f",
   "metadata": {
    "id": "65e05f4f"
   },
   "outputs": [
    {
     "data": {
      "text/plain": [
       "False"
      ]
     },
     "execution_count": 89,
     "metadata": {},
     "output_type": "execute_result"
    }
   ],
   "source": [
    "# For handling file operations, JSON, and string manipulations\n",
    "import os, json, ast\n",
    "from IPython.display import Markdown\n",
    "\n",
    "# For interacting with the OpenAI API\n",
    "import openai\n",
    "\n",
    "# For retrying failed requests with exponential backoff\n",
    "from tenacity import retry, wait_random_exponential, stop_after_attempt\n",
    "\n",
    "# For loading environment variables from a .env file\n",
    "from dotenv import load_dotenv\n",
    "\n",
    "# Load environment variables from .env file\n",
    "load_dotenv()"
   ]
  },
  {
   "cell_type": "code",
   "execution_count": 9,
   "id": "0b186ebc",
   "metadata": {},
   "outputs": [],
   "source": [
    "openai.api_key=os.getenv('OPENAI_API_KEY')"
   ]
  },
  {
   "cell_type": "code",
   "execution_count": 16,
   "id": "SF3vqhzHAJx3",
   "metadata": {
    "id": "SF3vqhzHAJx3"
   },
   "outputs": [],
   "source": [
    "# # If you're using the default OpenAI API key, uncomment the following lines:\n",
    "#openai.api_key = open(\"OPENAI_API_Key.txt\", \"r\").read().strip()\n",
    "#os.environ['OPENAI_API_KEY'] = openai.api_key"
   ]
  },
  {
   "cell_type": "code",
   "execution_count": 17,
   "id": "c67a2ea6",
   "metadata": {
    "id": "c67a2ea6"
   },
   "outputs": [],
   "source": [
    "# # Recall that messages to the LLM is a list of dicts containing system_message, user_input and assistant_message\n",
    "# conversation = [{\"role\": \"system\", \"content\": system_message},\n",
    "#                 {\"role\": \"user\", \"content\": user_input},\n",
    "#                 {\"role\": \"assistant\", \"content\": assistant_message}]"
   ]
  },
  {
   "cell_type": "markdown",
   "id": "f6597837",
   "metadata": {
    "id": "f6597837"
   },
   "source": [
    "### 3.2 - Implementing Intent Clarity and Intent Confirmation Layers\n",
    "\n",
    "Let's start with the first part of the implementation - building the `intent clarity` and `intent confirmation` layers. As mentioned earlier, this layer helps in identifying the user requirements and passing it on to the product matching layer. Here are the functions that we would be using for building these layers:\n",
    "\n",
    "- `initialize_conversation()`\n"
   ]
  },
  {
   "cell_type": "markdown",
   "id": "muGgwBrxxr58",
   "metadata": {
    "id": "muGgwBrxxr58"
   },
   "source": [
    "### `initialize_conversation()`:\n",
    "This initializes the variable conversation with the system message. Using prompt engineering and chain of thought reasoning, the function will enable the chatbot to keep asking questions until the user requirements have been captured in a dictionary. It also includes Few Shot Prompting(sample conversation between the user and assistant) to align the model about user and assistant responses at each step."
   ]
  },
  {
   "cell_type": "markdown",
   "id": "1piZKLXpP_Hf",
   "metadata": {
    "id": "1piZKLXpP_Hf"
   },
   "source": [
    "\n",
    "\n",
    "```\n",
    "def initialize_conversation():\n",
    "    '''\n",
    "    Initializes a conversation for an intelligent laptop gadget expert system.\n",
    "\n",
    "    Returns:\n",
    "        list: [{\"role\": \"system\", \"content\": system_message}]\n",
    "        A list containing a dictionary representing the system's initial message.\n",
    "        \n",
    "    The function initializes a conversation with the user, providing instructions, examples,\n",
    "    and a sample conversation to guide the user in interacting with the system. The system's\n",
    "    initial message includes information about the purpose of the conversation, instructions\n",
    "    for filling in user profile details, guidelines for asking questions, and a sample\n",
    "    conversation demonstrating how the interaction with the system progresses.\n",
    "\n",
    "    The system expects the user to provide information related to their laptop requirements,\n",
    "    including GPU intensity, display quality, portability, multitasking needs, processing\n",
    "    speed, and budget. The provided information is used to update a predefined dictionary\n",
    "    representing the user's profile. The system emphasizes extracting specific details from\n",
    "    the user's responses to accurately fill in the dictionary values.\n",
    "\n",
    "    The conversation flow involves three main thoughts:\n",
    "    - Thought 1: Understanding the user's profile and filling confident values.\n",
    "    - Thought 2: Filling values for remaining keys based on gathered information.\n",
    "    - Thought 3: Confirming and verifying updated dictionary values.\n",
    "\n",
    "    Users are encouraged to engage in a meaningful conversation with the system to ensure\n",
    "    accurate profile representation and tailored recommendations for the best laptop choice.\n",
    "\n",
    "    Usage:\n",
    "        # Initialise the conversation\n",
    "        conversation = initialize_conversation()\n",
    "        # Print the conversation\n",
    "        print(conversation)\n",
    "    '''\n",
    "    ```\n",
    "\n"
   ]
  },
  {
   "cell_type": "code",
   "execution_count": 119,
   "id": "431f76f6",
   "metadata": {
    "id": "431f76f6"
   },
   "outputs": [],
   "source": [
    "def initialize_conversation():\n",
    "    '''\n",
    "    Returns a list [{\"role\": \"system\", \"content\": system_message}]\n",
    "    '''\n",
    "    delimiter = \"####\"\n",
    "\n",
    "    example_user_dict = {'GPU intensity': \"high\",\n",
    "                        'Display quality':\"high\",\n",
    "                        'Portability': \"low\",\n",
    "                        'Multitasking': \"high\",\n",
    "                        'Processing speed': \"high\",\n",
    "                        'Budget': \"150000\"}\n",
    "\n",
    "    example_user_req = {'GPU intensity': \"_\",\n",
    "                        'Display quality': \"_\",\n",
    "                        'Portability': \"_\",\n",
    "                        'Multitasking': \"_\",\n",
    "                        'Processing speed': \"_\",\n",
    "                        'Budget': \"_\"}\n",
    "\n",
    "    system_message = f\"\"\"\n",
    "    You are an intelligent laptop gadget expert and your goal is to find the best laptop for a user.\n",
    "    You need to ask relevant questions and understand the user profile by analysing the user's responses.\n",
    "    You final objective is to fill the values for the different keys ('GPU intensity','Display quality','Portability','Multitasking','Processing speed','Budget') in the python dictionary and be confident of the values.\n",
    "    These key value pairs define the user's profile.\n",
    "    The python dictionary looks like this\n",
    "    {{'GPU intensity': 'values','Display quality': 'values','Portability': 'values','Multitasking': 'values','Processing speed': 'values','Budget': 'values'}}\n",
    "    The value for 'Budget' should contain a numerical value extracted from the user's response. Ignore any non-numerical characters and extract only the numerical portion.\n",
    "    The values for all keys, except 'Budget', should be 'low', 'medium', or 'high' based on the importance of the corresponding keys, as stated by user.\n",
    "    All the values in the example dictionary are only representative values.\n",
    "    {delimiter}\n",
    "    Here are some instructions around the values for the different keys. If you do not follow this, you'll be heavily penalised:\n",
    "    - The values for all keys, except 'Budget', should strictly be either 'low', 'medium', or 'high' based on the importance of the corresponding keys, as stated by user.\n",
    "    - The value for 'Budget' should always be extracted as a numerical value (integer or float), even if the user's input contains:\n",
    "        - Numerical values as interger or float (e.g., 35000, , 77356.80 )\n",
    "        - Numerical values as strings (e.g., \"50000\", \"70,000\", '1,40,000')\n",
    "        - Currency symbols (e.g., \"$50000\", \"40000 ₹\", \"€ 90000\") or Currency words (e.g., \"INR 40000\", \"56,000 USD\", \"50000 EURO\")\n",
    "    - Steps to handle the Budget value:\n",
    "        - Extract the numerical portion from the input.\n",
    "        - Ignore any non-numeric characters like currency symbols, commas, or words.\n",
    "        - Convert the extracted number into a proper numerical type (e.g., integer or float).\n",
    "    - 'Budget' value needs to be greater than or equal to 25000 INR. If the user says less than that, please mention that there are no laptops in that range.\n",
    "    - Do not randomly assign values to any of the keys.\n",
    "    - The values need to be inferred from the user's response.\n",
    "    {delimiter}\n",
    "\n",
    "    To fill the dictionary, you need to have the following chain of thoughts:\n",
    "    Follow the chain-of-thoughts below and only output the final updated python dictionary for the keys as described in {example_user_req}. \\n\n",
    "    {delimiter}\n",
    "    Thought 1: Ask a question to understand the user's profile and requirements. \\n\n",
    "    If their primary use for the laptop is unclear. Ask followup questions to understand their needs.\n",
    "    You are trying to fill the values of all the keys {{'GPU intensity','Display quality','Portability','Multitasking','Processing speed','Budget'}} in the python dictionary by understanding the user requirements.\n",
    "    Identify the keys for which you can fill the values confidently using the understanding. \\n\n",
    "    Remember the instructions around the values for the different keys.\n",
    "    If the necessary information has been extracted, only then proceed to the next step. \\n\n",
    "    Otherwise, rephrase the question to capture their profile clearly. \\n\n",
    "\n",
    "    {delimiter}\n",
    "    Thought 2: Now, you are trying to fill the values for the rest of the keys which you couldn't in the previous step.\n",
    "    Remember the instructions around the values for the different keys.\n",
    "    Ask questions you might have for all the keys to strengthen your understanding of the user's profile.\n",
    "    If yes, move to the next Thought. If no, ask question on the keys whose values you are unsure of. \\n\n",
    "    It is a good practice to ask question with a sound logic as opposed to directly citing the key you want to understand value for.\n",
    "    {delimiter}\n",
    "\n",
    "    {delimiter}\n",
    "    Thought 3: Check if you have correctly updated the values for the different keys in the python dictionary.\n",
    "    If you are not confident about any of the values, ask clarifying questions.\n",
    "    {delimiter}\n",
    "\n",
    "    {delimiter}\n",
    "    Here is a sample conversation between the user and assistant:\n",
    "    User: \"Hi, I am an editor.\"\n",
    "    Assistant: \"Great! As an editor, you likely require a laptop that can handle demanding tasks. Hence, the laptop should have high multitasking capability. You would also need a high end display for better visuals and editing. May I know what kind of work do you primarily focus on? Are you more involved in video editing, photo editing, or both? Understanding the specific type of editing work will help me tailor my recommendations accordingly. Let me know if my understanding is correct until now.\"\n",
    "    User: \"I primarily work with After Effects.\"\n",
    "    Assistant: \"Thank you for providing that information. Working with After Effects involves working with graphics, animations, and rendering, which will require high GPU. Do you work with high-resolution media files, such as 4K videos or RAW photos? Understanding your file sizes will help determine the storage capacity and processing power needed.\"\n",
    "    User: \"Yes, sometimes I work with 4K videos as well.\"\n",
    "    Assistant: \"Thank you for the information. Processing 4K vidoes will require a good processor and high GPU. I think we have already determined earlier that you need a high GPU. To ensure I have a complete understanding of your needs, I have one more question: Are you frequently on the go and require a laptop that is lightweight and easy to carry, or do you primarily work from a stationary location?\"\n",
    "    User: \"Yes, sometimes I travel but do not carry my laptop.\"\n",
    "    Assistant:\"Could you kindly let me know your budget for the laptop? This will help me find options that fit within your price range while meeting the specified requirements.\"\n",
    "    User: \"my max budget is 1.5lakh inr\"\n",
    "    Assistant: \"{example_user_dict}\"\n",
    "    {delimiter}\n",
    "\n",
    "    Start with a short welcome message and encourage the user to share their requirements.\n",
    "    \"\"\"\n",
    "    \n",
    "    conversation = [{\"role\": \"system\", \"content\": system_message}]\n",
    "\n",
    "    return conversation"
   ]
  },
  {
   "cell_type": "code",
   "execution_count": 120,
   "id": "ytJ1tPNDMtZF",
   "metadata": {
    "id": "ytJ1tPNDMtZF"
   },
   "outputs": [
    {
     "data": {
      "text/markdown": [
       "\n",
       "    You are an intelligent laptop gadget expert and your goal is to find the best laptop for a user.\n",
       "    You need to ask relevant questions and understand the user profile by analysing the user's responses.\n",
       "    You final objective is to fill the values for the different keys ('GPU intensity','Display quality','Portability','Multitasking','Processing speed','Budget') in the python dictionary and be confident of the values.\n",
       "    These key value pairs define the user's profile.\n",
       "    The python dictionary looks like this\n",
       "    {'GPU intensity': 'values','Display quality': 'values','Portability': 'values','Multitasking': 'values','Processing speed': 'values','Budget': 'values'}\n",
       "    The value for 'Budget' should contain a numerical value extracted from the user's response. Ignore any non-numerical characters and extract only the numerical portion.\n",
       "    The values for all keys, except 'Budget', should be 'low', 'medium', or 'high' based on the importance of the corresponding keys, as stated by user.\n",
       "    All the values in the example dictionary are only representative values.\n",
       "    ####\n",
       "    Here are some instructions around the values for the different keys. If you do not follow this, you'll be heavily penalised:\n",
       "    - The values for all keys, except 'Budget', should strictly be either 'low', 'medium', or 'high' based on the importance of the corresponding keys, as stated by user.\n",
       "    - The value for 'Budget' should always be extracted as a numerical value (integer or float), even if the user's input contains:\n",
       "        - Numerical values as interger or float (e.g., 35000, , 77356.80 )\n",
       "        - Numerical values as strings (e.g., \"50000\", \"70,000\", '1,40,000')\n",
       "        - Currency symbols (e.g., \"$50000\", \"40000 ₹\", \"€ 90000\") or Currency words (e.g., \"INR 40000\", \"56,000 USD\", \"50000 EURO\")\n",
       "    - Steps to handle the Budget value:\n",
       "        - Extract the numerical portion from the input.\n",
       "        - Ignore any non-numeric characters like currency symbols, commas, or words.\n",
       "        - Convert the extracted number into a proper numerical type (e.g., integer or float).\n",
       "    - 'Budget' value needs to be greater than or equal to 25000 INR. If the user says less than that, please mention that there are no laptops in that range.\n",
       "    - Do not randomly assign values to any of the keys.\n",
       "    - The values need to be inferred from the user's response.\n",
       "    ####\n",
       "\n",
       "    To fill the dictionary, you need to have the following chain of thoughts:\n",
       "    Follow the chain-of-thoughts below and only output the final updated python dictionary for the keys as described in {'GPU intensity': '_', 'Display quality': '_', 'Portability': '_', 'Multitasking': '_', 'Processing speed': '_', 'Budget': '_'}. \n",
       "\n",
       "    ####\n",
       "    Thought 1: Ask a question to understand the user's profile and requirements. \n",
       "\n",
       "    If their primary use for the laptop is unclear. Ask followup questions to understand their needs.\n",
       "    You are trying to fill the values of all the keys {'GPU intensity','Display quality','Portability','Multitasking','Processing speed','Budget'} in the python dictionary by understanding the user requirements.\n",
       "    Identify the keys for which you can fill the values confidently using the understanding. \n",
       "\n",
       "    Remember the instructions around the values for the different keys.\n",
       "    If the necessary information has been extracted, only then proceed to the next step. \n",
       "\n",
       "    Otherwise, rephrase the question to capture their profile clearly. \n",
       "\n",
       "\n",
       "    ####\n",
       "    Thought 2: Now, you are trying to fill the values for the rest of the keys which you couldn't in the previous step.\n",
       "    Remember the instructions around the values for the different keys.\n",
       "    Ask questions you might have for all the keys to strengthen your understanding of the user's profile.\n",
       "    If yes, move to the next Thought. If no, ask question on the keys whose values you are unsure of. \n",
       "\n",
       "    It is a good practice to ask question with a sound logic as opposed to directly citing the key you want to understand value for.\n",
       "    ####\n",
       "\n",
       "    ####\n",
       "    Thought 3: Check if you have correctly updated the values for the different keys in the python dictionary.\n",
       "    If you are not confident about any of the values, ask clarifying questions.\n",
       "    ####\n",
       "\n",
       "    ####\n",
       "    Here is a sample conversation between the user and assistant:\n",
       "    User: \"Hi, I am an editor.\"\n",
       "    Assistant: \"Great! As an editor, you likely require a laptop that can handle demanding tasks. Hence, the laptop should have high multitasking capability. You would also need a high end display for better visuals and editing. May I know what kind of work do you primarily focus on? Are you more involved in video editing, photo editing, or both? Understanding the specific type of editing work will help me tailor my recommendations accordingly. Let me know if my understanding is correct until now.\"\n",
       "    User: \"I primarily work with After Effects.\"\n",
       "    Assistant: \"Thank you for providing that information. Working with After Effects involves working with graphics, animations, and rendering, which will require high GPU. Do you work with high-resolution media files, such as 4K videos or RAW photos? Understanding your file sizes will help determine the storage capacity and processing power needed.\"\n",
       "    User: \"Yes, sometimes I work with 4K videos as well.\"\n",
       "    Assistant: \"Thank you for the information. Processing 4K vidoes will require a good processor and high GPU. I think we have already determined earlier that you need a high GPU. To ensure I have a complete understanding of your needs, I have one more question: Are you frequently on the go and require a laptop that is lightweight and easy to carry, or do you primarily work from a stationary location?\"\n",
       "    User: \"Yes, sometimes I travel but do not carry my laptop.\"\n",
       "    Assistant:\"Could you kindly let me know your budget for the laptop? This will help me find options that fit within your price range while meeting the specified requirements.\"\n",
       "    User: \"my max budget is 1.5lakh inr\"\n",
       "    Assistant: \"{'GPU intensity': 'high', 'Display quality': 'high', 'Portability': 'low', 'Multitasking': 'high', 'Processing speed': 'high', 'Budget': '150000'}\"\n",
       "    ####\n",
       "\n",
       "    Start with a short welcome message and encourage the user to share their requirements.\n",
       "    "
      ],
      "text/plain": [
       "<IPython.core.display.Markdown object>"
      ]
     },
     "execution_count": 120,
     "metadata": {},
     "output_type": "execute_result"
    }
   ],
   "source": [
    "# Let's initialise conversation\n",
    "debug_conversation = initialize_conversation()\n",
    "Markdown(debug_conversation[0][\"content\"])"
   ]
  },
  {
   "cell_type": "markdown",
   "id": "00f77346",
   "metadata": {
    "id": "00f77346"
   },
   "source": [
    "Let's now look at the next function.\n",
    "- `get_chat_completions()`: This takes the ongoing conversation as the input and returns the response by the assistant. We'll use the Chat Completions function for performing LLM calls to OpenAI."
   ]
  },
  {
   "cell_type": "markdown",
   "id": "ucpdMHI5_jEX",
   "metadata": {
    "id": "ucpdMHI5_jEX"
   },
   "source": [
    "### `get_chat_completions()`:\n",
    "\n",
    "This function perform LLM call using the Chat Completions API to get the LLM response."
   ]
  },
  {
   "cell_type": "markdown",
   "id": "ycKlHDVNsMTY",
   "metadata": {
    "id": "ycKlHDVNsMTY"
   },
   "source": [
    "```\n",
    "def get_chat_completions(input):\n",
    "    \"\"\"\n",
    "    Generate chat completions using OpenAI's GPT-3.5-turbo model.\n",
    "\n",
    "    Parameters:\n",
    "    - input: list of dictionaries representing chat messages to prompt the model.\n",
    "    - json_format: boolean, specifies whether the output should be in JSON format (default: False).\n",
    "\n",
    "    Returns:\n",
    "    - output: The generated chat completion response. If json_format is True, returns a JSON object.\n",
    "    \"\"\"\n",
    "```"
   ]
  },
  {
   "cell_type": "code",
   "execution_count": 396,
   "id": "dYShGKumNEIM",
   "metadata": {
    "id": "dYShGKumNEIM"
   },
   "outputs": [],
   "source": [
    "# Define a Chat Completions API call\n",
    "def get_chat_completions(input, json_format = False):\n",
    "    \"\"\"\n",
    "    Generate chat completions using OpenAI's GPT-3.5-turbo model.\n",
    "\n",
    "    Parameters:\n",
    "    - input: list of dictionaries representing chat messages to prompt the model.\n",
    "    - json_format: boolean, specifies whether the output should be in JSON format (default: False).\n",
    "\n",
    "    Returns:\n",
    "    - output: The generated chat completion response. If json_format is True, returns a JSON object.\n",
    "    \n",
    "    \"\"\"\n",
    "    \n",
    "    model=\"gpt-4o-mini\"\n",
    "    system_message_json_output = \"\"\" \\n Output format : <<. Return the final result or output in JSON format. Return only the extracted Python dictionary.>> \"\"\"\n",
    "    if json_format == True:\n",
    "        input[0][\"content\"] += system_message_json_output\n",
    "        chat_completion_json= openai.chat.completions.create(\n",
    "            model=model,\n",
    "            messages=input,\n",
    "            response_format={\"type\" : \"json_object\"},\n",
    "            n=1,\n",
    "            seed=1234,\n",
    "            max_completion_tokens=500,\n",
    "            temperature=0.3\n",
    "        )\n",
    "        try:\n",
    "            output=json.loads(chat_completion_json.choices[0].message.content)\n",
    "        except json.JSONDecodeError as e :\n",
    "            print(\"Error decoding JSON:\",e)\n",
    "        \n",
    "    else :\n",
    "        chat_completion_json= openai.chat.completions.create(\n",
    "            model=model,\n",
    "            messages=input,\n",
    "            n=1,\n",
    "            seed=2345,\n",
    "            max_completion_tokens=500,\n",
    "            temperature=0.3\n",
    "        )\n",
    "        output=chat_completion_json.choices[0].message.content\n",
    "\n",
    "    return output\n",
    "    "
   ]
  },
  {
   "cell_type": "markdown",
   "id": "I6gq3hIj6XEr",
   "metadata": {
    "id": "I6gq3hIj6XEr"
   },
   "source": [
    "### iterate_response() - Helper Function:\n",
    "We've created a small helper test function to ensure the model's response is consistent.\n",
    "Uncomment the code blocks and run the function `iterate_response(response)` to check if the response of the `intent_confirmation_layer`is consistent.}"
   ]
  },
  {
   "cell_type": "code",
   "execution_count": 412,
   "id": "3c369bd0",
   "metadata": {
    "id": "3c369bd0"
   },
   "outputs": [],
   "source": [
    "def iterate_llm_response(funct, debug_response, num=10):\n",
    "    \"\"\"\n",
    "    Calls a specified function repeatedly and prints the results.\n",
    "\n",
    "    This function is designed to test the consistency of a response from a given function.\n",
    "    It calls the function multiple times (default is 10) and prints out the iteration count,\n",
    "    the function's response(s).\n",
    "\n",
    "    Args:\n",
    "        funct (function): The function to be tested. This function should accept a single argument\n",
    "                          and return the response value(s).\n",
    "        debug_response (dict): The input argument to be passed to 'funct' on each call.\n",
    "        num (int, optional): The number of times 'funct' will be called. Defaults to 10.\n",
    "\n",
    "    Returns:\n",
    "        This function only returns the results to the console.\n",
    "\n",
    "    Example usage: Test the consistency of responses from 'intent_confirmation_layer' function\n",
    "    iterate_llm_response(get_chat_completions, messages)\n",
    "    \"\"\"\n",
    "    print(f\"Input Prompt : \\n{debug_response} \")\n",
    "    print(\"===\"*30)\n",
    "    i = 0  # Initialize counter\n",
    "    while i<num :\n",
    "        print(f\" Start Execution - Iteration Number : {i+1} \")\n",
    "        response = funct(debug_response)\n",
    "        print(response)\n",
    "        print(\"===\"*30)\n",
    "        \n",
    "        # Increment the counter\n",
    "        i+=1\n",
    "        "
   ]
  },
  {
   "cell_type": "markdown",
   "id": "af181448",
   "metadata": {
    "id": "af181448"
   },
   "source": [
    "Let's pass the initialized conversation `debug_conversation` and see what is the assistant's response."
   ]
  },
  {
   "cell_type": "code",
   "execution_count": 123,
   "id": "7fca12a4",
   "metadata": {
    "id": "7fca12a4"
   },
   "outputs": [],
   "source": [
    "debug_user_input = \"Hi, I am Anand. I need a laptop for coding.\""
   ]
  },
  {
   "cell_type": "code",
   "execution_count": 124,
   "id": "h1vip-2uj_M7",
   "metadata": {
    "id": "h1vip-2uj_M7"
   },
   "outputs": [
    {
     "data": {
      "text/markdown": [
       "Hi, I am Anand. I need a laptop for coding."
      ],
      "text/plain": [
       "<IPython.core.display.Markdown object>"
      ]
     },
     "execution_count": 124,
     "metadata": {},
     "output_type": "execute_result"
    }
   ],
   "source": [
    "debug_conversation.append({\"role\": \"user\", \"content\": debug_user_input})\n",
    "#print(debug_conversation[0][\"content\"]) # System Message\n",
    "Markdown(debug_conversation[1][\"content\"]) # User Input"
   ]
  },
  {
   "cell_type": "code",
   "execution_count": 125,
   "id": "aZyiegRPOLJC",
   "metadata": {
    "id": "aZyiegRPOLJC"
   },
   "outputs": [
    {
     "data": {
      "text/plain": [
       "[{'role': 'system',\n",
       "  'content': '\\n    You are an intelligent laptop gadget expert and your goal is to find the best laptop for a user.\\n    You need to ask relevant questions and understand the user profile by analysing the user\\'s responses.\\n    You final objective is to fill the values for the different keys (\\'GPU intensity\\',\\'Display quality\\',\\'Portability\\',\\'Multitasking\\',\\'Processing speed\\',\\'Budget\\') in the python dictionary and be confident of the values.\\n    These key value pairs define the user\\'s profile.\\n    The python dictionary looks like this\\n    {\\'GPU intensity\\': \\'values\\',\\'Display quality\\': \\'values\\',\\'Portability\\': \\'values\\',\\'Multitasking\\': \\'values\\',\\'Processing speed\\': \\'values\\',\\'Budget\\': \\'values\\'}\\n    The value for \\'Budget\\' should contain a numerical value extracted from the user\\'s response. Ignore any non-numerical characters and extract only the numerical portion.\\n    The values for all keys, except \\'Budget\\', should be \\'low\\', \\'medium\\', or \\'high\\' based on the importance of the corresponding keys, as stated by user.\\n    All the values in the example dictionary are only representative values.\\n    ####\\n    Here are some instructions around the values for the different keys. If you do not follow this, you\\'ll be heavily penalised:\\n    - The values for all keys, except \\'Budget\\', should strictly be either \\'low\\', \\'medium\\', or \\'high\\' based on the importance of the corresponding keys, as stated by user.\\n    - The value for \\'Budget\\' should always be extracted as a numerical value (integer or float), even if the user\\'s input contains:\\n        - Numerical values as interger or float (e.g., 35000, , 77356.80 )\\n        - Numerical values as strings (e.g., \"50000\", \"70,000\", \\'1,40,000\\')\\n        - Currency symbols (e.g., \"$50000\", \"40000 ₹\", \"€ 90000\") or Currency words (e.g., \"INR 40000\", \"56,000 USD\", \"50000 EURO\")\\n    - Steps to handle the Budget value:\\n        - Extract the numerical portion from the input.\\n        - Ignore any non-numeric characters like currency symbols, commas, or words.\\n        - Convert the extracted number into a proper numerical type (e.g., integer or float).\\n    - \\'Budget\\' value needs to be greater than or equal to 25000 INR. If the user says less than that, please mention that there are no laptops in that range.\\n    - Do not randomly assign values to any of the keys.\\n    - The values need to be inferred from the user\\'s response.\\n    ####\\n\\n    To fill the dictionary, you need to have the following chain of thoughts:\\n    Follow the chain-of-thoughts below and only output the final updated python dictionary for the keys as described in {\\'GPU intensity\\': \\'_\\', \\'Display quality\\': \\'_\\', \\'Portability\\': \\'_\\', \\'Multitasking\\': \\'_\\', \\'Processing speed\\': \\'_\\', \\'Budget\\': \\'_\\'}. \\n\\n    ####\\n    Thought 1: Ask a question to understand the user\\'s profile and requirements. \\n\\n    If their primary use for the laptop is unclear. Ask followup questions to understand their needs.\\n    You are trying to fill the values of all the keys {\\'GPU intensity\\',\\'Display quality\\',\\'Portability\\',\\'Multitasking\\',\\'Processing speed\\',\\'Budget\\'} in the python dictionary by understanding the user requirements.\\n    Identify the keys for which you can fill the values confidently using the understanding. \\n\\n    Remember the instructions around the values for the different keys.\\n    If the necessary information has been extracted, only then proceed to the next step. \\n\\n    Otherwise, rephrase the question to capture their profile clearly. \\n\\n\\n    ####\\n    Thought 2: Now, you are trying to fill the values for the rest of the keys which you couldn\\'t in the previous step.\\n    Remember the instructions around the values for the different keys.\\n    Ask questions you might have for all the keys to strengthen your understanding of the user\\'s profile.\\n    If yes, move to the next Thought. If no, ask question on the keys whose values you are unsure of. \\n\\n    It is a good practice to ask question with a sound logic as opposed to directly citing the key you want to understand value for.\\n    ####\\n\\n    ####\\n    Thought 3: Check if you have correctly updated the values for the different keys in the python dictionary.\\n    If you are not confident about any of the values, ask clarifying questions.\\n    ####\\n\\n    ####\\n    Here is a sample conversation between the user and assistant:\\n    User: \"Hi, I am an editor.\"\\n    Assistant: \"Great! As an editor, you likely require a laptop that can handle demanding tasks. Hence, the laptop should have high multitasking capability. You would also need a high end display for better visuals and editing. May I know what kind of work do you primarily focus on? Are you more involved in video editing, photo editing, or both? Understanding the specific type of editing work will help me tailor my recommendations accordingly. Let me know if my understanding is correct until now.\"\\n    User: \"I primarily work with After Effects.\"\\n    Assistant: \"Thank you for providing that information. Working with After Effects involves working with graphics, animations, and rendering, which will require high GPU. Do you work with high-resolution media files, such as 4K videos or RAW photos? Understanding your file sizes will help determine the storage capacity and processing power needed.\"\\n    User: \"Yes, sometimes I work with 4K videos as well.\"\\n    Assistant: \"Thank you for the information. Processing 4K vidoes will require a good processor and high GPU. I think we have already determined earlier that you need a high GPU. To ensure I have a complete understanding of your needs, I have one more question: Are you frequently on the go and require a laptop that is lightweight and easy to carry, or do you primarily work from a stationary location?\"\\n    User: \"Yes, sometimes I travel but do not carry my laptop.\"\\n    Assistant:\"Could you kindly let me know your budget for the laptop? This will help me find options that fit within your price range while meeting the specified requirements.\"\\n    User: \"my max budget is 1.5lakh inr\"\\n    Assistant: \"{\\'GPU intensity\\': \\'high\\', \\'Display quality\\': \\'high\\', \\'Portability\\': \\'low\\', \\'Multitasking\\': \\'high\\', \\'Processing speed\\': \\'high\\', \\'Budget\\': \\'150000\\'}\"\\n    ####\\n\\n    Start with a short welcome message and encourage the user to share their requirements.\\n    '},\n",
       " {'role': 'user', 'content': 'Hi, I am Anand. I need a laptop for coding.'}]"
      ]
     },
     "metadata": {},
     "output_type": "display_data"
    }
   ],
   "source": [
    "# Let's look at the debug_conversation list\n",
    "display(debug_conversation)"
   ]
  },
  {
   "cell_type": "code",
   "execution_count": 126,
   "id": "fdd0a9ed",
   "metadata": {
    "id": "fdd0a9ed"
   },
   "outputs": [
    {
     "data": {
      "text/plain": [
       "\"Hello Anand! Great to hear that you're looking for a laptop for coding. To help me narrow down the best options for you, could you please tell me what kind of coding you do? For example, are you focusing on web development, software development, data science, or something else? Additionally, do you often work on large projects that require multitasking or heavy resource usage?\""
      ]
     },
     "metadata": {},
     "output_type": "display_data"
    }
   ],
   "source": [
    "# Getting the response from the LLM Assistant by passing the conversation to the Chat Completions API\n",
    "debug_response_assistant = get_chat_completions(debug_conversation)\n",
    "display(debug_response_assistant)"
   ]
  },
  {
   "cell_type": "code",
   "execution_count": 127,
   "id": "c83d86c2-c0a9-4f8f-9fa6-b411d49d78ef",
   "metadata": {},
   "outputs": [
    {
     "data": {
      "text/markdown": [
       "Hello Anand! Great to hear that you're looking for a laptop for coding. To help me narrow down the best options for you, could you please tell me what kind of coding you do? For example, are you focusing on web development, software development, data science, or something else? Additionally, do you often work on large projects that require multitasking or heavy resource usage?"
      ],
      "text/plain": [
       "<IPython.core.display.Markdown object>"
      ]
     },
     "execution_count": 127,
     "metadata": {},
     "output_type": "execute_result"
    }
   ],
   "source": [
    "Markdown(debug_response_assistant)"
   ]
  },
  {
   "cell_type": "markdown",
   "id": "7dca90c2",
   "metadata": {
    "id": "7dca90c2"
   },
   "source": [
    "Let's play around a bit and add the following user's input `debug_user_input` to the conversation `debug_conversation` and see what the assistant responds with."
   ]
  },
  {
   "cell_type": "code",
   "execution_count": 128,
   "id": "kN2nZh_dkT2v",
   "metadata": {
    "id": "kN2nZh_dkT2v"
   },
   "outputs": [
    {
     "data": {
      "text/plain": [
       "[{'role': 'system',\n",
       "  'content': '\\n    You are an intelligent laptop gadget expert and your goal is to find the best laptop for a user.\\n    You need to ask relevant questions and understand the user profile by analysing the user\\'s responses.\\n    You final objective is to fill the values for the different keys (\\'GPU intensity\\',\\'Display quality\\',\\'Portability\\',\\'Multitasking\\',\\'Processing speed\\',\\'Budget\\') in the python dictionary and be confident of the values.\\n    These key value pairs define the user\\'s profile.\\n    The python dictionary looks like this\\n    {\\'GPU intensity\\': \\'values\\',\\'Display quality\\': \\'values\\',\\'Portability\\': \\'values\\',\\'Multitasking\\': \\'values\\',\\'Processing speed\\': \\'values\\',\\'Budget\\': \\'values\\'}\\n    The value for \\'Budget\\' should contain a numerical value extracted from the user\\'s response. Ignore any non-numerical characters and extract only the numerical portion.\\n    The values for all keys, except \\'Budget\\', should be \\'low\\', \\'medium\\', or \\'high\\' based on the importance of the corresponding keys, as stated by user.\\n    All the values in the example dictionary are only representative values.\\n    ####\\n    Here are some instructions around the values for the different keys. If you do not follow this, you\\'ll be heavily penalised:\\n    - The values for all keys, except \\'Budget\\', should strictly be either \\'low\\', \\'medium\\', or \\'high\\' based on the importance of the corresponding keys, as stated by user.\\n    - The value for \\'Budget\\' should always be extracted as a numerical value (integer or float), even if the user\\'s input contains:\\n        - Numerical values as interger or float (e.g., 35000, , 77356.80 )\\n        - Numerical values as strings (e.g., \"50000\", \"70,000\", \\'1,40,000\\')\\n        - Currency symbols (e.g., \"$50000\", \"40000 ₹\", \"€ 90000\") or Currency words (e.g., \"INR 40000\", \"56,000 USD\", \"50000 EURO\")\\n    - Steps to handle the Budget value:\\n        - Extract the numerical portion from the input.\\n        - Ignore any non-numeric characters like currency symbols, commas, or words.\\n        - Convert the extracted number into a proper numerical type (e.g., integer or float).\\n    - \\'Budget\\' value needs to be greater than or equal to 25000 INR. If the user says less than that, please mention that there are no laptops in that range.\\n    - Do not randomly assign values to any of the keys.\\n    - The values need to be inferred from the user\\'s response.\\n    ####\\n\\n    To fill the dictionary, you need to have the following chain of thoughts:\\n    Follow the chain-of-thoughts below and only output the final updated python dictionary for the keys as described in {\\'GPU intensity\\': \\'_\\', \\'Display quality\\': \\'_\\', \\'Portability\\': \\'_\\', \\'Multitasking\\': \\'_\\', \\'Processing speed\\': \\'_\\', \\'Budget\\': \\'_\\'}. \\n\\n    ####\\n    Thought 1: Ask a question to understand the user\\'s profile and requirements. \\n\\n    If their primary use for the laptop is unclear. Ask followup questions to understand their needs.\\n    You are trying to fill the values of all the keys {\\'GPU intensity\\',\\'Display quality\\',\\'Portability\\',\\'Multitasking\\',\\'Processing speed\\',\\'Budget\\'} in the python dictionary by understanding the user requirements.\\n    Identify the keys for which you can fill the values confidently using the understanding. \\n\\n    Remember the instructions around the values for the different keys.\\n    If the necessary information has been extracted, only then proceed to the next step. \\n\\n    Otherwise, rephrase the question to capture their profile clearly. \\n\\n\\n    ####\\n    Thought 2: Now, you are trying to fill the values for the rest of the keys which you couldn\\'t in the previous step.\\n    Remember the instructions around the values for the different keys.\\n    Ask questions you might have for all the keys to strengthen your understanding of the user\\'s profile.\\n    If yes, move to the next Thought. If no, ask question on the keys whose values you are unsure of. \\n\\n    It is a good practice to ask question with a sound logic as opposed to directly citing the key you want to understand value for.\\n    ####\\n\\n    ####\\n    Thought 3: Check if you have correctly updated the values for the different keys in the python dictionary.\\n    If you are not confident about any of the values, ask clarifying questions.\\n    ####\\n\\n    ####\\n    Here is a sample conversation between the user and assistant:\\n    User: \"Hi, I am an editor.\"\\n    Assistant: \"Great! As an editor, you likely require a laptop that can handle demanding tasks. Hence, the laptop should have high multitasking capability. You would also need a high end display for better visuals and editing. May I know what kind of work do you primarily focus on? Are you more involved in video editing, photo editing, or both? Understanding the specific type of editing work will help me tailor my recommendations accordingly. Let me know if my understanding is correct until now.\"\\n    User: \"I primarily work with After Effects.\"\\n    Assistant: \"Thank you for providing that information. Working with After Effects involves working with graphics, animations, and rendering, which will require high GPU. Do you work with high-resolution media files, such as 4K videos or RAW photos? Understanding your file sizes will help determine the storage capacity and processing power needed.\"\\n    User: \"Yes, sometimes I work with 4K videos as well.\"\\n    Assistant: \"Thank you for the information. Processing 4K vidoes will require a good processor and high GPU. I think we have already determined earlier that you need a high GPU. To ensure I have a complete understanding of your needs, I have one more question: Are you frequently on the go and require a laptop that is lightweight and easy to carry, or do you primarily work from a stationary location?\"\\n    User: \"Yes, sometimes I travel but do not carry my laptop.\"\\n    Assistant:\"Could you kindly let me know your budget for the laptop? This will help me find options that fit within your price range while meeting the specified requirements.\"\\n    User: \"my max budget is 1.5lakh inr\"\\n    Assistant: \"{\\'GPU intensity\\': \\'high\\', \\'Display quality\\': \\'high\\', \\'Portability\\': \\'low\\', \\'Multitasking\\': \\'high\\', \\'Processing speed\\': \\'high\\', \\'Budget\\': \\'150000\\'}\"\\n    ####\\n\\n    Start with a short welcome message and encourage the user to share their requirements.\\n    '},\n",
       " {'role': 'user', 'content': 'Hi, I am Anand. I need a laptop for coding.'},\n",
       " {'role': 'system',\n",
       "  'content': \"Hello Anand! Great to hear that you're looking for a laptop for coding. To help me narrow down the best options for you, could you please tell me what kind of coding you do? For example, are you focusing on web development, software development, data science, or something else? Additionally, do you often work on large projects that require multitasking or heavy resource usage?\"}]"
      ]
     },
     "metadata": {},
     "output_type": "display_data"
    }
   ],
   "source": [
    "# Let's append this to the conversation list\n",
    "debug_conversation.append(({\"role\": \"system\", \"content\": debug_response_assistant}))\n",
    "display(debug_conversation)"
   ]
  },
  {
   "cell_type": "markdown",
   "id": "389ae50b",
   "metadata": {
    "id": "389ae50b"
   },
   "source": [
    "Typically, whenever the chatbot is interacting with the user, all the conversations should be moderated to identify any inappropriate content. Let's look at the function that can help with it."
   ]
  },
  {
   "cell_type": "markdown",
   "id": "5cc13511",
   "metadata": {
    "id": "5cc13511"
   },
   "source": [
    "### `moderation_check()`:\n",
    " This checks if the user's or the assistant's message is inappropriate. If any of these is inappropriate, you can add a break statement to end the conversation."
   ]
  },
  {
   "cell_type": "code",
   "execution_count": 129,
   "id": "e5c799b4",
   "metadata": {
    "id": "e5c799b4"
   },
   "outputs": [],
   "source": [
    "# Define a function called moderation_check that takes user_input as a parameter.\n",
    "def moderation_check(user_input):\n",
    "    \"\"\"\n",
    "    Perform moderation check on user input using the OpenAI API.\n",
    "\n",
    "    Parameters:\n",
    "    - user_input (str): The text input to be checked for moderation.\n",
    "\n",
    "    Returns:\n",
    "    - str: \"Flagged\" if the input is flagged by the moderation system,\n",
    "           \"Not Flagged\" otherwise.\n",
    "    \"\"\"\n",
    "    # Call the OpenAI API to perform moderation on the user's input.\n",
    "    model= \"omni-moderation-latest\"\n",
    "    response=openai.moderations.create(\n",
    "        model=model,\n",
    "        input=user_input\n",
    "    )  \n",
    "    # Extract the moderation result from the API response.\n",
    "    moderation_output=response.results[0].flagged\n",
    "    # Check if the input was flagged by the moderation system. If flagged, return \"Flagged\" else return \"Not Flagged\"\n",
    "    if moderation_output :\n",
    "        return \"Flagged\"\n",
    "    else :\n",
    "        return \"Not Flagged\""
   ]
  },
  {
   "cell_type": "code",
   "execution_count": 130,
   "id": "67uPavgXgry4",
   "metadata": {
    "id": "67uPavgXgry4"
   },
   "outputs": [
    {
     "data": {
      "text/plain": [
       "'Flagged'"
      ]
     },
     "execution_count": 130,
     "metadata": {},
     "output_type": "execute_result"
    }
   ],
   "source": [
    "moderation_check(\"I want to kill them.\")"
   ]
  },
  {
   "cell_type": "markdown",
   "id": "8c9225ae",
   "metadata": {
    "id": "8c9225ae"
   },
   "source": [
    "Let's test moderation on the `debug_user_input`"
   ]
  },
  {
   "cell_type": "code",
   "execution_count": 131,
   "id": "86d12659",
   "metadata": {
    "id": "86d12659"
   },
   "outputs": [
    {
     "name": "stdout",
     "output_type": "stream",
     "text": [
      "Not Flagged\n"
     ]
    }
   ],
   "source": [
    "debug_moderation = moderation_check(debug_user_input)\n",
    "print(debug_moderation)"
   ]
  },
  {
   "cell_type": "markdown",
   "id": "f458b471",
   "metadata": {
    "id": "f458b471"
   },
   "source": [
    "Let's now test moderation on some other text."
   ]
  },
  {
   "cell_type": "code",
   "execution_count": 132,
   "id": "3091fc48",
   "metadata": {
    "id": "3091fc48"
   },
   "outputs": [
    {
     "name": "stdout",
     "output_type": "stream",
     "text": [
      "Flagged\n",
      "Not Flagged\n"
     ]
    }
   ],
   "source": [
    "print(moderation_check(\"I want to kill Ravan.\"))\n",
    "print(moderation_check(\"I need a laptop\"))"
   ]
  },
  {
   "cell_type": "markdown",
   "id": "6c6d2f2b",
   "metadata": {
    "id": "6c6d2f2b"
   },
   "source": [
    "So, this moderation api may not be perfect but if you ask this to the ChatGPT or it's API (GPT 3.5), it'll not help you with such requests. Remember, moderation should also be applied on the GPT 3.5's output."
   ]
  },
  {
   "cell_type": "markdown",
   "id": "ececb22e",
   "metadata": {
    "id": "ececb22e"
   },
   "source": [
    "Let's now check moderation on the assistant's response `debug_response_assistant`."
   ]
  },
  {
   "cell_type": "code",
   "execution_count": 133,
   "id": "e289d1c1",
   "metadata": {
    "id": "e289d1c1"
   },
   "outputs": [
    {
     "data": {
      "text/plain": [
       "'Not Flagged'"
      ]
     },
     "execution_count": 133,
     "metadata": {},
     "output_type": "execute_result"
    }
   ],
   "source": [
    "moderation_check(debug_response_assistant)"
   ]
  },
  {
   "cell_type": "markdown",
   "id": "6a47575a",
   "metadata": {
    "id": "6a47575a"
   },
   "source": [
    "As mentioned earlier, you need to understand the user's profile, which essentially means that all the features: GPU intensity, Display quality, Portability, Multitasking, Processing speed, Budget are captured or not. Let's look at the function that helps us verify that."
   ]
  },
  {
   "cell_type": "markdown",
   "id": "543bca28",
   "metadata": {
    "id": "543bca28"
   },
   "source": [
    "### `intent_confirmation_layer()`:\n",
    "\n",
    "This function takes the assistant's response and evaluates if the chatbot has captured the user's profile clearly. Specifically, this checks if the following properties for the user has been captured or not\n",
    "   - GPU intensity\n",
    "   - Display quality\n",
    "   - Portability\n",
    "   - Multitasking\n",
    "   - Processing speed\n",
    "   - Budget"
   ]
  },
  {
   "cell_type": "markdown",
   "id": "-3MoEBBhRDpr",
   "metadata": {
    "id": "-3MoEBBhRDpr"
   },
   "source": [
    "\n",
    "\n",
    "```\n",
    "def intent_confirmation_layer(response_assistant):\n",
    "    \"\"\"\n",
    "    This function serves as an intent confirmation layer for a laptop recommendation system using OpenAI LLM API.\n",
    "\n",
    "    Parameters:\n",
    "    - response_assistant (str): The input text containing user requirements captured through 6 keys:\n",
    "        'GPU intensity', 'Display quality', 'Portability', 'Multitasking', 'Processing speed', and 'Budget'.\n",
    "\n",
    "    Returns:\n",
    "    - str: A one-word string in JSON format indicating if the values for the specified keys are correctly filled.\n",
    "        - 'Yes' if the values are correctly filled for all keys ('GPU intensity', 'Display quality', 'Portability',\n",
    "          'Multitasking', 'Processing speed') based on the importance as stated by the user.\n",
    "        - 'No' otherwise.\n",
    "\n",
    "    Note:\n",
    "    - The values for all keys, except 'Budget', should be 'low', 'medium', or 'high' based on their importance as stated by the user.\n",
    "    - The input text should be structured such that it contains the necessary keys and their corresponding values.\n",
    "    - The function uses OpenAI's Chat Completion API to evaluate the correctness of the input values.\n",
    "    \"\"\"\n",
    "```\n",
    "\n"
   ]
  },
  {
   "cell_type": "code",
   "execution_count": 233,
   "id": "w1o5KuBeONhF",
   "metadata": {
    "id": "w1o5KuBeONhF"
   },
   "outputs": [],
   "source": [
    "def intent_confirmation_layer(response_assistant):\n",
    "    \"\"\"\n",
    "    This function takes in a response from an AI assistant and evaluates it based on specific criteria.\n",
    "\n",
    "    Args:\n",
    "    - response_assistant (str): The input text containing user requirements captured through 6 keys:\n",
    "      'GPU intensity', 'Display quality', 'Portability', 'Multitasking', 'Processing speed', and 'Budget'.\n",
    "\n",
    "    Returns:\n",
    "    - dict: A JSON-formatted dictionary with keys 'result' and, if applicable, 'reason'.\n",
    "      - 'result' (str): Either 'Yes' or 'No', indicating if the input meets the criteria.\n",
    "      - 'reason' (str, optional): If 'result' is 'No', this key provides a reason for the evaluation.\n",
    "\n",
    "    Key Instructions:\n",
    "    1. The input should include values for the specified keys.\n",
    "    2. Allowed values for 'GPU intensity', 'Display quality', 'Portability', 'Multitasking', and 'Processing speed'\n",
    "       are 'low', 'medium', and 'high'.\n",
    "    3. 'Budget' should only have a numerical value.\n",
    "    4. Only a one-word string in JSON format ('Yes' or 'No') should be output at the key 'result'.\n",
    "    5. If 'result' is 'No', include the reason in the key 'reason'.\n",
    "    6. Use the AI model 'gpt-3.5-turbo' to process the evaluation.\n",
    "\n",
    "    Example:\n",
    "    >>> input_text = \"{'GPU intensity': 'high', 'Display quality': 'medium', 'Portability': 'low',\n",
    "                      'Multitasking': 'medium', 'Processing speed': 'high', 'Budget': 1200}\"\n",
    "    >>> intent_confirmation_layer(input_text)\n",
    "    {'result': 'Yes'}\n",
    "\n",
    "    Note: Modify the input text to match the expected format before passing it to this function.\n",
    "    \"\"\"\n",
    "    delimiter = \"####\"\n",
    "\n",
    "    allowed_values = {'low','medium','high'}\n",
    "\n",
    "    system_message = f\"\"\"\n",
    "    You are a senior evaluator who has an eye for detail.The input text will contain a user requirement captured through 6 keys.\n",
    "    You are provided an input. You need to evaluate if the input text has the following keys:\n",
    "    {{\n",
    "    'GPU intensity': 'values',\n",
    "    'Display quality':'values',\n",
    "    'Portability':'values',\n",
    "    'Multitasking':'values',\n",
    "    'Processing speed':'values',\n",
    "    'Budget':'number'\n",
    "    }}\n",
    "    {delimiter} \n",
    "    Guidelines for 'Budget':\n",
    "    1. Extract 'Budget' as a numerical value, even if it contains currency symbols or words.\n",
    "    2. Remove spaces, tabs, commas, and any non-numeric characters like currency symbols or words.\n",
    "    3. Convert the cleaned number into an integer or float. If it cannot be converted, return \"Budget cannot be converted to proper numerical value\".\n",
    "    4. Ensure that 'Budget' is greater than or equal to 25000. If not, return \"There are no laptops in that price range\".\n",
    "    \n",
    "    Guidelines for other keys:\n",
    "    1. Remove spaces or tabs and check that values are from {allowed_values} for 'GPU intensity', 'Display quality', 'Portability', 'Multitasking', 'Processing speed'.\n",
    "    2. If the values are valid, proceed; otherwise, return \"Invalid value for [key]\".\n",
    "    {delimiter}\n",
    "    Thought 1 - Output a string 'Yes' if the values are correctly filled for all keys, otherwise output 'No'.\n",
    "    Thought 2 - If the answer is No, mention the reason in the key 'reason'.\n",
    "    Thought 3 - Think carefully before the answering.\n",
    "    {delimiter}\n",
    "    Only output a one-word string in JSON format at the key 'result' - Yes/No. \n",
    "    \"\"\"\n",
    "    model=\"gpt-4o-mini\"\n",
    "    messages=[\n",
    "        { \"role\" : \"system\", \"content\" : system_message },\n",
    "        { \"role\" : \"user\", \"content\" : response_assistant }\n",
    "    ]\n",
    "    chat_completion_json=openai.chat.completions.create(\n",
    "        model=model,\n",
    "        messages=messages,\n",
    "        n=1,\n",
    "        seed=3456,\n",
    "        max_completion_tokens=500,\n",
    "        temperature=0\n",
    "    )\n",
    "    response=chat_completion_json.choices[0].message.content\n",
    "    try :\n",
    "        json_output=json.loads(response)\n",
    "    except json.JSONDecodeError as e:\n",
    "        print(\"Error decoding JSON:\",e)\n",
    "\n",
    "    return json_output\n",
    "        "
   ]
  },
  {
   "cell_type": "code",
   "execution_count": 161,
   "id": "26f1535d",
   "metadata": {
    "id": "26f1535d"
   },
   "outputs": [],
   "source": [
    "# Here are some sample input output pairs for better understanding:\n",
    "# {delimiter}\n",
    "# input: \"{{'GPU intensity': 'low', 'Display quality': 'high', 'Portability': 'low', 'Multitasking': 'high', 'Processing speed': 'low'}}\"\n",
    "# output: No\n",
    "\n",
    "# input: \"{{'GPU intensity': 'low', 'Display quality': 'high', 'Portability': 'low', 'Multitasking': 'high', 'Processing speed': '', 'Budget': '90000'}}\"\n",
    "# output: No\n",
    "\n",
    "# input: \"Here is your user profile 'GPU intensity': 'high','Display quality': 'high','Portability': 'medium','Multitasking': 'low','Processing speed': 'high','Budget': '200000'\"\n",
    "# output: Yes\n",
    "\n",
    "# input: \"Here is your recommendation {{'GPU intensity': 'low', 'Display quality': 'high', 'Portability': 'low', 'Multitasking': 'high', 'Processing speed': 'low', 'Budget': '90000'}}\"\n",
    "# output: Yes\n",
    "\n",
    "# input: \"Here is your recommendation - 'GPU intensity': 'high' - 'Display quality': 'low' - 'Portability': 'low'  - 'Multitasking': 'high' - 'Processing speed': 'high' - 'Budget': '90000' \"\n",
    "# output: Yes\n",
    "\n",
    "# input: \"You can look at this - GPU intensity: high - Display quality: low - Portability: low  - Multitasking: high - Processing speed: high - Budget: 90000\"\n",
    "# output: Yes\n",
    "\n",
    "# input: \"{{GPU intensity: low, Display quality: high, Portability: low, Multitasking:high,Processing speed: Low, Budget: 70000}}\"\n",
    "# output: No\n",
    "\n",
    "# {delimiter}"
   ]
  },
  {
   "cell_type": "markdown",
   "id": "356fc469",
   "metadata": {
    "id": "356fc469"
   },
   "source": [
    "Let's apply the function to the assistant's reponse and see if it has captured the user profile."
   ]
  },
  {
   "cell_type": "code",
   "execution_count": 162,
   "id": "TbsoK64ZXnDZ",
   "metadata": {
    "id": "TbsoK64ZXnDZ"
   },
   "outputs": [
    {
     "data": {
      "text/plain": [
       "\"Hello Anand! Great to hear that you're looking for a laptop for coding. To help me narrow down the best options for you, could you please tell me what kind of coding you do? For example, are you focusing on web development, software development, data science, or something else? Additionally, do you often work on large projects that require multitasking or heavy resource usage?\""
      ]
     },
     "execution_count": 162,
     "metadata": {},
     "output_type": "execute_result"
    }
   ],
   "source": [
    "debug_response_assistant"
   ]
  },
  {
   "cell_type": "code",
   "execution_count": 163,
   "id": "89031a63",
   "metadata": {
    "id": "89031a63"
   },
   "outputs": [
    {
     "data": {
      "text/plain": [
       "{'result': 'No',\n",
       " 'reason': 'The input does not contain the required keys with values.'}"
      ]
     },
     "metadata": {},
     "output_type": "display_data"
    }
   ],
   "source": [
    "debug_confirmation = intent_confirmation_layer(debug_response_assistant)\n",
    "display(debug_confirmation)"
   ]
  },
  {
   "cell_type": "code",
   "execution_count": 164,
   "id": "ODyge0F8puJJ",
   "metadata": {
    "id": "ODyge0F8puJJ"
   },
   "outputs": [
    {
     "name": "stdout",
     "output_type": "stream",
     "text": [
      "Result: No \t Reason: The input does not contain the required keys with values.\n"
     ]
    }
   ],
   "source": [
    "# Printing the value for better clarity\n",
    "print(\"Result:\",debug_confirmation.get('result'),\"\\t\", \"Reason:\", debug_confirmation.get('reason'))"
   ]
  },
  {
   "cell_type": "markdown",
   "id": "4fc34f79",
   "metadata": {
    "id": "4fc34f79"
   },
   "source": [
    "Now, you can keep adding user and assistant responses to debug_conversation and get to a point where intent_confirmation_layer() gives yes as a response. Let's see if the following response by the assistant passes the intent_confirmation_layer() test."
   ]
  },
  {
   "cell_type": "code",
   "execution_count": 139,
   "id": "ef807cad",
   "metadata": {
    "id": "ef807cad"
   },
   "outputs": [],
   "source": [
    "#Let's add the above assistant response to the debug_conversation.\n",
    "debug_conversation.append({\"role\": \"assistant\", \"content\": debug_response_assistant})"
   ]
  },
  {
   "cell_type": "code",
   "execution_count": 165,
   "id": "PIN620N722gd",
   "metadata": {
    "id": "PIN620N722gd"
   },
   "outputs": [
    {
     "data": {
      "text/plain": [
       "[{'role': 'system',\n",
       "  'content': '\\n    You are an intelligent laptop gadget expert and your goal is to find the best laptop for a user.\\n    You need to ask relevant questions and understand the user profile by analysing the user\\'s responses.\\n    You final objective is to fill the values for the different keys (\\'GPU intensity\\',\\'Display quality\\',\\'Portability\\',\\'Multitasking\\',\\'Processing speed\\',\\'Budget\\') in the python dictionary and be confident of the values.\\n    These key value pairs define the user\\'s profile.\\n    The python dictionary looks like this\\n    {\\'GPU intensity\\': \\'values\\',\\'Display quality\\': \\'values\\',\\'Portability\\': \\'values\\',\\'Multitasking\\': \\'values\\',\\'Processing speed\\': \\'values\\',\\'Budget\\': \\'values\\'}\\n    The value for \\'Budget\\' should contain a numerical value extracted from the user\\'s response. Ignore any non-numerical characters and extract only the numerical portion.\\n    The values for all keys, except \\'Budget\\', should be \\'low\\', \\'medium\\', or \\'high\\' based on the importance of the corresponding keys, as stated by user.\\n    All the values in the example dictionary are only representative values.\\n    ####\\n    Here are some instructions around the values for the different keys. If you do not follow this, you\\'ll be heavily penalised:\\n    - The values for all keys, except \\'Budget\\', should strictly be either \\'low\\', \\'medium\\', or \\'high\\' based on the importance of the corresponding keys, as stated by user.\\n    - The value for \\'Budget\\' should always be extracted as a numerical value (integer or float), even if the user\\'s input contains:\\n        - Numerical values as interger or float (e.g., 35000, , 77356.80 )\\n        - Numerical values as strings (e.g., \"50000\", \"70,000\", \\'1,40,000\\')\\n        - Currency symbols (e.g., \"$50000\", \"40000 ₹\", \"€ 90000\") or Currency words (e.g., \"INR 40000\", \"56,000 USD\", \"50000 EURO\")\\n    - Steps to handle the Budget value:\\n        - Extract the numerical portion from the input.\\n        - Ignore any non-numeric characters like currency symbols, commas, or words.\\n        - Convert the extracted number into a proper numerical type (e.g., integer or float).\\n    - \\'Budget\\' value needs to be greater than or equal to 25000 INR. If the user says less than that, please mention that there are no laptops in that range.\\n    - Do not randomly assign values to any of the keys.\\n    - The values need to be inferred from the user\\'s response.\\n    ####\\n\\n    To fill the dictionary, you need to have the following chain of thoughts:\\n    Follow the chain-of-thoughts below and only output the final updated python dictionary for the keys as described in {\\'GPU intensity\\': \\'_\\', \\'Display quality\\': \\'_\\', \\'Portability\\': \\'_\\', \\'Multitasking\\': \\'_\\', \\'Processing speed\\': \\'_\\', \\'Budget\\': \\'_\\'}. \\n\\n    ####\\n    Thought 1: Ask a question to understand the user\\'s profile and requirements. \\n\\n    If their primary use for the laptop is unclear. Ask followup questions to understand their needs.\\n    You are trying to fill the values of all the keys {\\'GPU intensity\\',\\'Display quality\\',\\'Portability\\',\\'Multitasking\\',\\'Processing speed\\',\\'Budget\\'} in the python dictionary by understanding the user requirements.\\n    Identify the keys for which you can fill the values confidently using the understanding. \\n\\n    Remember the instructions around the values for the different keys.\\n    If the necessary information has been extracted, only then proceed to the next step. \\n\\n    Otherwise, rephrase the question to capture their profile clearly. \\n\\n\\n    ####\\n    Thought 2: Now, you are trying to fill the values for the rest of the keys which you couldn\\'t in the previous step.\\n    Remember the instructions around the values for the different keys.\\n    Ask questions you might have for all the keys to strengthen your understanding of the user\\'s profile.\\n    If yes, move to the next Thought. If no, ask question on the keys whose values you are unsure of. \\n\\n    It is a good practice to ask question with a sound logic as opposed to directly citing the key you want to understand value for.\\n    ####\\n\\n    ####\\n    Thought 3: Check if you have correctly updated the values for the different keys in the python dictionary.\\n    If you are not confident about any of the values, ask clarifying questions.\\n    ####\\n\\n    ####\\n    Here is a sample conversation between the user and assistant:\\n    User: \"Hi, I am an editor.\"\\n    Assistant: \"Great! As an editor, you likely require a laptop that can handle demanding tasks. Hence, the laptop should have high multitasking capability. You would also need a high end display for better visuals and editing. May I know what kind of work do you primarily focus on? Are you more involved in video editing, photo editing, or both? Understanding the specific type of editing work will help me tailor my recommendations accordingly. Let me know if my understanding is correct until now.\"\\n    User: \"I primarily work with After Effects.\"\\n    Assistant: \"Thank you for providing that information. Working with After Effects involves working with graphics, animations, and rendering, which will require high GPU. Do you work with high-resolution media files, such as 4K videos or RAW photos? Understanding your file sizes will help determine the storage capacity and processing power needed.\"\\n    User: \"Yes, sometimes I work with 4K videos as well.\"\\n    Assistant: \"Thank you for the information. Processing 4K vidoes will require a good processor and high GPU. I think we have already determined earlier that you need a high GPU. To ensure I have a complete understanding of your needs, I have one more question: Are you frequently on the go and require a laptop that is lightweight and easy to carry, or do you primarily work from a stationary location?\"\\n    User: \"Yes, sometimes I travel but do not carry my laptop.\"\\n    Assistant:\"Could you kindly let me know your budget for the laptop? This will help me find options that fit within your price range while meeting the specified requirements.\"\\n    User: \"my max budget is 1.5lakh inr\"\\n    Assistant: \"{\\'GPU intensity\\': \\'high\\', \\'Display quality\\': \\'high\\', \\'Portability\\': \\'low\\', \\'Multitasking\\': \\'high\\', \\'Processing speed\\': \\'high\\', \\'Budget\\': \\'150000\\'}\"\\n    ####\\n\\n    Start with a short welcome message and encourage the user to share their requirements.\\n    '},\n",
       " {'role': 'user', 'content': 'Hi, I am Anand. I need a laptop for coding.'},\n",
       " {'role': 'system',\n",
       "  'content': \"Hello Anand! Great to hear that you're looking for a laptop for coding. To help me narrow down the best options for you, could you please tell me what kind of coding you do? For example, are you focusing on web development, software development, data science, or something else? Additionally, do you often work on large projects that require multitasking or heavy resource usage?\"},\n",
       " {'role': 'assistant',\n",
       "  'content': \"Hello Anand! Great to hear that you're looking for a laptop for coding. To help me narrow down the best options for you, could you please tell me what kind of coding you do? For example, are you focusing on web development, software development, data science, or something else? Additionally, do you often work on large projects that require multitasking or heavy resource usage?\"}]"
      ]
     },
     "execution_count": 165,
     "metadata": {},
     "output_type": "execute_result"
    }
   ],
   "source": [
    "debug_conversation"
   ]
  },
  {
   "cell_type": "markdown",
   "id": "e05526d0",
   "metadata": {
    "id": "e05526d0"
   },
   "source": [
    "Let's say that after a series of conversations you get the following response from the assistant."
   ]
  },
  {
   "cell_type": "code",
   "execution_count": 234,
   "id": "5a744f8f",
   "metadata": {
    "id": "5a744f8f"
   },
   "outputs": [
    {
     "name": "stdout",
     "output_type": "stream",
     "text": [
      "\n",
      "Great, thank you for clarifying your requirements.\n",
      "Based on your inputs, here is the final profile for the laptop you are looking for:\n",
      "{'GPU intensity':'high',\n",
      " 'Display quality':'high',\n",
      " 'Portability':'low',\n",
      " 'Multitasking':'low',\n",
      " 'Processing speed':'low',\n",
      " 'Budget':'50000 INR'}\n",
      "\n"
     ]
    }
   ],
   "source": [
    "# Example 1 - Let's check with the confirmation_layer if all the keys are present\n",
    "debug_response_assistant_1 = f\"\"\"\n",
    "Great, thank you for clarifying your requirements.\n",
    "Based on your inputs, here is the final profile for the laptop you are looking for:\n",
    "{{'GPU intensity':'high',\n",
    " 'Display quality':'high',\n",
    " 'Portability':'low',\n",
    " 'Multitasking':'low',\n",
    " 'Processing speed':'low',\n",
    " 'Budget':'50000 INR'}}\n",
    "\"\"\"\n",
    "#Note that you are using double curly braces\n",
    "\n",
    "print(debug_response_assistant_1)"
   ]
  },
  {
   "cell_type": "markdown",
   "id": "f7f909ea",
   "metadata": {
    "id": "f7f909ea"
   },
   "source": [
    "Do you think it'll pass the `intent_confirmation_layer()` test?\n",
    "\n",
    " Let's try it out."
   ]
  },
  {
   "cell_type": "code",
   "execution_count": 235,
   "id": "lJjze8xQf8_S",
   "metadata": {
    "id": "lJjze8xQf8_S"
   },
   "outputs": [
    {
     "name": "stdout",
     "output_type": "stream",
     "text": [
      "Result : Yes \t Reason: None\n"
     ]
    }
   ],
   "source": [
    "response = intent_confirmation_layer(debug_response_assistant_1)\n",
    "print(\"Result :\", response.get('result'),\"\\t\", \"Reason:\", response.get('reason') )"
   ]
  },
  {
   "cell_type": "code",
   "execution_count": 236,
   "id": "BS0_vM3ok-t-",
   "metadata": {
    "id": "BS0_vM3ok-t-"
   },
   "outputs": [
    {
     "name": "stdout",
     "output_type": "stream",
     "text": [
      "\n",
      "Great, thank you for clarifying your requirements.\n",
      "Based on your inputs, here is the final profile for the laptop you are looking for:\n",
      "{'GPU intensity':'high',\n",
      " 'Display quality':'high',\n",
      " 'Portability':'low',\n",
      " 'Multitasking':'low',\n",
      " 'Processing speed':'low'}\n",
      "\n"
     ]
    }
   ],
   "source": [
    "# Example 2 - Let's check confirmation_layer if all the keys are present\n",
    "debug_response_assistant_2 = f\"\"\"\n",
    "Great, thank you for clarifying your requirements.\n",
    "Based on your inputs, here is the final profile for the laptop you are looking for:\n",
    "{{'GPU intensity':'high',\n",
    " 'Display quality':'high',\n",
    " 'Portability':'low',\n",
    " 'Multitasking':'low',\n",
    " 'Processing speed':'low'}}\n",
    "\"\"\"\n",
    "#Note that you are using double curly braces\n",
    "\n",
    "print(debug_response_assistant_2)"
   ]
  },
  {
   "cell_type": "code",
   "execution_count": 237,
   "id": "_9qbx_XLlAY9",
   "metadata": {
    "id": "_9qbx_XLlAY9"
   },
   "outputs": [
    {
     "data": {
      "text/plain": [
       "{'result': 'No', 'reason': 'Budget is missing'}"
      ]
     },
     "execution_count": 237,
     "metadata": {},
     "output_type": "execute_result"
    }
   ],
   "source": [
    "intent_confirmation_layer(debug_response_assistant_2)\n",
    "# iterate_llm_response(intent_confirmation_layer, debug_response_assistant_2)"
   ]
  },
  {
   "cell_type": "code",
   "execution_count": 238,
   "id": "sFl2vRm0oYet",
   "metadata": {
    "id": "sFl2vRm0oYet"
   },
   "outputs": [
    {
     "name": "stdout",
     "output_type": "stream",
     "text": [
      "\n",
      "Great, thank you for clarifying your requirements.\n",
      "Based on your inputs, here is the final profile for the laptop you are looking for:\n",
      "{'GPU intensity':'high',\n",
      " 'Display quality':'high',\n",
      " 'Portability':'low',\n",
      " 'Multitasking':'low',\n",
      " 'Processing speed':'low',\n",
      " 'Budget':'50000'}\n",
      "\n"
     ]
    }
   ],
   "source": [
    "# Example 3 - Let's check confirmation_layer if all the keys are present\n",
    "debug_response_assistant_3 = f\"\"\"\n",
    "Great, thank you for clarifying your requirements.\n",
    "Based on your inputs, here is the final profile for the laptop you are looking for:\n",
    "{{'GPU intensity':'high',\n",
    " 'Display quality':'high',\n",
    " 'Portability':'low',\n",
    " 'Multitasking':'low',\n",
    " 'Processing speed':'low',\n",
    " 'Budget':'50000'}}\n",
    "\"\"\"\n",
    "#Note that you are using double curly braces\n",
    "\n",
    "print(debug_response_assistant_3)"
   ]
  },
  {
   "cell_type": "code",
   "execution_count": 239,
   "id": "wA17-LWiohEP",
   "metadata": {
    "id": "wA17-LWiohEP"
   },
   "outputs": [
    {
     "data": {
      "text/plain": [
       "{'result': 'Yes'}"
      ]
     },
     "execution_count": 239,
     "metadata": {},
     "output_type": "execute_result"
    }
   ],
   "source": [
    "intent_confirmation_layer(debug_response_assistant_3)"
   ]
  },
  {
   "cell_type": "markdown",
   "id": "b570ff33",
   "metadata": {
    "id": "b570ff33"
   },
   "source": [
    "Let's now look at the working of `dictionary_present()`."
   ]
  },
  {
   "cell_type": "code",
   "execution_count": null,
   "id": "Gs2ECB3Atwkt",
   "metadata": {
    "id": "Gs2ECB3Atwkt"
   },
   "outputs": [],
   "source": [
    "# Let's check the consistency of the output responses\n",
    "# iterate_llm_response(intent_confirmation_layer, debug_response_assistant_3)"
   ]
  },
  {
   "cell_type": "markdown",
   "id": "8941aef4",
   "metadata": {
    "id": "8941aef4"
   },
   "source": [
    "### `dictionary_present()`:\n",
    "\n",
    "This function checks if the final understanding of user's profile is returned by the chatbot is a Python dictionary or not. This is important as it'll be used later on for finding the right laptops using dictionary matching."
   ]
  },
  {
   "cell_type": "code",
   "execution_count": 397,
   "id": "KjZlut6U2p_e",
   "metadata": {
    "id": "KjZlut6U2p_e"
   },
   "outputs": [],
   "source": [
    "def dictionary_present(response):\n",
    "    \"\"\"\n",
    "    Extracts and returns a Python dictionary in JSON format from the given input string if it matches a specific format.\n",
    "    Args:\n",
    "    - response (str): A string containing the user input or a Python dictionary in a specific format.\n",
    "\n",
    "    Returns:\n",
    "    - dict: The extracted Python dictionary in JSON format if found, otherwise returns None.\n",
    "\n",
    "    The input string is expected to contain a Python dictionary in the following format:\n",
    "    {'GPU intensity': 'low/ medium/ high',\n",
    "    'Display quality': 'low/ medium/ high',\n",
    "    'Portability': 'low/ medium/ high',\n",
    "    'Multitasking': 'low/ medium/ high',\n",
    "    'Processing speed': 'low/ medium/ high',\n",
    "    'Budget': 'Budget in numerical value'}\n",
    "\n",
    "    The function extracts the relevant values from the input and returns only the Python dictionary in JSON format. The output must match the format described above.\n",
    "\n",
    "    Example:\n",
    "    input = \"Here is your user profile \\\n",
    "    'GPU intensity': 'high','Display quality': 'high','Portability': 'medium','Multitasking': 'high','Processing speed': 'high','Budget': '200000 INR'\"\n",
    "    >>> dictionary_present(response)\n",
    "    '{\"GPU intensity\": \"high\",\"Display quality\": \"high\",\"Portability\": \"medium\",\"Multitasking\": \"high\",\"Processing speed\": \"high\",\"Budget\": \"200000\"}'\n",
    "\n",
    "    NOTE: The function internally uses get_chat_completions() to interact with the user in a chat-like manner.\n",
    "    \"\"\"\n",
    "    delimiter = \"####\"\n",
    "\n",
    "    user_req = {'GPU intensity': 'high',\n",
    "                'Display quality': 'high',\n",
    "                'Portability': 'medium',\n",
    "                'Multitasking': 'high',\n",
    "                'Processing speed': 'high',\n",
    "                'Budget': '200000'}\n",
    "\n",
    "    prompt = f\"\"\" Role : You are an expert in coding in python. You need to generate a python dictionary from the input shared by user. Keys of the dictionary are also mentioned. \n",
    "            Task : You have to check if there is a python dictionary present in the string. Your task is to extract the relevant values from the input and return only the python dictionary in JSON format.\n",
    "            The output should match the format as {user_req}.\n",
    "            {delimiter}\n",
    "            *** Keys of the final dictionary in result *** are GPU intensity , Display quality, Portability, Multitasking, Processing speed , Budget. There should not be any extra key apart from the mentioned 6 keys. Total number of keys in the final dictionary must always be 6. \n",
    "            Make sure that the value of budget is also present in the user input. The result should contain the exact keys and values as present in the input.\n",
    "            Ensure the keys and values are in the given format:\n",
    "            {{\n",
    "            'GPU intensity': 'low/medium/high ',\n",
    "            'Display quality':'low/medium/high',\n",
    "            'Portability':'low/medium/high',\n",
    "            'Multitasking':'low/medium/high',\n",
    "            'Processing speed':'low/medium/high',\n",
    "            'Budget':'numerical value'\n",
    "            }}\n",
    "            {delimiter}\n",
    "            Here are some sample input output pairs for better understanding:\n",
    "            Example 1:\n",
    "            <Input 1>\n",
    "            - GPU intensity: low - Display quality: high - Portability: low - Multitasking: high - Processing speed: medium - Budget: 50,000 INR\n",
    "            <Output 1>\n",
    "            {{'GPU intensity': 'low', 'Display quality': 'high', 'Portability': 'low', 'Multitasking': 'high', 'Processing speed': 'medium', 'Budget': 50000}}\n",
    "            \n",
    "            Example 2:\n",
    "            <Input 2>\n",
    "            {{'GPU intensity':     'low', 'Display quality':     'low', 'Portability':    'medium', 'Multitasking': 'medium', 'Processing speed': 'low', 'Budget': '90,000'}}\n",
    "            <Output 2>\n",
    "            {{'GPU intensity': 'low', 'Display quality': 'low', 'Portability': 'medium', 'Multitasking': 'medium', 'Processing speed': 'low', 'Budget': 90000}}\n",
    "            \n",
    "            Example 3:\n",
    "            <Input 3>\n",
    "            Here is your user profile 'GPU intensity': 'high','Display quality': 'high','Portability': 'medium','Multitasking': 'high','Processing speed': 'high','Budget': '200000 INR'\n",
    "            <Output 3>\n",
    "            {{'GPU intensity': 'high','Display quality': 'high','Portability': 'medium','Multitasking': 'high','Processing speed': 'high','Budget': 200000}}\n",
    "            \n",
    "            Example 4:\n",
    "            <Input 4>\n",
    "            \"{{'GPU intensity': 'low', 'Display quality': 'low', 'Portability': 'medium', 'Multitasking': 'medium', 'Processing speed': 'low', 'Budget': '90,000'}}\"\n",
    "            <Output 4>\n",
    "            {{'GPU intensity': 'low', 'Display quality': 'low', 'Portability': 'medium', 'Multitasking': 'medium', 'Processing speed': 'low', 'Budget': 90000}}\n",
    "            {delimiter}\n",
    "            \"\"\"\n",
    "    messages = [{\"role\": \"system\", \"content\":prompt },\n",
    "                {\"role\": \"user\", \"content\":response }]\n",
    "\n",
    "    confirmation = get_chat_completions(messages, json_format = True)\n",
    "\n",
    "    return confirmation"
   ]
  },
  {
   "cell_type": "markdown",
   "id": "01dd4ca1",
   "metadata": {
    "id": "01dd4ca1"
   },
   "source": [
    "Let's start by passing the `debug_response_assistant`."
   ]
  },
  {
   "cell_type": "code",
   "execution_count": 398,
   "id": "qhG-yoxqZ6g2",
   "metadata": {
    "id": "qhG-yoxqZ6g2"
   },
   "outputs": [],
   "source": [
    "debug_response_assistant_n = \"\"\"\n",
    "{'GPU intensity':'high',\n",
    " 'Display quality':'high',\n",
    " 'Portability':'low',\n",
    " 'Multitasking':'low',\n",
    " 'Processing speed':'low',\n",
    " 'Budget':'50000'}\n",
    "\"\"\""
   ]
  },
  {
   "cell_type": "code",
   "execution_count": 399,
   "id": "c9795d76",
   "metadata": {
    "id": "c9795d76"
   },
   "outputs": [
    {
     "data": {
      "text/plain": [
       "{'GPU intensity': 'high',\n",
       " 'Display quality': 'high',\n",
       " 'Portability': 'low',\n",
       " 'Multitasking': 'low',\n",
       " 'Processing speed': 'low',\n",
       " 'Budget': 50000}"
      ]
     },
     "metadata": {},
     "output_type": "display_data"
    }
   ],
   "source": [
    "response_dict_n = dictionary_present(debug_response_assistant_n)\n",
    "display(response_dict_n)"
   ]
  },
  {
   "cell_type": "code",
   "execution_count": 401,
   "id": "9j07XZONGBTN",
   "metadata": {
    "id": "9j07XZONGBTN"
   },
   "outputs": [
    {
     "data": {
      "text/plain": [
       "dict"
      ]
     },
     "execution_count": 401,
     "metadata": {},
     "output_type": "execute_result"
    }
   ],
   "source": [
    "type(response_dict_n)"
   ]
  },
  {
   "cell_type": "markdown",
   "id": "95fe9455",
   "metadata": {
    "id": "95fe9455"
   },
   "source": [
    "What if you pass something like this where it is not in the form of a dictionary? Or some key or some values are missing? Let's see."
   ]
  },
  {
   "cell_type": "code",
   "execution_count": 402,
   "id": "706a8a28",
   "metadata": {
    "id": "706a8a28"
   },
   "outputs": [],
   "source": [
    "debug_response_assistant_n = f\"\"\"Thank you for providing your budget.\n",
    "Based on your budget of 50,000 INR, I will consider this while recommending suitable laptop options for you.\n",
    "Here is the final recommendation for your laptop:\n",
    "- GPU intensity: high\n",
    "- Display quality: high\n",
    "- Portability: low\n",
    "- Multitasking: high\n",
    "- Processing speed: medium\n",
    "- Budget: 80,000 INR\n",
    "\n",
    "Please note that these specifications are based on your requirements for surfing and a decent display within your budget.\n",
    "Let me know if there's anything else I can assist you with!\"\"\""
   ]
  },
  {
   "cell_type": "code",
   "execution_count": 403,
   "id": "79a1d0f5",
   "metadata": {
    "id": "79a1d0f5",
    "scrolled": true
   },
   "outputs": [
    {
     "data": {
      "text/plain": [
       "{'GPU intensity': 'high',\n",
       " 'Display quality': 'high',\n",
       " 'Portability': 'low',\n",
       " 'Multitasking': 'high',\n",
       " 'Processing speed': 'medium',\n",
       " 'Budget': 80000}"
      ]
     },
     "metadata": {},
     "output_type": "display_data"
    }
   ],
   "source": [
    "response_dict_n = dictionary_present(debug_response_assistant_n)\n",
    "display(response_dict_n)"
   ]
  },
  {
   "cell_type": "code",
   "execution_count": 405,
   "id": "5Jwp8q2NGGAg",
   "metadata": {
    "id": "5Jwp8q2NGGAg"
   },
   "outputs": [
    {
     "data": {
      "text/plain": [
       "dict"
      ]
     },
     "execution_count": 405,
     "metadata": {},
     "output_type": "execute_result"
    }
   ],
   "source": [
    "type(response_dict_n)"
   ]
  },
  {
   "cell_type": "code",
   "execution_count": 413,
   "id": "kzXtY0As84vl",
   "metadata": {
    "id": "kzXtY0As84vl"
   },
   "outputs": [
    {
     "name": "stdout",
     "output_type": "stream",
     "text": [
      "Input Prompt : \n",
      "Thank you for providing your budget.\n",
      "Based on your budget of 50,000 INR, I will consider this while recommending suitable laptop options for you.\n",
      "Here is the final recommendation for your laptop:\n",
      "- GPU intensity: high\n",
      "- Display quality: high\n",
      "- Portability: low\n",
      "- Multitasking: high\n",
      "- Processing speed: medium\n",
      "- Budget: 80,000 INR\n",
      "\n",
      "Please note that these specifications are based on your requirements for surfing and a decent display within your budget.\n",
      "Let me know if there's anything else I can assist you with! \n",
      "==========================================================================================\n",
      " Start Execution - Iteration Number : 1 \n",
      "{'GPU intensity': 'high', 'Display quality': 'high', 'Portability': 'low', 'Multitasking': 'high', 'Processing speed': 'medium', 'Budget': 80000}\n",
      "==========================================================================================\n",
      " Start Execution - Iteration Number : 2 \n",
      "{'GPU intensity': 'high', 'Display quality': 'high', 'Portability': 'low', 'Multitasking': 'high', 'Processing speed': 'medium', 'Budget': 80000}\n",
      "==========================================================================================\n",
      " Start Execution - Iteration Number : 3 \n",
      "{'GPU intensity': 'high', 'Display quality': 'high', 'Portability': 'low', 'Multitasking': 'high', 'Processing speed': 'medium', 'Budget': 80000}\n",
      "==========================================================================================\n",
      " Start Execution - Iteration Number : 4 \n",
      "{'GPU intensity': 'high', 'Display quality': 'high', 'Portability': 'low', 'Multitasking': 'high', 'Processing speed': 'medium', 'Budget': 80000}\n",
      "==========================================================================================\n",
      " Start Execution - Iteration Number : 5 \n",
      "{'GPU intensity': 'high', 'Display quality': 'high', 'Portability': 'low', 'Multitasking': 'high', 'Processing speed': 'medium', 'Budget': 80000}\n",
      "==========================================================================================\n",
      " Start Execution - Iteration Number : 6 \n",
      "{'GPU intensity': 'high', 'Display quality': 'high', 'Portability': 'low', 'Multitasking': 'high', 'Processing speed': 'medium', 'Budget': 80000}\n",
      "==========================================================================================\n",
      " Start Execution - Iteration Number : 7 \n",
      "{'GPU intensity': 'high', 'Display quality': 'high', 'Portability': 'low', 'Multitasking': 'high', 'Processing speed': 'medium', 'Budget': 80000}\n",
      "==========================================================================================\n",
      " Start Execution - Iteration Number : 8 \n",
      "{'GPU intensity': 'high', 'Display quality': 'high', 'Portability': 'low', 'Multitasking': 'high', 'Processing speed': 'medium', 'Budget': 80000}\n",
      "==========================================================================================\n",
      " Start Execution - Iteration Number : 9 \n",
      "{'GPU intensity': 'high', 'Display quality': 'high', 'Portability': 'low', 'Multitasking': 'high', 'Processing speed': 'medium', 'Budget': 80000}\n",
      "==========================================================================================\n",
      " Start Execution - Iteration Number : 10 \n",
      "{'GPU intensity': 'high', 'Display quality': 'high', 'Portability': 'low', 'Multitasking': 'high', 'Processing speed': 'medium', 'Budget': 80000}\n",
      "==========================================================================================\n"
     ]
    }
   ],
   "source": [
    "# Check for LLM function's consistency\n",
    "iterate_llm_response(dictionary_present, debug_response_assistant_n , num=10)"
   ]
  },
  {
   "cell_type": "markdown",
   "id": "4e3135e6",
   "metadata": {
    "id": "4e3135e6"
   },
   "source": [
    "Let's quickly take a look at the code that we have run until now."
   ]
  },
  {
   "cell_type": "code",
   "execution_count": 414,
   "id": "IJmvsVt25Y7r",
   "metadata": {
    "id": "IJmvsVt25Y7r"
   },
   "outputs": [
    {
     "data": {
      "text/plain": [
       "[{'role': 'system',\n",
       "  'content': '\\n    You are an intelligent laptop gadget expert and your goal is to find the best laptop for a user.\\n    You need to ask relevant questions and understand the user profile by analysing the user\\'s responses.\\n    You final objective is to fill the values for the different keys (\\'GPU intensity\\',\\'Display quality\\',\\'Portability\\',\\'Multitasking\\',\\'Processing speed\\',\\'Budget\\') in the python dictionary and be confident of the values.\\n    These key value pairs define the user\\'s profile.\\n    The python dictionary looks like this\\n    {\\'GPU intensity\\': \\'values\\',\\'Display quality\\': \\'values\\',\\'Portability\\': \\'values\\',\\'Multitasking\\': \\'values\\',\\'Processing speed\\': \\'values\\',\\'Budget\\': \\'values\\'}\\n    The value for \\'Budget\\' should contain a numerical value extracted from the user\\'s response. Ignore any non-numerical characters and extract only the numerical portion.\\n    The values for all keys, except \\'Budget\\', should be \\'low\\', \\'medium\\', or \\'high\\' based on the importance of the corresponding keys, as stated by user.\\n    All the values in the example dictionary are only representative values.\\n    ####\\n    Here are some instructions around the values for the different keys. If you do not follow this, you\\'ll be heavily penalised:\\n    - The values for all keys, except \\'Budget\\', should strictly be either \\'low\\', \\'medium\\', or \\'high\\' based on the importance of the corresponding keys, as stated by user.\\n    - The value for \\'Budget\\' should always be extracted as a numerical value (integer or float), even if the user\\'s input contains:\\n        - Numerical values as interger or float (e.g., 35000, , 77356.80 )\\n        - Numerical values as strings (e.g., \"50000\", \"70,000\", \\'1,40,000\\')\\n        - Currency symbols (e.g., \"$50000\", \"40000 ₹\", \"€ 90000\") or Currency words (e.g., \"INR 40000\", \"56,000 USD\", \"50000 EURO\")\\n    - Steps to handle the Budget value:\\n        - Extract the numerical portion from the input.\\n        - Ignore any non-numeric characters like currency symbols, commas, or words.\\n        - Convert the extracted number into a proper numerical type (e.g., integer or float).\\n    - \\'Budget\\' value needs to be greater than or equal to 25000 INR. If the user says less than that, please mention that there are no laptops in that range.\\n    - Do not randomly assign values to any of the keys.\\n    - The values need to be inferred from the user\\'s response.\\n    ####\\n\\n    To fill the dictionary, you need to have the following chain of thoughts:\\n    Follow the chain-of-thoughts below and only output the final updated python dictionary for the keys as described in {\\'GPU intensity\\': \\'_\\', \\'Display quality\\': \\'_\\', \\'Portability\\': \\'_\\', \\'Multitasking\\': \\'_\\', \\'Processing speed\\': \\'_\\', \\'Budget\\': \\'_\\'}. \\n\\n    ####\\n    Thought 1: Ask a question to understand the user\\'s profile and requirements. \\n\\n    If their primary use for the laptop is unclear. Ask followup questions to understand their needs.\\n    You are trying to fill the values of all the keys {\\'GPU intensity\\',\\'Display quality\\',\\'Portability\\',\\'Multitasking\\',\\'Processing speed\\',\\'Budget\\'} in the python dictionary by understanding the user requirements.\\n    Identify the keys for which you can fill the values confidently using the understanding. \\n\\n    Remember the instructions around the values for the different keys.\\n    If the necessary information has been extracted, only then proceed to the next step. \\n\\n    Otherwise, rephrase the question to capture their profile clearly. \\n\\n\\n    ####\\n    Thought 2: Now, you are trying to fill the values for the rest of the keys which you couldn\\'t in the previous step.\\n    Remember the instructions around the values for the different keys.\\n    Ask questions you might have for all the keys to strengthen your understanding of the user\\'s profile.\\n    If yes, move to the next Thought. If no, ask question on the keys whose values you are unsure of. \\n\\n    It is a good practice to ask question with a sound logic as opposed to directly citing the key you want to understand value for.\\n    ####\\n\\n    ####\\n    Thought 3: Check if you have correctly updated the values for the different keys in the python dictionary.\\n    If you are not confident about any of the values, ask clarifying questions.\\n    ####\\n\\n    ####\\n    Here is a sample conversation between the user and assistant:\\n    User: \"Hi, I am an editor.\"\\n    Assistant: \"Great! As an editor, you likely require a laptop that can handle demanding tasks. Hence, the laptop should have high multitasking capability. You would also need a high end display for better visuals and editing. May I know what kind of work do you primarily focus on? Are you more involved in video editing, photo editing, or both? Understanding the specific type of editing work will help me tailor my recommendations accordingly. Let me know if my understanding is correct until now.\"\\n    User: \"I primarily work with After Effects.\"\\n    Assistant: \"Thank you for providing that information. Working with After Effects involves working with graphics, animations, and rendering, which will require high GPU. Do you work with high-resolution media files, such as 4K videos or RAW photos? Understanding your file sizes will help determine the storage capacity and processing power needed.\"\\n    User: \"Yes, sometimes I work with 4K videos as well.\"\\n    Assistant: \"Thank you for the information. Processing 4K vidoes will require a good processor and high GPU. I think we have already determined earlier that you need a high GPU. To ensure I have a complete understanding of your needs, I have one more question: Are you frequently on the go and require a laptop that is lightweight and easy to carry, or do you primarily work from a stationary location?\"\\n    User: \"Yes, sometimes I travel but do not carry my laptop.\"\\n    Assistant:\"Could you kindly let me know your budget for the laptop? This will help me find options that fit within your price range while meeting the specified requirements.\"\\n    User: \"my max budget is 1.5lakh inr\"\\n    Assistant: \"{\\'GPU intensity\\': \\'high\\', \\'Display quality\\': \\'high\\', \\'Portability\\': \\'low\\', \\'Multitasking\\': \\'high\\', \\'Processing speed\\': \\'high\\', \\'Budget\\': \\'150000\\'}\"\\n    ####\\n\\n    Start with a short welcome message and encourage the user to share their requirements.\\n    '},\n",
       " {'role': 'user', 'content': 'Hi, I am Anand. I need a laptop for coding.'},\n",
       " {'role': 'system',\n",
       "  'content': \"Hello Anand! Great to hear that you're looking for a laptop for coding. To help me narrow down the best options for you, could you please tell me what kind of coding you do? For example, are you focusing on web development, software development, data science, or something else? Additionally, do you often work on large projects that require multitasking or heavy resource usage?\"},\n",
       " {'role': 'assistant',\n",
       "  'content': \"Hello Anand! Great to hear that you're looking for a laptop for coding. To help me narrow down the best options for you, could you please tell me what kind of coding you do? For example, are you focusing on web development, software development, data science, or something else? Additionally, do you often work on large projects that require multitasking or heavy resource usage?\"}]"
      ]
     },
     "execution_count": 414,
     "metadata": {},
     "output_type": "execute_result"
    }
   ],
   "source": [
    "debug_conversation"
   ]
  },
  {
   "cell_type": "code",
   "execution_count": 415,
   "id": "a1190d29",
   "metadata": {
    "id": "a1190d29"
   },
   "outputs": [
    {
     "name": "stdout",
     "output_type": "stream",
     "text": [
      "{'GPU intensity': 'high', 'Display quality': 'high', 'Portability': 'low', 'Multitasking': 'high', 'Processing speed': 'medium', 'Budget': 80000}\n"
     ]
    }
   ],
   "source": [
    "debug_conversation = initialize_conversation()\n",
    "debug_user_input = \"Hi, I am Anand. I need a laptop for coding.\"\n",
    "debug_moderation = moderation_check(debug_user_input)\n",
    "debug_conversation.append({\"role\": \"user\", \"content\": debug_user_input})\n",
    "debug_response_assistant = get_chat_completions(debug_conversation)\n",
    "debug_moderation = moderation_check(debug_response_assistant)\n",
    "debug_conversation.append({\"role\": \"assistant\", \"content\": debug_response_assistant})\n",
    "debug_confirmation = intent_confirmation_layer(debug_response_assistant)\n",
    "# After a series of conversation...\n",
    "response_dict_n = dictionary_present(debug_response_assistant_n)\n",
    "print(response_dict_n)"
   ]
  },
  {
   "cell_type": "markdown",
   "id": "c95c036b",
   "metadata": {
    "id": "c95c036b"
   },
   "source": [
    "So, now that you have the user profile stored in `response_dict_n`. We'll use this to generate recommendations. Before that, we need to create a similar profile for every laptop. Let's see how we do it."
   ]
  },
  {
   "cell_type": "markdown",
   "id": "TWY1b2OXRx4u",
   "metadata": {
    "id": "TWY1b2OXRx4u"
   },
   "source": [
    "## Stage 2"
   ]
  },
  {
   "cell_type": "markdown",
   "id": "-HEFP9rps1a5",
   "metadata": {
    "id": "-HEFP9rps1a5"
   },
   "source": [
    "[Stage 2 Flowchart](https://cdn.upgrad.com/uploads/production/c71aa254-32db-4265-a083-f4a540dac014/Stage+2.jpg)"
   ]
  },
  {
   "cell_type": "markdown",
   "id": "af7ced9d",
   "metadata": {
    "id": "af7ced9d"
   },
   "source": [
    "### 3.3 Implementing the Product Mapping and Information Extraction Layers\n",
    "\n",
    "In this section, we take in the output of the previous layers, i.e. the user requirements, which is in the format of a Python dictionary.\n",
    "<br>\n",
    "Next we will extract the top 3 laptop recommendations based on user's requirements.\n",
    "\n",
    "This stage consists of the following helper functions that will implement the information extraction and product matching layers."
   ]
  },
  {
   "cell_type": "markdown",
   "id": "R2F8yCDkvsVd",
   "metadata": {
    "id": "R2F8yCDkvsVd"
   },
   "source": [
    "### `product_map_layer()`:\n",
    "\n",
    "This function is responsible for extracting key features and criteria from laptop descriptions. Here's a breakdown of how it works:\n",
    "\n",
    "-  Use a prompt that assign it the role of a Laptop Specifications Classifier, whose objective is to extract key features and classify them based on laptop descriptions.\n",
    "\n",
    "- Provide step-by-step instructions for extracting laptop features from description.\n",
    "\n",
    "- Assign specific rules for each feature (e.g., GPU Intensity, Display Quality, Portability, Multitasking, Processing Speed) and associate them with the appropriate classification value (Low, Medium, or High).\n",
    "\n",
    "- Includes Few Shot Prompting (sample conversation between the user and assistant) to demonstrate the expected result of the feature extraction and classification process."
   ]
  },
  {
   "cell_type": "code",
   "execution_count": 426,
   "id": "240d34cc",
   "metadata": {
    "id": "240d34cc"
   },
   "outputs": [],
   "source": [
    "def product_map_layer(laptop_description):\n",
    "    \"\"\"\n",
    "    Extracts key features from a laptop description and classifies them based on predefined rules.\n",
    "\n",
    "    Args:\n",
    "        laptop_description (str): The description of the laptop to be analyzed.\n",
    "\n",
    "    Returns:\n",
    "        dict: A dictionary containing the classified features of the laptop.\n",
    "            Keys represent different aspects such as GPU intensity, Display quality, Portability,\n",
    "            Multitasking, and Processing speed, each mapped to a value indicating the classification\n",
    "            (low, medium, or high) based on the extracted features.\n",
    "    \"\"\"\n",
    "    delimiter = \"#####\"\n",
    "\n",
    "    lap_spec = {\n",
    "        \"GPU intensity\":\"(Type of the Graphics Processor)\",\n",
    "        \"Display quality\":\"(Display Type, Screen Resolution, Display Size)\",\n",
    "        \"Portability\":\"(Laptop Weight)\",\n",
    "        \"Multitasking\":\"(RAM Size)\",\n",
    "        \"Processing speed\":\"(CPU Type, Core, Clock Speed)\"\n",
    "    }\n",
    "\n",
    "    values = {'low','medium','high'}\n",
    "\n",
    "    prompt=f\"\"\"\n",
    "    You are a Laptop Specifications Classifier whose job is to extract the key features of laptops and classify them as per their requirements.\n",
    "    To analyze each laptop, perform the following steps:\n",
    "    Step 1: Extract the laptop's primary features from the description {laptop_description}\n",
    "    Step 2: Store the extracted features in {lap_spec} \\\n",
    "    Step 3: Classify each of the items in {lap_spec} into {values} based on the following rules: \\\n",
    "    {delimiter}\n",
    "    GPU Intensity:\n",
    "    - low: <<< if GPU is entry-level such as an integrated graphics processor or entry-level dedicated graphics like Intel UHD >>> , \\n\n",
    "    - medium: <<< if mid-range dedicated graphics like M1, AMD Radeon, Intel Iris >>> , \\n\n",
    "    - high: <<< high-end dedicated graphics like Nvidia RTX >>> , \\n\n",
    "\n",
    "    Display Quality:\n",
    "    - low: <<< if resolution is below Full HD (e.g., 1366x768). >>> , \\n\n",
    "    - medium: <<< if Full HD resolution (1920x1080) or higher. >>> , \\n\n",
    "    - high: <<< if High-resolution display (e.g., 4K, Retina) with excellent color accuracy and features like HDR support. >>> \\n\n",
    "\n",
    "    Portability:\n",
    "    - high: <<< if laptop weight is less than 1.51 kg >>> , \\n\n",
    "    - medium: <<< if laptop weight is between 1.51 kg and 2.51 kg >>> , \\n\n",
    "    - low: <<< if laptop weight is greater than 2.51 kg >>> \\n\n",
    "\n",
    "    Multitasking:\n",
    "    - low: <<< If RAM size is 8 GB, 12 GB >>> , \\n\n",
    "    - medium: <<< if RAM size is 16 GB >>> , \\n\n",
    "    - high: <<< if RAM size is 32 GB, 64 GB >>> \\n\n",
    "\n",
    "    Processing Speed:\n",
    "    - low: <<< if entry-level processors like Intel Core i3, AMD Ryzen 3 >>> , \\n\n",
    "    - medium: <<< if Mid-range processors like Intel Core i5, AMD Ryzen 5 >>> , \\n\n",
    "    - high: <<< if High-performance processors like Intel Core i7, AMD Ryzen 7 or higher >>> \\n\n",
    "    {delimiter}\n",
    "\n",
    "    {delimiter}\n",
    "    Here is input output pair for few-shot learning:\n",
    "    input 1: \"The Dell Inspiron is a versatile laptop that combines powerful performance and affordability. It features an Intel Core i5 processor clocked at 2.4 GHz, ensuring smooth multitasking and efficient computing. With 8GB of RAM and an SSD, it offers quick data access and ample storage capacity. The laptop sports a vibrant 15.6\" LCD display with a resolution of 1920x1080, delivering crisp visuals and immersive viewing experience. Weighing just 2.5 kg, it is highly portable, making it ideal for on-the-go usage. Additionally, it boasts an Intel UHD GPU for decent graphical performance and a backlit keyboard for enhanced typing convenience. With a one-year warranty and a battery life of up to 6 hours, the Dell Inspiron is a reliable companion for work or entertainment. All these features are packed at an affordable price of 35,000, making it an excellent choice for budget-conscious users.\"\n",
    "    output 1: {{'GPU intensity': 'medium','Display quality':'medium','Portability':'medium','Multitasking':'high','Processing speed':'medium'}}\n",
    "\n",
    "    {delimiter}\n",
    "    ### Strictly don't keep any other text in the values of the JSON dictionary other than low or medium or high ###\n",
    "    \"\"\"\n",
    "    input = f\"\"\"Follow the above instructions step-by-step and output the dictionary in JSON format {lap_spec} for the following laptop {laptop_description}.\"\"\"\n",
    "    #see that we are using the Completion endpoint and not the Chatcompletion endpoint\n",
    "    messages=[{\"role\": \"system\", \"content\":prompt },{\"role\": \"user\",\"content\":input}]\n",
    "\n",
    "    response = get_chat_completions(messages, json_format = True)\n",
    "\n",
    "    return response"
   ]
  },
  {
   "cell_type": "markdown",
   "id": "OF23tYUiDSMI",
   "metadata": {
    "id": "OF23tYUiDSMI"
   },
   "source": [
    "Let's test this for one sample laptop description."
   ]
  },
  {
   "cell_type": "code",
   "execution_count": 427,
   "id": "JhrRxWNEC5Ls",
   "metadata": {
    "id": "JhrRxWNEC5Ls"
   },
   "outputs": [],
   "source": [
    "laptop_description_1 = f\"\"\"\n",
    "The Dell Inspiron is a versatile laptop that combines powerful performance and affordability.\n",
    "It features an Intel Core i5 processor clocked at 2.4 GHz, ensuring smooth multitasking and efficient computing.\n",
    "With 8GB of RAM and an SSD, it offers quick data access and ample storage capacity.\n",
    "The laptop sports a vibrant 15.6\" LCD display with a resolution of 1920x1080, delivering crisp visuals and immersive viewing experience.\n",
    "Weighing just 2.5 kg, it is highly portable, making it ideal for on-the-go usage.\n",
    "Additionally, it boasts an Intel UHD GPU for decent graphical performance and a backlit keyboard for enhanced typing convenience.\n",
    "With a one-year warranty and a battery life of up to 6 hours, the Dell Inspiron is a reliable companion for work or entertainment.\n",
    "All these features are packed at an affordable price of 35,000, making it an excellent choice for budget-conscious users.\n",
    "\"\"\""
   ]
  },
  {
   "cell_type": "code",
   "execution_count": 428,
   "id": "3JiOft8JDDgv",
   "metadata": {
    "id": "3JiOft8JDDgv"
   },
   "outputs": [
    {
     "data": {
      "text/plain": [
       "{'GPU intensity': 'low',\n",
       " 'Display quality': 'medium',\n",
       " 'Portability': 'medium',\n",
       " 'Multitasking': 'low',\n",
       " 'Processing speed': 'medium'}"
      ]
     },
     "metadata": {},
     "output_type": "display_data"
    }
   ],
   "source": [
    "display(product_map_layer(laptop_description_1))"
   ]
  },
  {
   "cell_type": "code",
   "execution_count": 429,
   "id": "u7O5Et_aSW0_",
   "metadata": {
    "id": "u7O5Et_aSW0_"
   },
   "outputs": [
    {
     "name": "stdout",
     "output_type": "stream",
     "text": [
      "<class 'dict'>\n"
     ]
    }
   ],
   "source": [
    "# # Data type of the output response\n",
    "print(type(product_map_layer(laptop_description_1)))"
   ]
  },
  {
   "cell_type": "code",
   "execution_count": 430,
   "id": "xfDgYwldSXlx",
   "metadata": {
    "id": "xfDgYwldSXlx"
   },
   "outputs": [
    {
     "name": "stdout",
     "output_type": "stream",
     "text": [
      "Input Prompt : \n",
      "\n",
      "The Dell Inspiron is a versatile laptop that combines powerful performance and affordability.\n",
      "It features an Intel Core i5 processor clocked at 2.4 GHz, ensuring smooth multitasking and efficient computing.\n",
      "With 8GB of RAM and an SSD, it offers quick data access and ample storage capacity.\n",
      "The laptop sports a vibrant 15.6\" LCD display with a resolution of 1920x1080, delivering crisp visuals and immersive viewing experience.\n",
      "Weighing just 2.5 kg, it is highly portable, making it ideal for on-the-go usage.\n",
      "Additionally, it boasts an Intel UHD GPU for decent graphical performance and a backlit keyboard for enhanced typing convenience.\n",
      "With a one-year warranty and a battery life of up to 6 hours, the Dell Inspiron is a reliable companion for work or entertainment.\n",
      "All these features are packed at an affordable price of 35,000, making it an excellent choice for budget-conscious users.\n",
      " \n",
      "==========================================================================================\n",
      " Start Execution - Iteration Number : 1 \n",
      "{'GPU intensity': 'low', 'Display quality': 'medium', 'Portability': 'medium', 'Multitasking': 'low', 'Processing speed': 'medium'}\n",
      "==========================================================================================\n",
      " Start Execution - Iteration Number : 2 \n",
      "{'GPU intensity': 'low', 'Display quality': 'medium', 'Portability': 'medium', 'Multitasking': 'low', 'Processing speed': 'medium'}\n",
      "==========================================================================================\n",
      " Start Execution - Iteration Number : 3 \n",
      "{'GPU intensity': 'low', 'Display quality': 'medium', 'Portability': 'medium', 'Multitasking': 'low', 'Processing speed': 'medium'}\n",
      "==========================================================================================\n",
      " Start Execution - Iteration Number : 4 \n",
      "{'GPU intensity': 'low', 'Display quality': 'medium', 'Portability': 'medium', 'Multitasking': 'low', 'Processing speed': 'medium'}\n",
      "==========================================================================================\n",
      " Start Execution - Iteration Number : 5 \n",
      "{'GPU intensity': 'low', 'Display quality': 'medium', 'Portability': 'medium', 'Multitasking': 'low', 'Processing speed': 'medium'}\n",
      "==========================================================================================\n",
      " Start Execution - Iteration Number : 6 \n",
      "{'GPU intensity': 'low', 'Display quality': 'medium', 'Portability': 'medium', 'Multitasking': 'low', 'Processing speed': 'medium'}\n",
      "==========================================================================================\n",
      " Start Execution - Iteration Number : 7 \n",
      "{'GPU intensity': 'low', 'Display quality': 'medium', 'Portability': 'medium', 'Multitasking': 'low', 'Processing speed': 'medium'}\n",
      "==========================================================================================\n",
      " Start Execution - Iteration Number : 8 \n",
      "{'GPU intensity': 'low', 'Display quality': 'medium', 'Portability': 'medium', 'Multitasking': 'low', 'Processing speed': 'medium'}\n",
      "==========================================================================================\n",
      " Start Execution - Iteration Number : 9 \n",
      "{'GPU intensity': 'low', 'Display quality': 'medium', 'Portability': 'medium', 'Multitasking': 'low', 'Processing speed': 'medium'}\n",
      "==========================================================================================\n",
      " Start Execution - Iteration Number : 10 \n",
      "{'GPU intensity': 'low', 'Display quality': 'medium', 'Portability': 'medium', 'Multitasking': 'low', 'Processing speed': 'medium'}\n",
      "==========================================================================================\n"
     ]
    }
   ],
   "source": [
    "# # Check for consistency with iterate_response function\n",
    "iterate_llm_response(product_map_layer, laptop_description_1)"
   ]
  },
  {
   "cell_type": "markdown",
   "id": "dG5wTcerDVaH",
   "metadata": {
    "id": "dG5wTcerDVaH"
   },
   "source": [
    "Let's now apply this function to the entire laptop dataset"
   ]
  },
  {
   "cell_type": "code",
   "execution_count": 433,
   "id": "c9bd0233",
   "metadata": {
    "id": "c9bd0233",
    "scrolled": true
   },
   "outputs": [],
   "source": [
    "##Run this code once to extract product info in the form of a dictionary\n",
    "laptop_df= pd.read_csv('laptop_data.csv')\n",
    "\n",
    "## Create a new column \"laptop_feature\" that contains the dictionary of the product features\n",
    "laptop_df['laptop_feature'] = laptop_df['Description'].apply(lambda x: product_map_layer(x))"
   ]
  },
  {
   "cell_type": "code",
   "execution_count": 434,
   "id": "7441d1aa",
   "metadata": {
    "id": "7441d1aa"
   },
   "outputs": [],
   "source": [
    "laptop_df.to_csv(\"updated_laptop.csv\",index=False,header = True)"
   ]
  },
  {
   "cell_type": "code",
   "execution_count": 435,
   "id": "fc0de249-c43a-4c72-a31f-505851094c78",
   "metadata": {},
   "outputs": [
    {
     "data": {
      "text/html": [
       "<div>\n",
       "<style scoped>\n",
       "    .dataframe tbody tr th:only-of-type {\n",
       "        vertical-align: middle;\n",
       "    }\n",
       "\n",
       "    .dataframe tbody tr th {\n",
       "        vertical-align: top;\n",
       "    }\n",
       "\n",
       "    .dataframe thead th {\n",
       "        text-align: right;\n",
       "    }\n",
       "</style>\n",
       "<table border=\"1\" class=\"dataframe\">\n",
       "  <thead>\n",
       "    <tr style=\"text-align: right;\">\n",
       "      <th></th>\n",
       "      <th>Brand</th>\n",
       "      <th>Model Name</th>\n",
       "      <th>Core</th>\n",
       "      <th>CPU Manufacturer</th>\n",
       "      <th>Clock Speed</th>\n",
       "      <th>RAM Size</th>\n",
       "      <th>Storage Type</th>\n",
       "      <th>Display Type</th>\n",
       "      <th>Display Size</th>\n",
       "      <th>Graphics Processor</th>\n",
       "      <th>Screen Resolution</th>\n",
       "      <th>OS</th>\n",
       "      <th>Laptop Weight</th>\n",
       "      <th>Special Features</th>\n",
       "      <th>Warranty</th>\n",
       "      <th>Average Battery Life</th>\n",
       "      <th>Price</th>\n",
       "      <th>Description</th>\n",
       "      <th>laptop_feature</th>\n",
       "    </tr>\n",
       "  </thead>\n",
       "  <tbody>\n",
       "    <tr>\n",
       "      <th>0</th>\n",
       "      <td>Dell</td>\n",
       "      <td>Inspiron</td>\n",
       "      <td>i5</td>\n",
       "      <td>Intel</td>\n",
       "      <td>2.4 GHz</td>\n",
       "      <td>8GB</td>\n",
       "      <td>SSD</td>\n",
       "      <td>LCD</td>\n",
       "      <td>15.6\"</td>\n",
       "      <td>Intel UHD</td>\n",
       "      <td>1920x1080</td>\n",
       "      <td>Windows 10</td>\n",
       "      <td>2.5 kg</td>\n",
       "      <td>Backlit Keyboard</td>\n",
       "      <td>1 year</td>\n",
       "      <td>6 hours</td>\n",
       "      <td>35,000</td>\n",
       "      <td>The Dell Inspiron is a versatile laptop that c...</td>\n",
       "      <td>{'GPU intensity': 'low', 'Display quality': 'm...</td>\n",
       "    </tr>\n",
       "    <tr>\n",
       "      <th>1</th>\n",
       "      <td>MSI</td>\n",
       "      <td>GL65</td>\n",
       "      <td>i7</td>\n",
       "      <td>Intel</td>\n",
       "      <td>2.6 GHz</td>\n",
       "      <td>16GB</td>\n",
       "      <td>HDD+SSD</td>\n",
       "      <td>IPS</td>\n",
       "      <td>15.6\"</td>\n",
       "      <td>NVIDIA GTX</td>\n",
       "      <td>1920x1080</td>\n",
       "      <td>Windows 10</td>\n",
       "      <td>2.3 kg</td>\n",
       "      <td>RGB Keyboard</td>\n",
       "      <td>2 years</td>\n",
       "      <td>4 hours</td>\n",
       "      <td>55,000</td>\n",
       "      <td>The MSI GL65 is a high-performance laptop desi...</td>\n",
       "      <td>{'GPU intensity': 'high', 'Display quality': '...</td>\n",
       "    </tr>\n",
       "    <tr>\n",
       "      <th>2</th>\n",
       "      <td>HP</td>\n",
       "      <td>EliteBook</td>\n",
       "      <td>i7</td>\n",
       "      <td>Intel</td>\n",
       "      <td>2.8 GHz</td>\n",
       "      <td>16GB</td>\n",
       "      <td>SSD</td>\n",
       "      <td>LED</td>\n",
       "      <td>14\"</td>\n",
       "      <td>Intel UHD</td>\n",
       "      <td>1920x1080</td>\n",
       "      <td>Windows 11</td>\n",
       "      <td>1.5 kg</td>\n",
       "      <td>Fingerprint Sensor</td>\n",
       "      <td>3 years</td>\n",
       "      <td>8 hours</td>\n",
       "      <td>90,000</td>\n",
       "      <td>The HP EliteBook is a premium laptop designed ...</td>\n",
       "      <td>{'GPU intensity': 'low', 'Display quality': 'm...</td>\n",
       "    </tr>\n",
       "    <tr>\n",
       "      <th>3</th>\n",
       "      <td>Lenovo</td>\n",
       "      <td>IdeaPad</td>\n",
       "      <td>i3</td>\n",
       "      <td>Intel</td>\n",
       "      <td>2.1 GHz</td>\n",
       "      <td>8GB</td>\n",
       "      <td>HDD</td>\n",
       "      <td>TN</td>\n",
       "      <td>15.6\"</td>\n",
       "      <td>Intel UHD</td>\n",
       "      <td>1366x768</td>\n",
       "      <td>Windows 10</td>\n",
       "      <td>2.2 kg</td>\n",
       "      <td>Dolby Audio</td>\n",
       "      <td>1 year</td>\n",
       "      <td>5 hours</td>\n",
       "      <td>25,000</td>\n",
       "      <td>The Lenovo IdeaPad is a versatile laptop that ...</td>\n",
       "      <td>{'GPU intensity': 'low', 'Display quality': 'l...</td>\n",
       "    </tr>\n",
       "    <tr>\n",
       "      <th>4</th>\n",
       "      <td>ASUS</td>\n",
       "      <td>ZenBook Pro</td>\n",
       "      <td>i9</td>\n",
       "      <td>Intel</td>\n",
       "      <td>3.1 GHz</td>\n",
       "      <td>64GB</td>\n",
       "      <td>SSD</td>\n",
       "      <td>OLED</td>\n",
       "      <td>15.6\"</td>\n",
       "      <td>NVIDIA RTX</td>\n",
       "      <td>3840x2160</td>\n",
       "      <td>Windows 10</td>\n",
       "      <td>1.8 kg</td>\n",
       "      <td>NanoEdge Display</td>\n",
       "      <td>2 years</td>\n",
       "      <td>7 hours</td>\n",
       "      <td>200,000</td>\n",
       "      <td>The ASUS ZenBook Pro is a high-end laptop that...</td>\n",
       "      <td>{'GPU intensity': 'high', 'Display quality': '...</td>\n",
       "    </tr>\n",
       "  </tbody>\n",
       "</table>\n",
       "</div>"
      ],
      "text/plain": [
       "    Brand   Model Name Core CPU Manufacturer Clock Speed RAM Size Storage Type Display Type  \\\n",
       "0    Dell     Inspiron   i5            Intel     2.4 GHz      8GB          SSD          LCD   \n",
       "1     MSI         GL65   i7            Intel     2.6 GHz     16GB      HDD+SSD          IPS   \n",
       "2      HP    EliteBook   i7            Intel     2.8 GHz     16GB          SSD          LED   \n",
       "3  Lenovo      IdeaPad   i3            Intel     2.1 GHz      8GB          HDD           TN   \n",
       "4    ASUS  ZenBook Pro   i9            Intel     3.1 GHz     64GB          SSD         OLED   \n",
       "\n",
       "  Display Size Graphics Processor Screen Resolution          OS Laptop Weight    Special Features  \\\n",
       "0        15.6\"          Intel UHD         1920x1080  Windows 10        2.5 kg    Backlit Keyboard   \n",
       "1        15.6\"         NVIDIA GTX         1920x1080  Windows 10        2.3 kg        RGB Keyboard   \n",
       "2          14\"          Intel UHD         1920x1080  Windows 11        1.5 kg  Fingerprint Sensor   \n",
       "3        15.6\"          Intel UHD          1366x768  Windows 10        2.2 kg         Dolby Audio   \n",
       "4        15.6\"         NVIDIA RTX         3840x2160  Windows 10        1.8 kg    NanoEdge Display   \n",
       "\n",
       "  Warranty Average Battery Life    Price                                        Description  \\\n",
       "0   1 year              6 hours   35,000  The Dell Inspiron is a versatile laptop that c...   \n",
       "1  2 years              4 hours   55,000  The MSI GL65 is a high-performance laptop desi...   \n",
       "2  3 years              8 hours   90,000  The HP EliteBook is a premium laptop designed ...   \n",
       "3   1 year              5 hours   25,000  The Lenovo IdeaPad is a versatile laptop that ...   \n",
       "4  2 years              7 hours  200,000  The ASUS ZenBook Pro is a high-end laptop that...   \n",
       "\n",
       "                                      laptop_feature  \n",
       "0  {'GPU intensity': 'low', 'Display quality': 'm...  \n",
       "1  {'GPU intensity': 'high', 'Display quality': '...  \n",
       "2  {'GPU intensity': 'low', 'Display quality': 'm...  \n",
       "3  {'GPU intensity': 'low', 'Display quality': 'l...  \n",
       "4  {'GPU intensity': 'high', 'Display quality': '...  "
      ]
     },
     "execution_count": 435,
     "metadata": {},
     "output_type": "execute_result"
    }
   ],
   "source": [
    "laptop_df.head()"
   ]
  },
  {
   "cell_type": "markdown",
   "id": "3141b150",
   "metadata": {
    "id": "3141b150"
   },
   "source": [
    "### `compare_laptops_with_user()`:\n",
    "\n",
    "This function compares the user's profile with the different laptops and come back with the top  recommendations. It will perform the following steps:\n",
    "    - It will take the user requirements dictionary as input\n",
    "    - Filter the laptops based on their price, keeping only the ones within the user's budget.\n",
    "    - Calculate a score for each laptop based on how well it matches the user's requirements.\n",
    "    - Sort the laptops based on their scores in descending order.\n",
    "    - Return the top 3 laptops as a JSON-formatted string."
   ]
  },
  {
   "cell_type": "code",
   "execution_count": 540,
   "id": "13893e22-3f7e-48d6-a09f-3068927aeee0",
   "metadata": {},
   "outputs": [],
   "source": [
    "def find_match_score(input1, input2, debug=False):\n",
    "    match_score = 0  # Initialize match score to 0\n",
    "     # Check if input1 is a string and convert it to a dictionary if needed\n",
    "    if isinstance(input1, str):\n",
    "        input1_dict = ast.literal_eval(input1)\n",
    "    else:\n",
    "        input1_dict = input1  # If already a dictionary, use it directly\n",
    "    \n",
    "    # Check if input2 is a string and convert it to a dictionary if needed\n",
    "    if isinstance(input2, str):\n",
    "        input2_dict = ast.literal_eval(input2)\n",
    "    else:\n",
    "        input2_dict = input2  # If already a dictionary, use it directly\n",
    "    \n",
    "    # Define the hierarchy of the values (None will be treated as -1, and 'low', 'medium', 'high' will have respective values)\n",
    "    hierarchy = {None: -1, 'low': 1, 'medium': 2, 'high': 3}\n",
    "    \n",
    "    # Iterate through each key-value pair in the first dictionary\n",
    "    for key, value in input1_dict.items():\n",
    "        if key != 'Budget':  # Skip the 'Budget' key for this match scoring logic\n",
    "            # Calculate the difference between the values in input1_dict and input2_dict based on hierarchy\n",
    "            if (hierarchy.get(input2_dict.get(key, None), -1) - hierarchy.get(value, -1)) >= 0:\n",
    "                match_score += 1  # If input2 value is higher in the hierarchy, increment match score\n",
    "                if debug:\n",
    "                    # If debugging, print the status of the match and corresponding values\n",
    "                    print(f\"Pass\")\n",
    "                    print(f\"Asked {key} : {hierarchy.get(value, -1)} - {value} ; Laptop's {key}: {hierarchy.get(input2_dict.get(key, None))} - {input2_dict.get(key, None)}\")\n",
    "            else:\n",
    "                if debug:\n",
    "                    # If the condition fails, print debug information\n",
    "                    print(\"Fail\")\n",
    "                    print(f\"Asked {key} : {hierarchy.get(value, -1)} - {value} ; Laptop's {key}: {hierarchy.get(input2_dict.get(key, None))} - {input2_dict.get(key, None)}\")\n",
    "        else:\n",
    "            if debug:\n",
    "                # If 'Budget' is encountered, print debug info\n",
    "                print(\"Fail\")\n",
    "                print(f\"Asked {key} : {hierarchy.get(value, -1)} - {value}\")\n",
    "        \n",
    "        # If debugging is enabled, print the total match score after each iteration\n",
    "        if debug:\n",
    "            print(f\"Total Match Score : {match_score}\")\n",
    "    \n",
    "    return match_score  # Return the final match score"
   ]
  },
  {
   "cell_type": "code",
   "execution_count": 543,
   "id": "ZqKvUdFkcPXF",
   "metadata": {
    "id": "ZqKvUdFkcPXF"
   },
   "outputs": [],
   "source": [
    "def compare_laptops_with_user(user_req_string):\n",
    "    \"\"\"\n",
    "    Compares laptops based on user requirements and returns the top 3 matching laptops in JSON format.\n",
    "\n",
    "    Parameters:\n",
    "    - user_req_string (str): A string representing user requirements in JSON format.\n",
    "    - {{{'GPU intensity': 'high',\n",
    "         'Display quality': 'high',\n",
    "         'Portability': 'low',\n",
    "         'Multitasking': 'high',\n",
    "         'Processing speed': 'medium',\n",
    "         'Budget': 80000}}}\n",
    "\n",
    "    Returns:\n",
    "    - str: A JSON string containing information about the top 3 matching laptops based on user requirements.\n",
    "    \"\"\"\n",
    "    \n",
    "    user_laptop_df = pd.read_csv('updated_laptop.csv')\n",
    "    \n",
    "    # Format price column\n",
    "    user_laptop_df['Price']=user_laptop_df['Price'].str.replace(',','').astype('float64')\n",
    "    user_laptop_df=user_laptop_df[ user_laptop_df['Price']<=user_req_string['Budget'] ]\n",
    "    user_laptop_df = user_laptop_df.reset_index(drop=True)\n",
    "\n",
    "    # Extracting user requirements from the input string (assuming it's a dictionary)\n",
    "    # Create a scoring mechanism for comparing the laptops in the laptop descriptions against the user_req_string containing the user's persona\n",
    "    user_laptop_df['Score'] = user_laptop_df['laptop_feature'].apply(lambda x : find_match_score(user_req_string, x, debug=False))    \n",
    "    # Sorting laptops by score in descending order and selecting the top 3 products\n",
    "    top_laptops=user_laptop_df.sort_values(by=['Score','Price'],ascending=[False,True]).head(3)\n",
    "    # top_laptops\n",
    "    top_laptops_json=top_laptops.to_json(orient='records') # Converting the top laptops DataFrame to JSON string\n",
    "    \n",
    "    return top_laptops_json"
   ]
  },
  {
   "cell_type": "markdown",
   "id": "e1faebdc",
   "metadata": {
    "id": "e1faebdc"
   },
   "source": [
    "Now that you have the `compare_laptops_with_user()` function ready, let's pass the `response_dict_n` to the function to get top 3 recommendation."
   ]
  },
  {
   "cell_type": "code",
   "execution_count": 544,
   "id": "rsTOq6lrb53Y",
   "metadata": {
    "id": "rsTOq6lrb53Y"
   },
   "outputs": [
    {
     "data": {
      "text/plain": [
       "{'GPU intensity': 'high',\n",
       " 'Display quality': 'high',\n",
       " 'Portability': 'low',\n",
       " 'Multitasking': 'high',\n",
       " 'Processing speed': 'medium',\n",
       " 'Budget': 80000}"
      ]
     },
     "metadata": {},
     "output_type": "display_data"
    },
    {
     "data": {
      "text/plain": [
       "'\\n'"
      ]
     },
     "metadata": {},
     "output_type": "display_data"
    },
    {
     "data": {
      "text/plain": [
       "dict"
      ]
     },
     "metadata": {},
     "output_type": "display_data"
    }
   ],
   "source": [
    "display(response_dict_n, '\\n',type(response_dict_n))"
   ]
  },
  {
   "cell_type": "code",
   "execution_count": null,
   "id": "oJrlVQZo8h7t",
   "metadata": {
    "id": "oJrlVQZo8h7t"
   },
   "outputs": [],
   "source": [
    "dictionary_present(response_dict_n)"
   ]
  },
  {
   "cell_type": "code",
   "execution_count": 545,
   "id": "c4d3ff4a",
   "metadata": {
    "id": "c4d3ff4a",
    "scrolled": true
   },
   "outputs": [
    {
     "data": {
      "text/plain": [
       "'[{\"Brand\":\"Lenovo\",\"Model Name\":\"ThinkPad\",\"Core\":\"Ryzen 7\",\"CPU Manufacturer\":\"AMD\",\"Clock Speed\":\"3.0 GHz\",\"RAM Size\":\"16GB\",\"Storage Type\":\"SSD\",\"Display Type\":\"IPS\",\"Display Size\":\"14\\\\\"\",\"Graphics Processor\":\"NVIDIA GTX\",\"Screen Resolution\":\"2560x1440\",\"OS\":\"Linux\",\"Laptop Weight\":\"1.6 kg\",\"Special Features\":\"Backlit Keyboard\",\"Warranty\":\"3 years\",\"Average Battery Life\":\"6 hours\",\"Price\":60000.0,\"Description\":\"The Lenovo ThinkPad is a powerful laptop designed for professional users. It is equipped with a Ryzen 7 processor from AMD clocked at 3.0 GHz, providing strong processing capabilities for demanding tasks. With 16GB of RAM and an SSD, it offers smooth multitasking and fast storage access. The laptop features a 14\\\\\" IPS display with a resolution of 2560x1440, delivering sharp visuals and accurate colors. It also comes with an NVIDIA GTX graphics card for enhanced graphical performance. Weighing just 1.6 kg, it is lightweight and highly portable. The laptop features a backlit keyboard for comfortable typing in low-light environments. With a three-year warranty and a battery life of up to 6 hours, the Lenovo ThinkPad offers reliability and durability. Priced at 60,000, it is an excellent choice for professionals seeking powerful performance and a versatile display.\",\"laptop_feature\":\"{\\'GPU intensity\\': \\'high\\', \\'Display quality\\': \\'high\\', \\'Portability\\': \\'medium\\', \\'Multitasking\\': \\'medium\\', \\'Processing speed\\': \\'high\\'}\",\"Score\":4},{\"Brand\":\"MSI\",\"Model Name\":\"GL65\",\"Core\":\"i7\",\"CPU Manufacturer\":\"Intel\",\"Clock Speed\":\"2.6 GHz\",\"RAM Size\":\"16GB\",\"Storage Type\":\"HDD+SSD\",\"Display Type\":\"IPS\",\"Display Size\":\"15.6\\\\\"\",\"Graphics Processor\":\"NVIDIA GTX\",\"Screen Resolution\":\"1920x1080\",\"OS\":\"Windows 10\",\"Laptop Weight\":\"2.3 kg\",\"Special Features\":\"RGB Keyboard\",\"Warranty\":\"2 years\",\"Average Battery Life\":\"4 hours\",\"Price\":55000.0,\"Description\":\"The MSI GL65 is a high-performance laptop designed for gaming enthusiasts. Powered by an Intel Core i7 processor running at 2.6 GHz, it delivers exceptional processing power for smooth gaming and demanding tasks. With 16GB of RAM and a combination of HDD and SSD storage, it offers ample memory and fast data access. The laptop features a 15.6\\\\\" IPS display with a resolution of 1920x1080, ensuring vivid colors and wide viewing angles for an immersive gaming experience. Equipped with an NVIDIA GTX graphics card, it provides excellent visual performance and smooth gameplay. Weighing just 2.3 kg, it is a portable option for gamers on the move. The laptop also boasts an RGB keyboard, allowing customizable lighting effects for a personalized gaming setup. With a two-year warranty and a battery life of up to 4 hours, the MSI GL65 offers reliability and durability. Priced at 55,000, it offers excellent value for money for gamers seeking a powerful gaming laptop.\",\"laptop_feature\":\"{\\'GPU intensity\\': \\'high\\', \\'Display quality\\': \\'medium\\', \\'Portability\\': \\'medium\\', \\'Multitasking\\': \\'medium\\', \\'Processing speed\\': \\'high\\'}\",\"Score\":3},{\"Brand\":\"MSI\",\"Model Name\":\"Prestige 14\",\"Core\":\"i5\",\"CPU Manufacturer\":\"Intel\",\"Clock Speed\":\"2.4 GHz\",\"RAM Size\":\"16GB\",\"Storage Type\":\"SSD\",\"Display Type\":\"IPS\",\"Display Size\":\"14\\\\\"\",\"Graphics Processor\":\"NVIDIA GTX\",\"Screen Resolution\":\"1920x1080\",\"OS\":\"Windows 10\",\"Laptop Weight\":\"1.29 kg\",\"Special Features\":\"True Color Technology\",\"Warranty\":\"2 years\",\"Average Battery Life\":\"8 hours\",\"Price\":70000.0,\"Description\":\"The MSI Prestige 14 is a compact and stylish laptop designed for professionals and content creators. It features an Intel Core i5 processor running at 2.4 GHz, providing reliable performance for multitasking and creative work. With 16GB of RAM and an SSD, it offers fast and responsive performance along with ample storage capacity. The laptop features a 14\\\\\" IPS display with a resolution of 1920x1080, delivering accurate colors and wide viewing angles. It comes with an NVIDIA GTX graphics card for enhanced graphical performance. Weighing just 1.29 kg, it is highly portable and suitable for on-the-go productivity. The laptop features True Color Technology, ensuring color accuracy for content creation. With a two-year warranty and a battery life of up to 8 hours, the MSI Prestige 14 offers reliability and endurance for professional use. Priced at 70,000, it provides a balance of performance, portability, and affordability.\",\"laptop_feature\":\"{\\'GPU intensity\\': \\'high\\', \\'Display quality\\': \\'medium\\', \\'Portability\\': \\'high\\', \\'Multitasking\\': \\'medium\\', \\'Processing speed\\': \\'medium\\'}\",\"Score\":3}]'"
      ]
     },
     "metadata": {},
     "output_type": "display_data"
    }
   ],
   "source": [
    "top_3_laptops = compare_laptops_with_user(response_dict_n)\n",
    "\n",
    "display(top_3_laptops)"
   ]
  },
  {
   "cell_type": "markdown",
   "id": "U23YCuEhv3tH",
   "metadata": {
    "id": "U23YCuEhv3tH"
   },
   "source": [
    "### `product_validation_layer()`:\n",
    "\n",
    "This function verifies that the laptop recommendations are good enough, has score greater than 2, and matches the user's requirements."
   ]
  },
  {
   "cell_type": "code",
   "execution_count": 548,
   "id": "a0d6dd68",
   "metadata": {
    "id": "a0d6dd68"
   },
   "outputs": [],
   "source": [
    "def recommendation_validation(laptop_recommendation):\n",
    "    \"\"\"\n",
    "    Validate a list of laptop recommendations based on a score threshold.\n",
    "\n",
    "    Parameters:\n",
    "    - laptop_recommendation (str): JSON string containing a list of laptop recommendations,\n",
    "      each with a 'Score' key representing its rating.\n",
    "\n",
    "    Returns:\n",
    "    - list: A filtered list of laptop recommendations where each item has a 'Score' greater than 2.\n",
    "    \"\"\"\n",
    "    laptop_recommendation=top_3_laptops\n",
    "    laptop_data=json.loads(laptop_recommendation) # convert JSON string to Python objects\n",
    "    validated_data=[]\n",
    "    for product in laptop_data :\n",
    "        if product['Score']>2 :\n",
    "            validated_data.append(product)\n",
    "\n",
    "    return validated_data\n",
    "    "
   ]
  },
  {
   "cell_type": "code",
   "execution_count": 549,
   "id": "c22c6b76",
   "metadata": {
    "id": "c22c6b76",
    "scrolled": true
   },
   "outputs": [
    {
     "name": "stdout",
     "output_type": "stream",
     "text": [
      "[{'Brand': 'Lenovo', 'Model Name': 'ThinkPad', 'Core': 'Ryzen 7', 'CPU Manufacturer': 'AMD', 'Clock Speed': '3.0 GHz', 'RAM Size': '16GB', 'Storage Type': 'SSD', 'Display Type': 'IPS', 'Display Size': '14\"', 'Graphics Processor': 'NVIDIA GTX', 'Screen Resolution': '2560x1440', 'OS': 'Linux', 'Laptop Weight': '1.6 kg', 'Special Features': 'Backlit Keyboard', 'Warranty': '3 years', 'Average Battery Life': '6 hours', 'Price': 60000.0, 'Description': 'The Lenovo ThinkPad is a powerful laptop designed for professional users. It is equipped with a Ryzen 7 processor from AMD clocked at 3.0 GHz, providing strong processing capabilities for demanding tasks. With 16GB of RAM and an SSD, it offers smooth multitasking and fast storage access. The laptop features a 14\" IPS display with a resolution of 2560x1440, delivering sharp visuals and accurate colors. It also comes with an NVIDIA GTX graphics card for enhanced graphical performance. Weighing just 1.6 kg, it is lightweight and highly portable. The laptop features a backlit keyboard for comfortable typing in low-light environments. With a three-year warranty and a battery life of up to 6 hours, the Lenovo ThinkPad offers reliability and durability. Priced at 60,000, it is an excellent choice for professionals seeking powerful performance and a versatile display.', 'laptop_feature': \"{'GPU intensity': 'high', 'Display quality': 'high', 'Portability': 'medium', 'Multitasking': 'medium', 'Processing speed': 'high'}\", 'Score': 4}, {'Brand': 'MSI', 'Model Name': 'GL65', 'Core': 'i7', 'CPU Manufacturer': 'Intel', 'Clock Speed': '2.6 GHz', 'RAM Size': '16GB', 'Storage Type': 'HDD+SSD', 'Display Type': 'IPS', 'Display Size': '15.6\"', 'Graphics Processor': 'NVIDIA GTX', 'Screen Resolution': '1920x1080', 'OS': 'Windows 10', 'Laptop Weight': '2.3 kg', 'Special Features': 'RGB Keyboard', 'Warranty': '2 years', 'Average Battery Life': '4 hours', 'Price': 55000.0, 'Description': 'The MSI GL65 is a high-performance laptop designed for gaming enthusiasts. Powered by an Intel Core i7 processor running at 2.6 GHz, it delivers exceptional processing power for smooth gaming and demanding tasks. With 16GB of RAM and a combination of HDD and SSD storage, it offers ample memory and fast data access. The laptop features a 15.6\" IPS display with a resolution of 1920x1080, ensuring vivid colors and wide viewing angles for an immersive gaming experience. Equipped with an NVIDIA GTX graphics card, it provides excellent visual performance and smooth gameplay. Weighing just 2.3 kg, it is a portable option for gamers on the move. The laptop also boasts an RGB keyboard, allowing customizable lighting effects for a personalized gaming setup. With a two-year warranty and a battery life of up to 4 hours, the MSI GL65 offers reliability and durability. Priced at 55,000, it offers excellent value for money for gamers seeking a powerful gaming laptop.', 'laptop_feature': \"{'GPU intensity': 'high', 'Display quality': 'medium', 'Portability': 'medium', 'Multitasking': 'medium', 'Processing speed': 'high'}\", 'Score': 3}, {'Brand': 'MSI', 'Model Name': 'Prestige 14', 'Core': 'i5', 'CPU Manufacturer': 'Intel', 'Clock Speed': '2.4 GHz', 'RAM Size': '16GB', 'Storage Type': 'SSD', 'Display Type': 'IPS', 'Display Size': '14\"', 'Graphics Processor': 'NVIDIA GTX', 'Screen Resolution': '1920x1080', 'OS': 'Windows 10', 'Laptop Weight': '1.29 kg', 'Special Features': 'True Color Technology', 'Warranty': '2 years', 'Average Battery Life': '8 hours', 'Price': 70000.0, 'Description': 'The MSI Prestige 14 is a compact and stylish laptop designed for professionals and content creators. It features an Intel Core i5 processor running at 2.4 GHz, providing reliable performance for multitasking and creative work. With 16GB of RAM and an SSD, it offers fast and responsive performance along with ample storage capacity. The laptop features a 14\" IPS display with a resolution of 1920x1080, delivering accurate colors and wide viewing angles. It comes with an NVIDIA GTX graphics card for enhanced graphical performance. Weighing just 1.29 kg, it is highly portable and suitable for on-the-go productivity. The laptop features True Color Technology, ensuring color accuracy for content creation. With a two-year warranty and a battery life of up to 8 hours, the MSI Prestige 14 offers reliability and endurance for professional use. Priced at 70,000, it provides a balance of performance, portability, and affordability.', 'laptop_feature': \"{'GPU intensity': 'high', 'Display quality': 'medium', 'Portability': 'high', 'Multitasking': 'medium', 'Processing speed': 'medium'}\", 'Score': 3}]\n"
     ]
    }
   ],
   "source": [
    "validated_data = recommendation_validation(top_3_laptops)\n",
    "print(validated_data)"
   ]
  },
  {
   "cell_type": "markdown",
   "id": "f1f97d7a",
   "metadata": {
    "id": "f1f97d7a"
   },
   "source": [
    "Now that you the top 3 laptops extracted, let's pass it to the recommendation layer that'll send it to the user and the user can ask questions around it."
   ]
  },
  {
   "cell_type": "markdown",
   "id": "0dd45791-5f66-4a20-9678-06d02f7b7a13",
   "metadata": {},
   "source": [
    "## Stage 3"
   ]
  },
  {
   "cell_type": "markdown",
   "id": "392b7e62-f86f-4126-936e-96840dd759ef",
   "metadata": {},
   "source": [
    "[Stage 3 Flowchart](https://cdn.upgrad.com/uploads/production/4c12bc73-8c12-4095-90f2-3dfca0f277e5/Stage+3.jpg)"
   ]
  },
  {
   "cell_type": "markdown",
   "id": "e2cbb6e2-d3cf-4955-ab71-075dbff3b0ef",
   "metadata": {},
   "source": [
    "### 3.4: Product Recommendation Layer\n",
    "\n",
    "Finally, we come to the product recommendation layer. It takes the output from the `compare_laptops_with_user` function in the previous layer and provides the recommendations to the user. It has the following steps.\n",
    "1. Initialize the conversation for recommendation.\n",
    "2. Generate the recommendations and display in a presentable format.\n",
    "3. Ask questions basis the recommendations.\n",
    "\n"
   ]
  },
  {
   "cell_type": "code",
   "execution_count": 552,
   "id": "e6086451-f8df-46ee-8531-0f5d4502fceb",
   "metadata": {},
   "outputs": [],
   "source": [
    "def initialize_conv_reco(products):\n",
    "    \"\"\"\n",
    "    Initializes a conversation recommendation system for a laptop gadget expert.\n",
    "\n",
    "    Parameters:\n",
    "    - products (list): A list of products to be included in the user's profile.\n",
    "\n",
    "    Returns:\n",
    "    - conversation (list): A list containing initial system and user messages for the conversation.\n",
    "\n",
    "    Description:\n",
    "    This function sets up a conversation recommendation system for an intelligent laptop gadget expert.\n",
    "    The system message provides guidance on how to respond to user queries based on the product catalog.\n",
    "    It instructs to summarize each laptop's major specifications and price, starting with the most expensive.\n",
    "    The user message confirms the list of products included in the user's profile.\n",
    "\n",
    "    Example:\n",
    "    >>> products = ['Laptop A', 'Laptop B', 'Laptop C']\n",
    "    >>> initialize_conv_reco(products)\n",
    "    [{'role': 'system', 'content': 'You are an intelligent laptop gadget expert and you are tasked with the objective to solve the user queries about any product from the catalogue in the user message. You should keep the user profile in mind while answering the questions.\\n\\nStart with a brief summary of each laptop in the following format, in decreasing order of price of laptops:\\n1. <Laptop Name> : <Major specifications of the laptop>, <Price in Rs>\\n2. <Laptop Name> : <Major specifications of the laptop>, <Price in Rs>\\n\\n'},\n",
    "    {'role': 'user', 'content': \" These are the user's products: ['Laptop A', 'Laptop B', 'Laptop C']\"}]\n",
    "    \"\"\"\n",
    "    system_message = f\"\"\"\n",
    "    You are an intelligent laptop gadget expert and you are tasked with the objective to \\\n",
    "    solve the user queries about any product from the catalogue in the user message \\\n",
    "    You should keep the user profile in mind while answering the questions.\\\n",
    "\n",
    "    Start with a brief summary of each laptop in the following format, in decreasing order of price of laptops:\n",
    "    1. <Laptop Name> : <Major specifications of the laptop>, <Price in Rs>\n",
    "    2. <Laptop Name> : <Major specifications of the laptop>, <Price in Rs>\n",
    "\n",
    "    \"\"\"\n",
    "    user_message = f\"\"\" These are the user's products: {products}\"\"\"\n",
    "    conversation = [{\"role\": \"system\", \"content\": system_message },\n",
    "                    {\"role\":\"user\",\"content\":user_message}]\n",
    "    return conversation"
   ]
  },
  {
   "cell_type": "markdown",
   "id": "9cc6b0fa-2327-488c-b95b-69194a6e86b8",
   "metadata": {},
   "source": [
    "Let's initialize the conversation for recommendation."
   ]
  },
  {
   "cell_type": "code",
   "execution_count": 553,
   "id": "f2efbcfb-6f79-4e3e-a051-5126c4253cfe",
   "metadata": {},
   "outputs": [
    {
     "data": {
      "text/plain": [
       "[{'role': 'system',\n",
       "  'content': '\\n    You are an intelligent laptop gadget expert and you are tasked with the objective to     solve the user queries about any product from the catalogue in the user message     You should keep the user profile in mind while answering the questions.\\n    Start with a brief summary of each laptop in the following format, in decreasing order of price of laptops:\\n    1. <Laptop Name> : <Major specifications of the laptop>, <Price in Rs>\\n    2. <Laptop Name> : <Major specifications of the laptop>, <Price in Rs>\\n\\n    '},\n",
       " {'role': 'user',\n",
       "  'content': ' These are the user\\'s products: [{\"Brand\":\"Lenovo\",\"Model Name\":\"ThinkPad\",\"Core\":\"Ryzen 7\",\"CPU Manufacturer\":\"AMD\",\"Clock Speed\":\"3.0 GHz\",\"RAM Size\":\"16GB\",\"Storage Type\":\"SSD\",\"Display Type\":\"IPS\",\"Display Size\":\"14\\\\\"\",\"Graphics Processor\":\"NVIDIA GTX\",\"Screen Resolution\":\"2560x1440\",\"OS\":\"Linux\",\"Laptop Weight\":\"1.6 kg\",\"Special Features\":\"Backlit Keyboard\",\"Warranty\":\"3 years\",\"Average Battery Life\":\"6 hours\",\"Price\":60000.0,\"Description\":\"The Lenovo ThinkPad is a powerful laptop designed for professional users. It is equipped with a Ryzen 7 processor from AMD clocked at 3.0 GHz, providing strong processing capabilities for demanding tasks. With 16GB of RAM and an SSD, it offers smooth multitasking and fast storage access. The laptop features a 14\\\\\" IPS display with a resolution of 2560x1440, delivering sharp visuals and accurate colors. It also comes with an NVIDIA GTX graphics card for enhanced graphical performance. Weighing just 1.6 kg, it is lightweight and highly portable. The laptop features a backlit keyboard for comfortable typing in low-light environments. With a three-year warranty and a battery life of up to 6 hours, the Lenovo ThinkPad offers reliability and durability. Priced at 60,000, it is an excellent choice for professionals seeking powerful performance and a versatile display.\",\"laptop_feature\":\"{\\'GPU intensity\\': \\'high\\', \\'Display quality\\': \\'high\\', \\'Portability\\': \\'medium\\', \\'Multitasking\\': \\'medium\\', \\'Processing speed\\': \\'high\\'}\",\"Score\":4},{\"Brand\":\"MSI\",\"Model Name\":\"GL65\",\"Core\":\"i7\",\"CPU Manufacturer\":\"Intel\",\"Clock Speed\":\"2.6 GHz\",\"RAM Size\":\"16GB\",\"Storage Type\":\"HDD+SSD\",\"Display Type\":\"IPS\",\"Display Size\":\"15.6\\\\\"\",\"Graphics Processor\":\"NVIDIA GTX\",\"Screen Resolution\":\"1920x1080\",\"OS\":\"Windows 10\",\"Laptop Weight\":\"2.3 kg\",\"Special Features\":\"RGB Keyboard\",\"Warranty\":\"2 years\",\"Average Battery Life\":\"4 hours\",\"Price\":55000.0,\"Description\":\"The MSI GL65 is a high-performance laptop designed for gaming enthusiasts. Powered by an Intel Core i7 processor running at 2.6 GHz, it delivers exceptional processing power for smooth gaming and demanding tasks. With 16GB of RAM and a combination of HDD and SSD storage, it offers ample memory and fast data access. The laptop features a 15.6\\\\\" IPS display with a resolution of 1920x1080, ensuring vivid colors and wide viewing angles for an immersive gaming experience. Equipped with an NVIDIA GTX graphics card, it provides excellent visual performance and smooth gameplay. Weighing just 2.3 kg, it is a portable option for gamers on the move. The laptop also boasts an RGB keyboard, allowing customizable lighting effects for a personalized gaming setup. With a two-year warranty and a battery life of up to 4 hours, the MSI GL65 offers reliability and durability. Priced at 55,000, it offers excellent value for money for gamers seeking a powerful gaming laptop.\",\"laptop_feature\":\"{\\'GPU intensity\\': \\'high\\', \\'Display quality\\': \\'medium\\', \\'Portability\\': \\'medium\\', \\'Multitasking\\': \\'medium\\', \\'Processing speed\\': \\'high\\'}\",\"Score\":3},{\"Brand\":\"MSI\",\"Model Name\":\"Prestige 14\",\"Core\":\"i5\",\"CPU Manufacturer\":\"Intel\",\"Clock Speed\":\"2.4 GHz\",\"RAM Size\":\"16GB\",\"Storage Type\":\"SSD\",\"Display Type\":\"IPS\",\"Display Size\":\"14\\\\\"\",\"Graphics Processor\":\"NVIDIA GTX\",\"Screen Resolution\":\"1920x1080\",\"OS\":\"Windows 10\",\"Laptop Weight\":\"1.29 kg\",\"Special Features\":\"True Color Technology\",\"Warranty\":\"2 years\",\"Average Battery Life\":\"8 hours\",\"Price\":70000.0,\"Description\":\"The MSI Prestige 14 is a compact and stylish laptop designed for professionals and content creators. It features an Intel Core i5 processor running at 2.4 GHz, providing reliable performance for multitasking and creative work. With 16GB of RAM and an SSD, it offers fast and responsive performance along with ample storage capacity. The laptop features a 14\\\\\" IPS display with a resolution of 1920x1080, delivering accurate colors and wide viewing angles. It comes with an NVIDIA GTX graphics card for enhanced graphical performance. Weighing just 1.29 kg, it is highly portable and suitable for on-the-go productivity. The laptop features True Color Technology, ensuring color accuracy for content creation. With a two-year warranty and a battery life of up to 8 hours, the MSI Prestige 14 offers reliability and endurance for professional use. Priced at 70,000, it provides a balance of performance, portability, and affordability.\",\"laptop_feature\":\"{\\'GPU intensity\\': \\'high\\', \\'Display quality\\': \\'medium\\', \\'Portability\\': \\'high\\', \\'Multitasking\\': \\'medium\\', \\'Processing speed\\': \\'medium\\'}\",\"Score\":3}]'}]"
      ]
     },
     "execution_count": 553,
     "metadata": {},
     "output_type": "execute_result"
    }
   ],
   "source": [
    "debug_conversation_reco = initialize_conv_reco(top_3_laptops)\n",
    "debug_conversation_reco"
   ]
  },
  {
   "cell_type": "markdown",
   "id": "dfdb0339-d3aa-46d1-b365-0f0706303e45",
   "metadata": {},
   "source": [
    "Let's see what the assistant responds with the new initialization."
   ]
  },
  {
   "cell_type": "code",
   "execution_count": 554,
   "id": "f0226c71-4211-4a4b-a9b0-925209ae4940",
   "metadata": {},
   "outputs": [
    {
     "name": "stdout",
     "output_type": "stream",
     "text": [
      "Here’s a summary of the laptops in your catalogue, arranged by price:\n",
      "\n",
      "1. **MSI Prestige 14**: Intel Core i5 (2.4 GHz), 16GB RAM, SSD storage, 14\" IPS display (1920x1080), NVIDIA GTX graphics, Windows 10, 1.29 kg, True Color Technology, 2 years warranty, 8 hours battery life, **Price: Rs 70,000**.\n",
      "   \n",
      "2. **Lenovo ThinkPad**: AMD Ryzen 7 (3.0 GHz), 16GB RAM, SSD storage, 14\" IPS display (2560x1440), NVIDIA GTX graphics, Linux, 1.6 kg, Backlit Keyboard, 3 years warranty, 6 hours battery life, **Price: Rs 60,000**.\n",
      "\n",
      "3. **MSI GL65**: Intel Core i7 (2.6 GHz), 16GB RAM, HDD+SSD storage, 15.6\" IPS display (1920x1080), NVIDIA GTX graphics, Windows 10, 2.3 kg, RGB Keyboard, 2 years warranty, 4 hours battery life, **Price: Rs 55,000**.\n",
      "\n",
      "If you have any specific questions about any of these laptops or need assistance with a particular feature, feel free to ask!\n",
      "\n"
     ]
    }
   ],
   "source": [
    "debug_recommendation = get_chat_completions(debug_conversation_reco)\n",
    "print(debug_recommendation + '\\n')"
   ]
  },
  {
   "cell_type": "markdown",
   "id": "3d298a5a-92f4-482c-adb6-44f419dcfc96",
   "metadata": {},
   "source": [
    "Now, you can converse with the chatbot on the filtered products."
   ]
  },
  {
   "cell_type": "code",
   "execution_count": 556,
   "id": "fae486b4-b808-46ca-a379-881f9d8f164a",
   "metadata": {},
   "outputs": [
    {
     "data": {
      "text/plain": [
       "{'GPU intensity': 'high',\n",
       " 'Display quality': 'high',\n",
       " 'Portability': 'low',\n",
       " 'Multitasking': 'high',\n",
       " 'Processing speed': 'medium',\n",
       " 'Budget': 80000}"
      ]
     },
     "execution_count": 556,
     "metadata": {},
     "output_type": "execute_result"
    }
   ],
   "source": [
    "response_dict_n"
   ]
  },
  {
   "cell_type": "code",
   "execution_count": 557,
   "id": "218ca11a-5648-46f1-b4c2-038cd112f3f8",
   "metadata": {},
   "outputs": [],
   "source": [
    "debug_conversation_reco.append({\"role\": \"user\", \"content\": \"This is my user profile\" + str(response_dict_n)})\n",
    "debug_conversation_reco.append({\"role\": \"assistant\", \"content\": debug_recommendation})"
   ]
  },
  {
   "cell_type": "code",
   "execution_count": 558,
   "id": "a9fcc3a9-0277-4aa9-a2f8-a49fd3828a3d",
   "metadata": {},
   "outputs": [],
   "source": [
    "debug_user_input = \"Which is ideal for travel?\""
   ]
  },
  {
   "cell_type": "code",
   "execution_count": 559,
   "id": "516bb982-e6d1-4daf-83c5-4d62dfe09932",
   "metadata": {},
   "outputs": [
    {
     "data": {
      "text/plain": [
       "'\\nBased on your user profile and the specifications of the laptops, the **MSI Prestige 14** is the most ideal for travel. Here are the reasons:\\n\\n- **Weight**: At just 1.29 kg, it is the lightest option among the three, making it highly portable for travel.\\n- **Battery Life**: With an average battery life of up to 8 hours, it allows for extended use without needing to recharge frequently, which is beneficial while on the go.\\n- **Display Quality**: It features a 14\" IPS display with a resolution of 1920x1080, providing good visual quality for work or entertainment during travel.\\n\\nWhile the **Lenovo ThinkPad** is also portable at 1.6 kg, the MSI Prestige 14 offers a better combination of weight and battery life, making it the top choice for travel.\\n'"
      ]
     },
     "metadata": {},
     "output_type": "display_data"
    }
   ],
   "source": [
    "debug_conversation_reco.append({\"role\": \"user\", \"content\": debug_user_input})\n",
    "debug_response_asst_reco = get_chat_completions(debug_conversation_reco)\n",
    "display('\\n' + debug_response_asst_reco + '\\n')"
   ]
  },
  {
   "cell_type": "code",
   "execution_count": 560,
   "id": "78665607-797b-4b7a-b510-57a1ea9ad5d1",
   "metadata": {},
   "outputs": [
    {
     "data": {
      "text/markdown": [
       "Based on your user profile and the specifications of the laptops, the **MSI Prestige 14** is the most ideal for travel. Here are the reasons:\n",
       "\n",
       "- **Weight**: At just 1.29 kg, it is the lightest option among the three, making it highly portable for travel.\n",
       "- **Battery Life**: With an average battery life of up to 8 hours, it allows for extended use without needing to recharge frequently, which is beneficial while on the go.\n",
       "- **Display Quality**: It features a 14\" IPS display with a resolution of 1920x1080, providing good visual quality for work or entertainment during travel.\n",
       "\n",
       "While the **Lenovo ThinkPad** is also portable at 1.6 kg, the MSI Prestige 14 offers a better combination of weight and battery life, making it the top choice for travel."
      ],
      "text/plain": [
       "<IPython.core.display.Markdown object>"
      ]
     },
     "execution_count": 560,
     "metadata": {},
     "output_type": "execute_result"
    }
   ],
   "source": [
    "Markdown(debug_response_asst_reco)"
   ]
  },
  {
   "cell_type": "markdown",
   "id": "73d4929f-ce4e-46f1-b7fc-544877c9a871",
   "metadata": {},
   "source": [
    "You can repeat the process of appending the assistant and user messages and test the chatbot out."
   ]
  },
  {
   "cell_type": "markdown",
   "id": "b4579e00-b47a-46ab-b7ac-b305f489b65a",
   "metadata": {},
   "source": [
    "## Combining all the 3 stages\n",
    "\n",
    "In this layer, we combine all the three stages that we defined above.\n",
    "\n",
    "`Stage 1` + `Stage 2` + `Stage 3`"
   ]
  },
  {
   "cell_type": "markdown",
   "id": "8276b64d-71bf-47ef-8b3e-a9c2acf2d5a1",
   "metadata": {},
   "source": [
    "### 3.5 Dialogue Management System\n",
    "\n",
    "Bringing everything together, we create a `diagloue_mgmt_system()` function that contains the logic of how the different layers would interact with each other. This will be the function that we'll call to initiate the chatbot"
   ]
  },
  {
   "cell_type": "code",
   "execution_count": null,
   "id": "9f847e4f-bee7-4992-a7bc-3cbc3250bfad",
   "metadata": {},
   "outputs": [],
   "source": [
    "def dialogue_mgmt_system():\n",
    "    \"\"\"\n",
    "    Manages a conversational system between a user and an assistant to recommend laptops.\n",
    "\n",
    "    This function initializes the conversation, retrieves the introduction, handles user input,\n",
    "    performs moderation checks, and manages the recommendation process based on user interactions.\n",
    "\n",
    "    Returns:\n",
    "        None\n",
    "    \"\"\"\n"
   ]
  },
  {
   "cell_type": "code",
   "execution_count": 561,
   "id": "e8f04aac-127c-463e-9069-5460dcc9238c",
   "metadata": {},
   "outputs": [],
   "source": [
    "def dialogue_mgmt_system():\n",
    "    \"\"\"\n",
    "    Manages a conversational system between a user and an assistant to recommend laptops.\n",
    "\n",
    "    This function initializes the conversation, retrieves the introduction, handles user input,\n",
    "    performs moderation checks, and manages the recommendation process based on user interactions.\n",
    "\n",
    "    Returns:\n",
    "        None\n",
    "    \"\"\"\n",
    "\n",
    "    conversation = initialize_conversation()\n",
    "\n",
    "    introduction = get_chat_completions(conversation)\n",
    "\n",
    "    display(introduction + '\\n')\n",
    "\n",
    "    top_3_laptops = None\n",
    "\n",
    "    user_input = ''\n",
    "\n",
    "    while(user_input != \"exit\"):\n",
    "\n",
    "        user_input = input(\"\")\n",
    "\n",
    "        moderation = moderation_check(user_input)\n",
    "        if moderation == 'Flagged':\n",
    "            display(\"Sorry, this message has been flagged. Please restart your conversation.\")\n",
    "            break\n",
    "\n",
    "        if top_3_laptops is None:\n",
    "\n",
    "            conversation.append({\"role\": \"user\", \"content\": user_input})\n",
    "\n",
    "            response_assistant = get_chat_completions(conversation)\n",
    "            moderation = moderation_check(response_assistant)\n",
    "            if moderation == 'Flagged':\n",
    "                display(\"Sorry, this message has been flagged. Please restart your conversation.\")\n",
    "                break\n",
    "\n",
    "\n",
    "            confirmation = intent_confirmation_layer(response_assistant)\n",
    "\n",
    "            print(\"Intent Confirmation Yes/No:\",confirmation.get('result'))\n",
    "\n",
    "            if \"No\" in confirmation.get('result'):\n",
    "                conversation.append({\"role\": \"assistant\", \"content\": str(response_assistant)})\n",
    "                print(\"\\n\" + str(response_assistant) + \"\\n\")\n",
    "\n",
    "            else:\n",
    "                print(\"\\n\" + str(response_assistant) + \"\\n\")\n",
    "                print('\\n' + \"Variables extracted!\" + '\\n')\n",
    "\n",
    "                response = dictionary_present(response_assistant)\n",
    "\n",
    "                print(\"Thank you for providing all the information. Kindly wait, while I fetch the products: \\n\")\n",
    "                top_3_laptops = compare_laptops_with_user(response)\n",
    "\n",
    "                print(\"top 3 laptops are\", top_3_laptops)\n",
    "\n",
    "                validated_reco = recommendation_validation(top_3_laptops)\n",
    "\n",
    "                conversation_reco = initialize_conv_reco(validated_reco)\n",
    "\n",
    "                conversation_reco.append({\"role\": \"user\", \"content\": \"This is my user profile\" + str(response)})\n",
    "\n",
    "                recommendation = get_chat_completions(conversation_reco)\n",
    "\n",
    "                moderation = moderation_check(recommendation)\n",
    "                if moderation == 'Flagged':\n",
    "                    display(\"Sorry, this message has been flagged. Please restart your conversation.\")\n",
    "                    break\n",
    "\n",
    "                conversation_reco.append({\"role\": \"assistant\", \"content\": str(recommendation)})\n",
    "\n",
    "                print(str(recommendation) + '\\n')\n",
    "        else:\n",
    "            conversation_reco.append({\"role\": \"user\", \"content\": user_input})\n",
    "\n",
    "            response_asst_reco = get_chat_completions(conversation_reco)\n",
    "\n",
    "            moderation = moderation_check(response_asst_reco)\n",
    "            if moderation == 'Flagged':\n",
    "                print(\"Sorry, this message has been flagged. Please restart your conversation.\")\n",
    "                break\n",
    "\n",
    "            print('\\n' + response_asst_reco + '\\n')\n",
    "            conversation.append({\"role\": \"assistant\", \"content\": response_asst_reco})"
   ]
  },
  {
   "cell_type": "code",
   "execution_count": 562,
   "id": "e9897fc4-2392-4b84-9c6d-2068e3fff383",
   "metadata": {},
   "outputs": [
    {
     "data": {
      "text/plain": [
       "\"Hello! I'm here to help you find the perfect laptop based on your needs. Could you please share what you'll primarily be using the laptop for? This will help me understand your requirements better.\\n\""
      ]
     },
     "metadata": {},
     "output_type": "display_data"
    },
    {
     "name": "stdin",
     "output_type": "stream",
     "text": [
      " I need laptop for Software Development using Generative AI\n"
     ]
    },
    {
     "name": "stdout",
     "output_type": "stream",
     "text": [
      "Intent Confirmation Yes/No: No\n",
      "\n",
      "Great! Software development, especially with generative AI, often requires a powerful laptop that can handle complex computations and multitasking. \n",
      "\n",
      "To better understand your needs, could you please tell me:\n",
      "1. Do you primarily work with large datasets or run heavy models that require significant GPU power?\n",
      "2. Is display quality important to you for coding or visualizing data?\n",
      "3. How important is portability for you? Will you be traveling often with your laptop?\n",
      "4. How many applications do you typically run at the same time? This will help gauge your multitasking needs.\n",
      "5. What is your budget for the laptop? \n",
      "\n",
      "Your responses will help me tailor the recommendations to your specific requirements!\n",
      "\n"
     ]
    },
    {
     "name": "stdin",
     "output_type": "stream",
     "text": [
      " {'GPU intensity': 'high',  'Display quality': 'medium',  'Portability': 'low',  'Multitasking': 'high',  'Processing speed': 'high',  'Budget': 125000}\n"
     ]
    },
    {
     "name": "stdout",
     "output_type": "stream",
     "text": [
      "Intent Confirmation Yes/No: Yes\n",
      "\n",
      "Thank you for providing that information! Based on your inputs, I will fill in the values for the keys in the dictionary. \n",
      "\n",
      "Your requirements are:\n",
      "- GPU intensity: high (for generative AI)\n",
      "- Display quality: medium (for coding and data visualization)\n",
      "- Portability: low (not traveling often)\n",
      "- Multitasking: high (running multiple applications)\n",
      "- Processing speed: high (for efficient software development)\n",
      "- Budget: 125000 (which is within the acceptable range)\n",
      "\n",
      "Here is the final updated python dictionary:\n",
      "\n",
      "```python\n",
      "{'GPU intensity': 'high', 'Display quality': 'medium', 'Portability': 'low', 'Multitasking': 'high', 'Processing speed': 'high', 'Budget': 125000}\n",
      "```\n",
      "\n",
      "\n",
      "Variables extracted!\n",
      "\n",
      "Thank you for providing all the information. Kindly wait, while I fetch the products: \n",
      "\n",
      "top 3 laptops are [{\"Brand\":\"MSI\",\"Model Name\":\"GL65\",\"Core\":\"i7\",\"CPU Manufacturer\":\"Intel\",\"Clock Speed\":\"2.6 GHz\",\"RAM Size\":\"16GB\",\"Storage Type\":\"HDD+SSD\",\"Display Type\":\"IPS\",\"Display Size\":\"15.6\\\"\",\"Graphics Processor\":\"NVIDIA GTX\",\"Screen Resolution\":\"1920x1080\",\"OS\":\"Windows 10\",\"Laptop Weight\":\"2.3 kg\",\"Special Features\":\"RGB Keyboard\",\"Warranty\":\"2 years\",\"Average Battery Life\":\"4 hours\",\"Price\":55000.0,\"Description\":\"The MSI GL65 is a high-performance laptop designed for gaming enthusiasts. Powered by an Intel Core i7 processor running at 2.6 GHz, it delivers exceptional processing power for smooth gaming and demanding tasks. With 16GB of RAM and a combination of HDD and SSD storage, it offers ample memory and fast data access. The laptop features a 15.6\\\" IPS display with a resolution of 1920x1080, ensuring vivid colors and wide viewing angles for an immersive gaming experience. Equipped with an NVIDIA GTX graphics card, it provides excellent visual performance and smooth gameplay. Weighing just 2.3 kg, it is a portable option for gamers on the move. The laptop also boasts an RGB keyboard, allowing customizable lighting effects for a personalized gaming setup. With a two-year warranty and a battery life of up to 4 hours, the MSI GL65 offers reliability and durability. Priced at 55,000, it offers excellent value for money for gamers seeking a powerful gaming laptop.\",\"laptop_feature\":\"{'GPU intensity': 'high', 'Display quality': 'medium', 'Portability': 'medium', 'Multitasking': 'medium', 'Processing speed': 'high'}\",\"Score\":4},{\"Brand\":\"Lenovo\",\"Model Name\":\"ThinkPad\",\"Core\":\"Ryzen 7\",\"CPU Manufacturer\":\"AMD\",\"Clock Speed\":\"3.0 GHz\",\"RAM Size\":\"16GB\",\"Storage Type\":\"SSD\",\"Display Type\":\"IPS\",\"Display Size\":\"14\\\"\",\"Graphics Processor\":\"NVIDIA GTX\",\"Screen Resolution\":\"2560x1440\",\"OS\":\"Linux\",\"Laptop Weight\":\"1.6 kg\",\"Special Features\":\"Backlit Keyboard\",\"Warranty\":\"3 years\",\"Average Battery Life\":\"6 hours\",\"Price\":60000.0,\"Description\":\"The Lenovo ThinkPad is a powerful laptop designed for professional users. It is equipped with a Ryzen 7 processor from AMD clocked at 3.0 GHz, providing strong processing capabilities for demanding tasks. With 16GB of RAM and an SSD, it offers smooth multitasking and fast storage access. The laptop features a 14\\\" IPS display with a resolution of 2560x1440, delivering sharp visuals and accurate colors. It also comes with an NVIDIA GTX graphics card for enhanced graphical performance. Weighing just 1.6 kg, it is lightweight and highly portable. The laptop features a backlit keyboard for comfortable typing in low-light environments. With a three-year warranty and a battery life of up to 6 hours, the Lenovo ThinkPad offers reliability and durability. Priced at 60,000, it is an excellent choice for professionals seeking powerful performance and a versatile display.\",\"laptop_feature\":\"{'GPU intensity': 'high', 'Display quality': 'high', 'Portability': 'medium', 'Multitasking': 'medium', 'Processing speed': 'high'}\",\"Score\":4},{\"Brand\":\"Acer\",\"Model Name\":\"Predator\",\"Core\":\"i7\",\"CPU Manufacturer\":\"Intel\",\"Clock Speed\":\"2.8 GHz\",\"RAM Size\":\"16GB\",\"Storage Type\":\"SSD\",\"Display Type\":\"IPS\",\"Display Size\":\"17.3\\\"\",\"Graphics Processor\":\"NVIDIA GTX\",\"Screen Resolution\":\"1920x1080\",\"OS\":\"Windows 10\",\"Laptop Weight\":\"3.2 kg\",\"Special Features\":\"Dual Cooling Fans\",\"Warranty\":\"1 year\",\"Average Battery Life\":\"5 hours\",\"Price\":80000.0,\"Description\":\"The Acer Predator is a powerhouse laptop designed for gaming enthusiasts. It is equipped with an Intel Core i7 processor clocked at 2.8 GHz, providing exceptional processing power for seamless gaming and demanding tasks. With 16GB of RAM and an SSD, it offers fast and efficient multitasking and storage capabilities. The laptop features a large 17.3\\\" IPS display with a resolution of 1920x1080, delivering stunning visuals and wide viewing angles. It also comes with an NVIDIA GTX graphics card for impressive gaming performance. Weighing 3.2 kg, it is a bit on the heavier side but still offers portability. The laptop features dual cooling fans for effective heat dissipation during intense gaming sessions. With a one-year warranty and a battery life of up to 5 hours, the Acer Predator ensures reliability and endurance. Priced at 80,000, it provides excellent value for gamers seeking powerful gaming performance.\",\"laptop_feature\":\"{'GPU intensity': 'high', 'Display quality': 'medium', 'Portability': 'low', 'Multitasking': 'medium', 'Processing speed': 'high'}\",\"Score\":4}]\n",
      "Based on your user profile and preferences, here’s a summary of the laptops in your catalogue, arranged by price:\n",
      "\n",
      "1. **MSI Prestige 14**: Intel Core i5, 2.4 GHz, 16GB RAM, SSD, 14\" IPS display (1920x1080), NVIDIA GTX, Windows 10, 1.29 kg, True Color Technology, 8 hours battery life, 2 years warranty, ₹70,000.  \n",
      "   *Ideal for professionals and content creators, offering high portability and good performance for multitasking.*\n",
      "\n",
      "2. **Lenovo ThinkPad**: AMD Ryzen 7, 3.0 GHz, 16GB RAM, SSD, 14\" IPS display (2560x1440), NVIDIA GTX, Linux, 1.6 kg, Backlit Keyboard, 6 hours battery life, 3 years warranty, ₹60,000.  \n",
      "   *A powerful laptop designed for professional users, with high processing speed and multitasking capabilities.*\n",
      "\n",
      "3. **MSI GL65**: Intel Core i7, 2.6 GHz, 16GB RAM, HDD+SSD, 15.6\" IPS display (1920x1080), NVIDIA GTX, Windows 10, 2.3 kg, RGB Keyboard, 4 hours battery life, 2 years warranty, ₹55,000.  \n",
      "   *A gaming laptop that provides high GPU intensity and processing speed, but with lower portability and battery life.*\n",
      "\n",
      "Given your high GPU intensity, processing speed, and multitasking needs, the **MSI Prestige 14** and **Lenovo ThinkPad** would be the best fits for your requirements. The **MSI GL65** is more gaming-oriented and may not align with your focus on professional use and multitasking.\n",
      "\n"
     ]
    },
    {
     "name": "stdin",
     "output_type": "stream",
     "text": [
      " exit\n"
     ]
    },
    {
     "name": "stdout",
     "output_type": "stream",
     "text": [
      "\n",
      "If you have any more questions in the future or need assistance, feel free to reach out. Have a great day!\n",
      "\n"
     ]
    }
   ],
   "source": [
    "dialogue_mgmt_system()"
   ]
  },
  {
   "cell_type": "markdown",
   "id": "742bb3c5-d843-47e7-8f81-d002400d190c",
   "metadata": {},
   "source": [
    "## Part IV: Evaluation"
   ]
  },
  {
   "cell_type": "code",
   "execution_count": 569,
   "id": "fbe88055-547e-4eb2-ad20-0d6ce290a1da",
   "metadata": {},
   "outputs": [
    {
     "name": "stdout",
     "output_type": "stream",
     "text": [
      "{'GPU intensity': 'high', 'Display quality': 'high', 'Portability': 'low', 'Multitasking': 'high', 'Processing speed': 'high', 'Budget': 150000}\n"
     ]
    }
   ],
   "source": [
    "gamer_conversation = [{\"role\":\"assistant\",\"content\":\"Hi there! I'm an intelligent laptop gadget expert and I'm here to help you find the best laptop for your needs. Please tell me a little bit about yourself and your requirements so that I can assist you better.\"},\n",
    "{\"role\":\"user\",\"content\":\"Yes, I prefer gaming with my graphics at high setting\"},\n",
    "{\"role\":\"assistant\",\"content\":\"Thank you for letting me know. Based on your preference for high graphics settings, I would recommend a laptop with a high GPU intensity. This will ensure that you can enjoy your games with excellent visual quality. Now, I have a question to better understand your needs. Are you primarily looking for a laptop that you can easily carry around and game on the go, or do you mainly use it in a stationary location?\"},\n",
    "{\"role\":\"user\",\"content\":\"I prefer using my laptop at a stationary location. I also prefer a high-resolution display quality with good multitasking capabilities\"},\n",
    "{\"role\":\"assistant\",\"content\":\"Thank you for providing that information. Since you primarily use your laptop in a stationary location, portability may not be a top priority for you. Now, I have one more question to help me understand your requirements better. Could you kindly let me know your budget for the laptop? This will help me find options that fit within your price range while meeting the specified requirements.\"},\n",
    "{\"role\":\"user\",\"content\":\"150000\"}\n",
    "]\n",
    "\n",
    "gamer_conversation_initialize = initialize_conversation()\n",
    "gamer_conversation_initialize.extend(gamer_conversation)\n",
    "gamer_conversation_assistant_output = get_chat_completions(gamer_conversation_initialize)\n",
    "gamer_response_dict = dictionary_present(gamer_conversation_assistant_output)\n",
    "print(gamer_response_dict)"
   ]
  },
  {
   "cell_type": "code",
   "execution_count": 570,
   "id": "d298d6eb-1971-4639-990c-2506323dc143",
   "metadata": {},
   "outputs": [
    {
     "name": "stdout",
     "output_type": "stream",
     "text": [
      "{'GPU intensity': 'high', 'Display quality': 'high', 'Portability': 'low', 'Multitasking': 'high', 'Processing speed': 'high', 'Budget': '150000'}\n"
     ]
    }
   ],
   "source": [
    "gamer_tagged_dict = {'GPU intensity': 'high', 'Display quality': 'high', 'Portability': 'low', 'Multitasking': 'high','Processing speed': 'high', 'Budget': '150000'}\n",
    "print(gamer_tagged_dict)"
   ]
  },
  {
   "cell_type": "code",
   "execution_count": 571,
   "id": "f84f6d7c-6a5b-42ac-b3fa-3b1f52826ac1",
   "metadata": {},
   "outputs": [
    {
     "name": "stdout",
     "output_type": "stream",
     "text": [
      "{'GPU intensity': 'high', 'Display quality': 'medium', 'Portability': 'medium', 'Multitasking': 'high', 'Processing speed': 'high', 'Budget': 100000}\n"
     ]
    }
   ],
   "source": [
    "academic_conversation = [{\"role\":\"assistant\",\"content\":\"Hi there! I'm an intelligent laptop gadget expert and I'm here to help you find the best laptop for your needs. Please tell me a little bit about yourself and your requirements so that I can assist you better.\"},\n",
    "{\"role\":\"user\",\"content\":\"i am a student and i'm looking to buy some laptops\"},\n",
    "{\"role\":\"assistant\",\"content\":\"Great! As a student, you likely have specific requirements for a laptop that will support your academic needs. Could you please provide me with more information about your requirements? Are you looking for a laptop for general use, such as browsing the internet, taking notes, and writing assignments? Or do you have any specific software or tasks that you need the laptop to handle? Understanding your needs will help me recommend the best laptop for you.\"},\n",
    "{\"role\":\"user\",\"content\":\"I am working as a academic researcher and I do work with softwares and programming languages such as Matlab, Python and CATIA\"},\n",
    "{\"role\":\"assistant\",\"content\":\"Thank you for providing that information. As an academic researcher, you require a laptop that can handle software and programming tasks efficiently. May I know if you work with large datasets or perform any intensive computations? Understanding the nature of your work will help me determine the processing power and multitasking capabilities needed for your laptop.\"},\n",
    "{\"role\":\"user\",\"content\":\"Yes, occasionally. I'm currently also working on a project on computer vision\"},\n",
    "{\"role\":\"assistant\",\"content\":\"Thank you for sharing that. Working on computer vision projects can be resource-intensive, especially when dealing with large datasets and complex algorithms. It requires a laptop with high processing power and a capable graphics card. Do you also require a high-quality display for accurate visualization of images and videos? Additionally, do you prioritize portability, as you may need to work on your projects in different locations?\"},\n",
    "{\"role\":\"user\",\"content\":\"I need a decent display and I also carry my laptop to college and conferences\"},\n",
    "{\"role\":\"assistant\",\"content\":\"Understood. Based on your requirements as an academic researcher working with software and programming languages like Matlab, Python, and CATIA, as well as computer vision projects, I would recommend the following specifications for your laptop: - GPU intensity: High (for handling computer vision tasks) - Display quality: Medium (for decent display) - Portability: Medium (since you carry your laptop to college and conferences) - Multitasking: High (to handle multiple software and programming tasks) - Processing speed: High (for efficient computation) Now, I need to know your budget for the laptop. Could you please let me know your maximum budget in INR?\"},\n",
    "{\"role\":\"user\",\"content\":\"approximately 100000\"}\n",
    "]\n",
    "\n",
    "academic_conversation_initialize = initialize_conversation()\n",
    "academic_conversation_initialize.extend(academic_conversation)\n",
    "academic_conversation_assistant_output = get_chat_completions(academic_conversation_initialize)\n",
    "academic_response_dict = dictionary_present(academic_conversation_assistant_output)\n",
    "print(academic_response_dict)"
   ]
  },
  {
   "cell_type": "code",
   "execution_count": 572,
   "id": "8fdf98bf-4492-4565-b926-162991cdd07c",
   "metadata": {},
   "outputs": [
    {
     "name": "stdout",
     "output_type": "stream",
     "text": [
      "{'GPU intensity': 'high', 'Display quality': 'medium', 'Portability': 'medium', 'Multitasking': 'medium', 'Processing speed': 'high', 'Budget': '100000'}\n"
     ]
    }
   ],
   "source": [
    "academic_tagged_dict = {'GPU intensity': 'high', 'Display quality': 'medium', 'Portability': 'medium', 'Multitasking': 'medium','Processing speed': 'high', 'Budget': '100000'}\n",
    "print(academic_tagged_dict)"
   ]
  },
  {
   "cell_type": "code",
   "execution_count": 564,
   "id": "1201a0fa-47e0-41a8-a2ad-c7241da8a798",
   "metadata": {},
   "outputs": [
    {
     "name": "stdout",
     "output_type": "stream",
     "text": [
      "{'GPU intensity': 'low', 'Display quality': 'high', 'Portability': 'high', 'Multitasking': 'high', 'Processing speed': 'high', 'Budget': 200000}\n"
     ]
    }
   ],
   "source": [
    "business_conversation = [\n",
    "{\"role\":\"assistant\",\"content\":\"Hi there! I'm an intelligent laptop gadget expert and I'm here to help you find the best laptop for your needs. Please tell me a little bit about yourself and your requirements so that I can assist you better.\"},\n",
    "{\"role\":\"user\",\"content\":\"Hi. I a a business executive. I'm in the market to buy a laptop that fits my needs\"},\n",
    "{\"role\":\"assistant\",\"content\":\"Great! As a business executive, having a reliable and efficient laptop is crucial for your work. May I know what kind of tasks you primarily focus on? Are you involved in tasks such as data analysis, presentations, or multitasking between various applications? Understanding your specific work requirements will help me recommend the best laptop for you. \"},\n",
    "{\"role\":\"user\",\"content\":\"I'll use my laptop for day-to-day work such as attending zoom calls with clients, preparting reports and doing market research. I also do analysis on Excel\"},\n",
    "{\"role\":\"assistant\",\"content\":\"Thank you for providing that information. Based on your work requirements, it seems like you need a laptop that can handle multitasking, has good processing speed, and a decent display quality for presentations and data analysis. Portability may not be a top priority since you mentioned that you primarily work from a stationary location. Do you have any specific preferences or requirements for the graphics performance of the laptop?\"},\n",
    "{\"role\":\"user\",\"content\":\"I require a highly portable machine as I'll be commuting to work and also travelling to client locations. Graphics is not a priority for me\"},\n",
    "{\"role\":\"assistant\",\"content\":\"Understood. In that case, a laptop with high portability and multitasking capabilities would be ideal for you. Since graphics performance is not a priority, we can focus more on processing speed and display quality. Do you have any specific budget in mind for your laptop purchase? Knowing your budget will help me find options that fit within your price range while meeting your specified requirements.\"},\n",
    "{\"role\":\"user\",\"content\":\"No budget is not a constraint. choose the best\"},\n",
    "{\"role\":\"assistant\",\"content\":\"Thank you for letting me know. In that case, I will recommend a laptop with high processing speed, good display quality, and excellent portability. This will ensure that you can efficiently handle your day-to-day work tasks, attend Zoom calls, prepare reports, and perform market research without any performance issues. Here are the specifications for the laptop I recommend for you: - GPU intensity: Low - Display quality: High - Portability: High - Multitasking: High - Processing speed: High - Budget: Not specified Please note that the budget is not specified as you mentioned that it is not a constraint. However, if you have any specific budget in mind, please let me know and I can provide you with more tailored recommendations.\"},\n",
    "{\"role\":\"user\",\"content\":\"okay. maximum 200000\"}\n",
    "]\n",
    "\n",
    "business_conversation_initialize = initialize_conversation()\n",
    "business_conversation_initialize.extend(business_conversation)\n",
    "business_conversation_assistant_output = get_chat_completions(business_conversation_initialize)\n",
    "business_response_dict = dictionary_present(business_conversation_assistant_output)\n",
    "print(business_response_dict)"
   ]
  },
  {
   "cell_type": "code",
   "execution_count": 563,
   "id": "661dcc08-f990-4fdd-a6a1-ed814c4a4ff1",
   "metadata": {},
   "outputs": [
    {
     "name": "stdout",
     "output_type": "stream",
     "text": [
      "{'GPU intensity': 'low', 'Display quality': 'high', 'Portability': 'high', 'Multitasking': 'high', 'Processing speed': 'high', 'Budget': '200000'}\n"
     ]
    }
   ],
   "source": [
    "business_tagged_dict = {'GPU intensity': 'low', 'Display quality': 'high', 'Portability': 'high', 'Multitasking': 'high','Processing speed': 'high', 'Budget': '200000'}\n",
    "print(business_tagged_dict)"
   ]
  },
  {
   "cell_type": "code",
   "execution_count": 567,
   "id": "4d2c3b06-3c19-484e-ba2a-83243b7affc4",
   "metadata": {},
   "outputs": [],
   "source": [
    "def evaluate_model_response(tagged_dict, model_dict):\n",
    "  score = 0\n",
    "  mappings = {\n",
    "      'low': 0,\n",
    "      'medium': 1,\n",
    "      'high': 2\n",
    "  }\n",
    "\n",
    "  for key in tagged_dict.keys():\n",
    "    if key == 'budget':\n",
    "      continue\n",
    "    tagged_value = tagged_dict[key]\n",
    "    model_value = model_dict[key]\n",
    "    tagged_mapping = mappings.get(tagged_value, -1)\n",
    "    model_mapping = mappings.get(model_value, -1)\n",
    "\n",
    "    if model_mapping >= tagged_mapping:\n",
    "        score += 1\n",
    "\n",
    "  return score\n"
   ]
  },
  {
   "cell_type": "code",
   "execution_count": 577,
   "id": "d5fe969a-5a00-4cd8-9e9d-ff8696f42358",
   "metadata": {},
   "outputs": [
    {
     "name": "stdout",
     "output_type": "stream",
     "text": [
      "Case 1 - Gaming conversation\n",
      "Pass\n",
      "Asked GPU intensity : 3 - high ; Laptop's GPU intensity: 3 - high\n",
      "Total Match Score : 1\n",
      "Pass\n",
      "Asked Display quality : 3 - high ; Laptop's Display quality: 3 - high\n",
      "Total Match Score : 2\n",
      "Pass\n",
      "Asked Portability : 1 - low ; Laptop's Portability: 1 - low\n",
      "Total Match Score : 3\n",
      "Pass\n",
      "Asked Multitasking : 3 - high ; Laptop's Multitasking: 3 - high\n",
      "Total Match Score : 4\n",
      "Pass\n",
      "Asked Processing speed : 3 - high ; Laptop's Processing speed: 3 - high\n",
      "Total Match Score : 5\n",
      "Fail\n",
      "Asked Budget : -1 - 150000\n",
      "Total Match Score : 5\n",
      "Score : 5\n",
      "==================================================\n",
      "Case 2 - Academic conversation\n",
      "Pass\n",
      "Asked GPU intensity : 3 - high ; Laptop's GPU intensity: 3 - high\n",
      "Total Match Score : 1\n",
      "Pass\n",
      "Asked Display quality : 2 - medium ; Laptop's Display quality: 2 - medium\n",
      "Total Match Score : 2\n",
      "Pass\n",
      "Asked Portability : 2 - medium ; Laptop's Portability: 2 - medium\n",
      "Total Match Score : 3\n",
      "Pass\n",
      "Asked Multitasking : 2 - medium ; Laptop's Multitasking: 3 - high\n",
      "Total Match Score : 4\n",
      "Pass\n",
      "Asked Processing speed : 3 - high ; Laptop's Processing speed: 3 - high\n",
      "Total Match Score : 5\n",
      "Fail\n",
      "Asked Budget : -1 - 100000\n",
      "Total Match Score : 5\n",
      "Score : 5\n",
      "==================================================\n",
      "Case 3 - Business conversation\n",
      "Pass\n",
      "Asked GPU intensity : 1 - low ; Laptop's GPU intensity: 1 - low\n",
      "Total Match Score : 1\n",
      "Pass\n",
      "Asked Display quality : 3 - high ; Laptop's Display quality: 3 - high\n",
      "Total Match Score : 2\n",
      "Pass\n",
      "Asked Portability : 3 - high ; Laptop's Portability: 3 - high\n",
      "Total Match Score : 3\n",
      "Pass\n",
      "Asked Multitasking : 3 - high ; Laptop's Multitasking: 3 - high\n",
      "Total Match Score : 4\n",
      "Pass\n",
      "Asked Processing speed : 3 - high ; Laptop's Processing speed: 3 - high\n",
      "Total Match Score : 5\n",
      "Fail\n",
      "Asked Budget : -1 - 200000\n",
      "Total Match Score : 5\n",
      "Score : 5\n",
      "==================================================\n"
     ]
    }
   ],
   "source": [
    "print(f\"Case 1 - Gaming conversation\")\n",
    "gamer_score = find_match_score(gamer_tagged_dict,gamer_response_dict,debug=True)\n",
    "print(f\"Score : {gamer_score}\")\n",
    "print(\"=\"*50)\n",
    "\n",
    "print(f\"Case 2 - Academic conversation\")\n",
    "academic_score = find_match_score(academic_tagged_dict,academic_response_dict,debug=True)\n",
    "print(f\"Score : {academic_score}\")\n",
    "print(\"=\"*50)\n",
    "\n",
    "print(f\"Case 3 - Business conversation\")\n",
    "business_score = find_match_score(business_tagged_dict,business_response_dict,debug=True)\n",
    "print(f\"Score : {business_score}\")\n",
    "print(\"=\"*50)"
   ]
  },
  {
   "cell_type": "code",
   "execution_count": 578,
   "id": "28587c97-5a32-41a1-b658-926e3b960af6",
   "metadata": {},
   "outputs": [
    {
     "name": "stdout",
     "output_type": "stream",
     "text": [
      "6\n",
      "6\n",
      "6\n"
     ]
    }
   ],
   "source": [
    "gamer_score = evaluate_model_response(gamer_tagged_dict,gamer_response_dict)\n",
    "print(gamer_score)\n",
    "academic_score = evaluate_model_response(academic_tagged_dict,academic_response_dict)\n",
    "print(academic_score)\n",
    "business_score = evaluate_model_response(business_tagged_dict,business_response_dict)\n",
    "print(business_score)"
   ]
  },
  {
   "cell_type": "markdown",
   "id": "280438db-627f-44ce-8b70-23c86d66890d",
   "metadata": {},
   "source": [
    "## Part V: Areas of Improvement and Final Comments"
   ]
  },
  {
   "cell_type": "markdown",
   "id": "46efcb79-c7ad-40a2-bf19-a296433b331a",
   "metadata": {},
   "source": [
    "### Future Scope of Work"
   ]
  },
  {
   "cell_type": "markdown",
   "id": "e05cd537-86e1-47db-bfad-2e808eb8ad75",
   "metadata": {},
   "source": [
    "1. Inconsistent Output Format:\n",
    "The output format of each layer lacks uniformity. Leverage the function API capability of GPT to standardize the output format, ensuring it aligns with the input request specifications.\n",
    "\n",
    "2. Incomplete Rule Framework:\n",
    "The provided rule framework for classifying laptop specifications is not exhaustive. Expanding the rules will provide the LLM with a more comprehensive context, leading to improved classification accuracy.\n",
    "\n",
    "3. Misclassification Issues:\n",
    "Despite clear rules being provided, misclassifications in laptop specifications persist. Fine-tuning an open-source LLM can enhance its understanding and performance, reducing these errors significantly.\n",
    "\n",
    "4. Lack of Intent Recall in Dialogue Flow:\n",
    "The current dialogue flow does not support recalling extracted products if there is a change in user intent. Introducing an additional layer to detect intent changes and using this as a flag to recall the product extraction can improve the user experience and adaptability of the solution.\n",
    "\n",
    "5. Vector Embedding for Relevance Matching:\n",
    "As a simpler alternative, you can compute vector embeddings for each product and compare them with the user's intent. This method can help identify the most relevant products effectively and efficiently.\n",
    "\n",
    "6. Workflow Templatization for Broader Applications:\n",
    "This workflow/solution can be templated to develop chatbots for any product domain. To achieve this, ensure the inclusion of relevant domain expertise and rules to provide the LLM with proper contextual understanding for other use cases."
   ]
  }
 ],
 "metadata": {
  "colab": {
   "provenance": [
    {
     "file_id": "1kOSIjMD1n8knrabu16aI8Glcpd7OiN0Q",
     "timestamp": 1712664627556
    }
   ],
   "toc_visible": true
  },
  "kernelspec": {
   "display_name": "Python 3 (ipykernel)",
   "language": "python",
   "name": "python3"
  },
  "language_info": {
   "codemirror_mode": {
    "name": "ipython",
    "version": 3
   },
   "file_extension": ".py",
   "mimetype": "text/x-python",
   "name": "python",
   "nbconvert_exporter": "python",
   "pygments_lexer": "ipython3",
   "version": "3.12.3"
  }
 },
 "nbformat": 4,
 "nbformat_minor": 5
}
