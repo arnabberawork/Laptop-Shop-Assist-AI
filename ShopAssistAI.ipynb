{
 "cells": [
  {
   "cell_type": "markdown",
   "id": "90bb1e2a",
   "metadata": {
    "id": "90bb1e2a"
   },
   "source": [
    "# ShopAssist AI"
   ]
  },
  {
   "cell_type": "markdown",
   "id": "5bf1cc72",
   "metadata": {
    "id": "5bf1cc72"
   },
   "source": [
    "## Part 1: Introduction\n",
    "\n",
    "#### **What you have learnt till now**\n",
    "\n",
    "So far you have learnt how to make LLM API calls in Python. In particular, you worked with OpenAI's GPT 3.5 models and the `Chat Completion API` to build a simple AI tutor.\n",
    "\n",
    "<br>\n",
    "\n",
    "Next, you went over some principles, techniques, and tactics for prompt engineering.\n",
    "The two main principles of writing a good prompt:\n",
    "1.  Providing clear instructions,\n",
    "2.  Enhancing LLM reasoning capabilities.\n",
    "\n",
    "Under providing clear instructions, you learnt how to structure the body of a prompt through 5 components - **Task, Role, Context, Guidelines and Output Format**.\n",
    "\n",
    "You also understood that providing a very clear syntax and conditioning on good performance can get you closer to the desired output.\n",
    "\n",
    "<br>\n",
    "\n",
    "Next, under enhancing LLM reasoning capabilities, you learnt two specific techniques -\n",
    "(i) Chain-of-Thought prompting,\n",
    "(ii) Few-Shot prompting.\n",
    "\n",
    "Under chain-of-thought prompting, you essentially enable the LLM to work through the solution step-by-step and in few-shot prompting, you provide relevant examples of how you want the outputs to look like. So now you could structure your prompts into proper components and provide clear chain-of-thought instructions along with relevant examples of ideal inputs and outputs.\n",
    "\n",
    "You also learnt some advanced prompting techniques like self-consistency and ReAct prompting. Self-consistency is basically the technique where you ensemble multiple attempts and select the most consistent output out of them. And in ReAct prompting, you enable the LLM to reason out a scenario and act based on some examples.\n",
    "\n",
    "<br>\n",
    "\n",
    "Finally, you looked at some examples of how you can design LLM-based systems. Apart from prompting techniques, you understood that designing a LLM-based system also requires a safe design, i.e., the capabilities to detect and respond to unsafe user queries and prompt injections. You looked at the moderation API offered by OpenAI that can help you design such safer systems.\n",
    "\n",
    "With all of these learnings, let’s now get started on designing our first LLM application - ShopAssist AI."
   ]
  },
  {
   "cell_type": "markdown",
   "id": "eTECjBM1_t1B",
   "metadata": {
    "id": "eTECjBM1_t1B"
   },
   "source": [
    "\n",
    "#### Project Background\n",
    "\n",
    "In today's digital age, online shopping has become the go-to option for many consumers. However, the overwhelming number of choices and the lack of personalized assistance can make the shopping experience daunting. To address this, we have developed **ShopAssist AI, a chatbot that combines the power of large language models and rule-based functions to ensure accurate and reliable information delivery**.\n",
    "\n",
    "\n",
    "#### Problem Statement\n",
    "\n",
    "*Given a dataset containing information about laptops (product names, specifications, descriptions, etc.), build a chatbot that parses the dataset and provides accurate laptop recommendations based on user requirements*.\n",
    "\n",
    "\n",
    "You can load the data and see it here."
   ]
  },
  {
   "cell_type": "markdown",
   "id": "nJLXik04pfGM",
   "metadata": {
    "id": "nJLXik04pfGM"
   },
   "source": [
    "You can download the data from [here](https://cdn.upgrad.com/uploads/production/c85f3fdd-b29f-4c47-9e87-99bbda0fd233/laptop_data.csv) or uncomment the code below to download the file."
   ]
  },
  {
   "cell_type": "code",
   "execution_count": 2,
   "id": "29adca8b",
   "metadata": {
    "id": "29adca8b"
   },
   "outputs": [
    {
     "data": {
      "text/html": [
       "<div>\n",
       "<style scoped>\n",
       "    .dataframe tbody tr th:only-of-type {\n",
       "        vertical-align: middle;\n",
       "    }\n",
       "\n",
       "    .dataframe tbody tr th {\n",
       "        vertical-align: top;\n",
       "    }\n",
       "\n",
       "    .dataframe thead th {\n",
       "        text-align: right;\n",
       "    }\n",
       "</style>\n",
       "<table border=\"1\" class=\"dataframe\">\n",
       "  <thead>\n",
       "    <tr style=\"text-align: right;\">\n",
       "      <th></th>\n",
       "      <th>Brand</th>\n",
       "      <th>Model Name</th>\n",
       "      <th>Core</th>\n",
       "      <th>CPU Manufacturer</th>\n",
       "      <th>Clock Speed</th>\n",
       "      <th>RAM Size</th>\n",
       "      <th>Storage Type</th>\n",
       "      <th>Display Type</th>\n",
       "      <th>Display Size</th>\n",
       "      <th>Graphics Processor</th>\n",
       "      <th>Screen Resolution</th>\n",
       "      <th>OS</th>\n",
       "      <th>Laptop Weight</th>\n",
       "      <th>Special Features</th>\n",
       "      <th>Warranty</th>\n",
       "      <th>Average Battery Life</th>\n",
       "      <th>Price</th>\n",
       "      <th>Description</th>\n",
       "    </tr>\n",
       "  </thead>\n",
       "  <tbody>\n",
       "    <tr>\n",
       "      <th>0</th>\n",
       "      <td>Dell</td>\n",
       "      <td>Inspiron</td>\n",
       "      <td>i5</td>\n",
       "      <td>Intel</td>\n",
       "      <td>2.4 GHz</td>\n",
       "      <td>8GB</td>\n",
       "      <td>SSD</td>\n",
       "      <td>LCD</td>\n",
       "      <td>15.6\"</td>\n",
       "      <td>Intel UHD</td>\n",
       "      <td>1920x1080</td>\n",
       "      <td>Windows 10</td>\n",
       "      <td>2.5 kg</td>\n",
       "      <td>Backlit Keyboard</td>\n",
       "      <td>1 year</td>\n",
       "      <td>6 hours</td>\n",
       "      <td>35,000</td>\n",
       "      <td>The Dell Inspiron is a versatile laptop that c...</td>\n",
       "    </tr>\n",
       "    <tr>\n",
       "      <th>1</th>\n",
       "      <td>MSI</td>\n",
       "      <td>GL65</td>\n",
       "      <td>i7</td>\n",
       "      <td>Intel</td>\n",
       "      <td>2.6 GHz</td>\n",
       "      <td>16GB</td>\n",
       "      <td>HDD+SSD</td>\n",
       "      <td>IPS</td>\n",
       "      <td>15.6\"</td>\n",
       "      <td>NVIDIA GTX</td>\n",
       "      <td>1920x1080</td>\n",
       "      <td>Windows 10</td>\n",
       "      <td>2.3 kg</td>\n",
       "      <td>RGB Keyboard</td>\n",
       "      <td>2 years</td>\n",
       "      <td>4 hours</td>\n",
       "      <td>55,000</td>\n",
       "      <td>The MSI GL65 is a high-performance laptop desi...</td>\n",
       "    </tr>\n",
       "    <tr>\n",
       "      <th>2</th>\n",
       "      <td>HP</td>\n",
       "      <td>EliteBook</td>\n",
       "      <td>i7</td>\n",
       "      <td>Intel</td>\n",
       "      <td>2.8 GHz</td>\n",
       "      <td>16GB</td>\n",
       "      <td>SSD</td>\n",
       "      <td>LED</td>\n",
       "      <td>14\"</td>\n",
       "      <td>Intel UHD</td>\n",
       "      <td>1920x1080</td>\n",
       "      <td>Windows 11</td>\n",
       "      <td>1.5 kg</td>\n",
       "      <td>Fingerprint Sensor</td>\n",
       "      <td>3 years</td>\n",
       "      <td>8 hours</td>\n",
       "      <td>90,000</td>\n",
       "      <td>The HP EliteBook is a premium laptop designed ...</td>\n",
       "    </tr>\n",
       "    <tr>\n",
       "      <th>3</th>\n",
       "      <td>Lenovo</td>\n",
       "      <td>IdeaPad</td>\n",
       "      <td>i3</td>\n",
       "      <td>Intel</td>\n",
       "      <td>2.1 GHz</td>\n",
       "      <td>8GB</td>\n",
       "      <td>HDD</td>\n",
       "      <td>TN</td>\n",
       "      <td>15.6\"</td>\n",
       "      <td>Intel UHD</td>\n",
       "      <td>1366x768</td>\n",
       "      <td>Windows 10</td>\n",
       "      <td>2.2 kg</td>\n",
       "      <td>Dolby Audio</td>\n",
       "      <td>1 year</td>\n",
       "      <td>5 hours</td>\n",
       "      <td>25,000</td>\n",
       "      <td>The Lenovo IdeaPad is a versatile laptop that ...</td>\n",
       "    </tr>\n",
       "    <tr>\n",
       "      <th>4</th>\n",
       "      <td>ASUS</td>\n",
       "      <td>ZenBook Pro</td>\n",
       "      <td>i9</td>\n",
       "      <td>Intel</td>\n",
       "      <td>3.1 GHz</td>\n",
       "      <td>64GB</td>\n",
       "      <td>SSD</td>\n",
       "      <td>OLED</td>\n",
       "      <td>15.6\"</td>\n",
       "      <td>NVIDIA RTX</td>\n",
       "      <td>3840x2160</td>\n",
       "      <td>Windows 10</td>\n",
       "      <td>1.8 kg</td>\n",
       "      <td>NanoEdge Display</td>\n",
       "      <td>2 years</td>\n",
       "      <td>7 hours</td>\n",
       "      <td>200,000</td>\n",
       "      <td>The ASUS ZenBook Pro is a high-end laptop that...</td>\n",
       "    </tr>\n",
       "    <tr>\n",
       "      <th>5</th>\n",
       "      <td>Acer</td>\n",
       "      <td>Predator</td>\n",
       "      <td>i7</td>\n",
       "      <td>Intel</td>\n",
       "      <td>2.8 GHz</td>\n",
       "      <td>16GB</td>\n",
       "      <td>SSD</td>\n",
       "      <td>IPS</td>\n",
       "      <td>17.3\"</td>\n",
       "      <td>NVIDIA GTX</td>\n",
       "      <td>1920x1080</td>\n",
       "      <td>Windows 10</td>\n",
       "      <td>3.2 kg</td>\n",
       "      <td>Dual Cooling Fans</td>\n",
       "      <td>1 year</td>\n",
       "      <td>5 hours</td>\n",
       "      <td>80,000</td>\n",
       "      <td>The Acer Predator is a powerhouse laptop desig...</td>\n",
       "    </tr>\n",
       "    <tr>\n",
       "      <th>6</th>\n",
       "      <td>Microsoft</td>\n",
       "      <td>Surface Laptop</td>\n",
       "      <td>i5</td>\n",
       "      <td>Intel</td>\n",
       "      <td>1.6 GHz</td>\n",
       "      <td>8GB</td>\n",
       "      <td>SSD</td>\n",
       "      <td>PixelSense</td>\n",
       "      <td>13.5\"</td>\n",
       "      <td>Intel Iris Plus</td>\n",
       "      <td>2256x1504</td>\n",
       "      <td>Windows 11</td>\n",
       "      <td>1.3 kg</td>\n",
       "      <td>Touchscreen Display</td>\n",
       "      <td>1 year</td>\n",
       "      <td>10 hours</td>\n",
       "      <td>90,000</td>\n",
       "      <td>The Microsoft Surface Laptop is a premium devi...</td>\n",
       "    </tr>\n",
       "    <tr>\n",
       "      <th>7</th>\n",
       "      <td>Lenovo</td>\n",
       "      <td>ThinkPad</td>\n",
       "      <td>Ryzen 7</td>\n",
       "      <td>AMD</td>\n",
       "      <td>3.0 GHz</td>\n",
       "      <td>16GB</td>\n",
       "      <td>SSD</td>\n",
       "      <td>IPS</td>\n",
       "      <td>14\"</td>\n",
       "      <td>NVIDIA GTX</td>\n",
       "      <td>2560x1440</td>\n",
       "      <td>Linux</td>\n",
       "      <td>1.6 kg</td>\n",
       "      <td>Backlit Keyboard</td>\n",
       "      <td>3 years</td>\n",
       "      <td>6 hours</td>\n",
       "      <td>60,000</td>\n",
       "      <td>The Lenovo ThinkPad is a powerful laptop desig...</td>\n",
       "    </tr>\n",
       "    <tr>\n",
       "      <th>8</th>\n",
       "      <td>HP</td>\n",
       "      <td>Pavilion</td>\n",
       "      <td>i5</td>\n",
       "      <td>Intel</td>\n",
       "      <td>2.3 GHz</td>\n",
       "      <td>12GB</td>\n",
       "      <td>HDD</td>\n",
       "      <td>LCD</td>\n",
       "      <td>15.6\"</td>\n",
       "      <td>Intel UHD</td>\n",
       "      <td>1366x768</td>\n",
       "      <td>Windows 10</td>\n",
       "      <td>2.1 kg</td>\n",
       "      <td>B&amp;O Audio</td>\n",
       "      <td>1 year</td>\n",
       "      <td>4 hours</td>\n",
       "      <td>30,000</td>\n",
       "      <td>The HP Pavilion is a budget-friendly laptop th...</td>\n",
       "    </tr>\n",
       "    <tr>\n",
       "      <th>9</th>\n",
       "      <td>ASUS</td>\n",
       "      <td>ROG Strix G</td>\n",
       "      <td>i7</td>\n",
       "      <td>Intel</td>\n",
       "      <td>2.9 GHz</td>\n",
       "      <td>16GB</td>\n",
       "      <td>SSD</td>\n",
       "      <td>IPS</td>\n",
       "      <td>17.3\"</td>\n",
       "      <td>NVIDIA RTX</td>\n",
       "      <td>1920x1080</td>\n",
       "      <td>Windows 10</td>\n",
       "      <td>2.9 kg</td>\n",
       "      <td>Aura Sync RGB Keyboard</td>\n",
       "      <td>2 years</td>\n",
       "      <td>5 hours</td>\n",
       "      <td>85,000</td>\n",
       "      <td>The ASUS ROG Strix G is a high-performance gam...</td>\n",
       "    </tr>\n",
       "    <tr>\n",
       "      <th>10</th>\n",
       "      <td>Dell</td>\n",
       "      <td>XPS 15</td>\n",
       "      <td>i9</td>\n",
       "      <td>Intel</td>\n",
       "      <td>2.8 GHz</td>\n",
       "      <td>32GB</td>\n",
       "      <td>SSD</td>\n",
       "      <td>OLED</td>\n",
       "      <td>15.6\"</td>\n",
       "      <td>NVIDIA GTX</td>\n",
       "      <td>3840x2160</td>\n",
       "      <td>Windows 11</td>\n",
       "      <td>1.8 kg</td>\n",
       "      <td>Adobe RGB color gamut</td>\n",
       "      <td>3 years</td>\n",
       "      <td>8 hours</td>\n",
       "      <td>180,000</td>\n",
       "      <td>The Dell XPS 15 is a premium laptop that combi...</td>\n",
       "    </tr>\n",
       "    <tr>\n",
       "      <th>11</th>\n",
       "      <td>Lenovo</td>\n",
       "      <td>ThinkPad X1 Carbon</td>\n",
       "      <td>i7</td>\n",
       "      <td>Intel</td>\n",
       "      <td>2.6 GHz</td>\n",
       "      <td>16GB</td>\n",
       "      <td>SSD</td>\n",
       "      <td>IPS</td>\n",
       "      <td>14\"</td>\n",
       "      <td>Intel UHD</td>\n",
       "      <td>2560x1440</td>\n",
       "      <td>Windows 10</td>\n",
       "      <td>1.13 kg</td>\n",
       "      <td>IR Camera for Face Unlock</td>\n",
       "      <td>3 years</td>\n",
       "      <td>12 hours</td>\n",
       "      <td>130,000</td>\n",
       "      <td>The Lenovo ThinkPad X1 Carbon is a sleek and l...</td>\n",
       "    </tr>\n",
       "    <tr>\n",
       "      <th>12</th>\n",
       "      <td>Acer</td>\n",
       "      <td>Swift 3</td>\n",
       "      <td>Ryzen 5</td>\n",
       "      <td>AMD</td>\n",
       "      <td>2.3 GHz</td>\n",
       "      <td>8GB</td>\n",
       "      <td>SSD</td>\n",
       "      <td>IPS</td>\n",
       "      <td>14\"</td>\n",
       "      <td>AMD Radeon</td>\n",
       "      <td>1920x1080</td>\n",
       "      <td>Windows 11</td>\n",
       "      <td>1.2 kg</td>\n",
       "      <td>Fingerprint Reader</td>\n",
       "      <td>1 year</td>\n",
       "      <td>9 hours</td>\n",
       "      <td>50,000</td>\n",
       "      <td>The Acer Swift 3 is a lightweight and affordab...</td>\n",
       "    </tr>\n",
       "    <tr>\n",
       "      <th>13</th>\n",
       "      <td>Apple</td>\n",
       "      <td>MacBook Air</td>\n",
       "      <td>M1</td>\n",
       "      <td>Apple</td>\n",
       "      <td>3.2 GHz</td>\n",
       "      <td>16GB</td>\n",
       "      <td>SSD</td>\n",
       "      <td>Retina</td>\n",
       "      <td>13.3\"</td>\n",
       "      <td>Apple M1</td>\n",
       "      <td>2560x1600</td>\n",
       "      <td>macOS</td>\n",
       "      <td>1.29 kg</td>\n",
       "      <td>Touch ID</td>\n",
       "      <td>3 years</td>\n",
       "      <td>14 hours</td>\n",
       "      <td>100,000</td>\n",
       "      <td>The Apple MacBook Air is a sleek and lightweig...</td>\n",
       "    </tr>\n",
       "    <tr>\n",
       "      <th>14</th>\n",
       "      <td>MSI</td>\n",
       "      <td>Prestige 14</td>\n",
       "      <td>i5</td>\n",
       "      <td>Intel</td>\n",
       "      <td>2.4 GHz</td>\n",
       "      <td>16GB</td>\n",
       "      <td>SSD</td>\n",
       "      <td>IPS</td>\n",
       "      <td>14\"</td>\n",
       "      <td>NVIDIA GTX</td>\n",
       "      <td>1920x1080</td>\n",
       "      <td>Windows 10</td>\n",
       "      <td>1.29 kg</td>\n",
       "      <td>True Color Technology</td>\n",
       "      <td>2 years</td>\n",
       "      <td>8 hours</td>\n",
       "      <td>70,000</td>\n",
       "      <td>The MSI Prestige 14 is a compact and stylish l...</td>\n",
       "    </tr>\n",
       "    <tr>\n",
       "      <th>15</th>\n",
       "      <td>ASUS</td>\n",
       "      <td>ZenBook 13</td>\n",
       "      <td>i7</td>\n",
       "      <td>Intel</td>\n",
       "      <td>2.8 GHz</td>\n",
       "      <td>16GB</td>\n",
       "      <td>SSD</td>\n",
       "      <td>NanoEdge</td>\n",
       "      <td>13.3\"</td>\n",
       "      <td>Intel Iris Xe</td>\n",
       "      <td>1920x1080</td>\n",
       "      <td>Windows 11</td>\n",
       "      <td>1.11 kg</td>\n",
       "      <td>Military-Grade Durability</td>\n",
       "      <td>2 years</td>\n",
       "      <td>11 hours</td>\n",
       "      <td>95,000</td>\n",
       "      <td>The ASUS ZenBook 13 is a lightweight and power...</td>\n",
       "    </tr>\n",
       "    <tr>\n",
       "      <th>16</th>\n",
       "      <td>Dell</td>\n",
       "      <td>Precision 5550</td>\n",
       "      <td>Xeon</td>\n",
       "      <td>Intel</td>\n",
       "      <td>2.6 GHz</td>\n",
       "      <td>32GB</td>\n",
       "      <td>SSD</td>\n",
       "      <td>OLED</td>\n",
       "      <td>15.6\"</td>\n",
       "      <td>NVIDIA Quadro</td>\n",
       "      <td>3840x2160</td>\n",
       "      <td>Ubuntu</td>\n",
       "      <td>1.83 kg</td>\n",
       "      <td>Thunderbolt 3 Connectivity</td>\n",
       "      <td>3 years</td>\n",
       "      <td>6 hours</td>\n",
       "      <td>250,000</td>\n",
       "      <td>The Dell Precision 5550 is a high-performance ...</td>\n",
       "    </tr>\n",
       "    <tr>\n",
       "      <th>17</th>\n",
       "      <td>HP</td>\n",
       "      <td>ENVY x360</td>\n",
       "      <td>i7</td>\n",
       "      <td>Intel</td>\n",
       "      <td>2.8 GHz</td>\n",
       "      <td>16GB</td>\n",
       "      <td>SSD</td>\n",
       "      <td>IPS</td>\n",
       "      <td>15.6\"</td>\n",
       "      <td>Intel Iris Xe</td>\n",
       "      <td>1920x1080</td>\n",
       "      <td>Windows 10</td>\n",
       "      <td>2.05 kg</td>\n",
       "      <td>2-in-1 Convertible Design</td>\n",
       "      <td>1 year</td>\n",
       "      <td>7 hours</td>\n",
       "      <td>80,000</td>\n",
       "      <td>The HP ENVY x360 is a versatile 2-in-1 convert...</td>\n",
       "    </tr>\n",
       "    <tr>\n",
       "      <th>18</th>\n",
       "      <td>Razer</td>\n",
       "      <td>Blade 15</td>\n",
       "      <td>i7</td>\n",
       "      <td>Intel</td>\n",
       "      <td>2.6 GHz</td>\n",
       "      <td>16GB</td>\n",
       "      <td>SSD</td>\n",
       "      <td>IPS</td>\n",
       "      <td>15.6\"</td>\n",
       "      <td>NVIDIA RTX</td>\n",
       "      <td>1920x1080</td>\n",
       "      <td>Windows 11</td>\n",
       "      <td>2.09 kg</td>\n",
       "      <td>Chroma RGB Keyboard</td>\n",
       "      <td>1 year</td>\n",
       "      <td>6 hours</td>\n",
       "      <td>150,000</td>\n",
       "      <td>The Razer Blade 15 is a high-performance gamin...</td>\n",
       "    </tr>\n",
       "    <tr>\n",
       "      <th>19</th>\n",
       "      <td>Apple</td>\n",
       "      <td>MacBook Pro</td>\n",
       "      <td>i9</td>\n",
       "      <td>Intel</td>\n",
       "      <td>2.9 GHz</td>\n",
       "      <td>32GB</td>\n",
       "      <td>SSD</td>\n",
       "      <td>Retina</td>\n",
       "      <td>16\"</td>\n",
       "      <td>AMD Radeon</td>\n",
       "      <td>3072x1920</td>\n",
       "      <td>macOS</td>\n",
       "      <td>2.02 kg</td>\n",
       "      <td>True Tone Display</td>\n",
       "      <td>3 years</td>\n",
       "      <td>10 hours</td>\n",
       "      <td>280,000</td>\n",
       "      <td>The Apple MacBook Pro is a high-end laptop tha...</td>\n",
       "    </tr>\n",
       "  </tbody>\n",
       "</table>\n",
       "</div>"
      ],
      "text/plain": [
       "        Brand          Model Name     Core CPU Manufacturer Clock Speed RAM Size Storage Type  \\\n",
       "0        Dell            Inspiron       i5            Intel     2.4 GHz      8GB          SSD   \n",
       "1         MSI                GL65       i7            Intel     2.6 GHz     16GB      HDD+SSD   \n",
       "2          HP           EliteBook       i7            Intel     2.8 GHz     16GB          SSD   \n",
       "3      Lenovo             IdeaPad       i3            Intel     2.1 GHz      8GB          HDD   \n",
       "4        ASUS         ZenBook Pro       i9            Intel     3.1 GHz     64GB          SSD   \n",
       "5        Acer            Predator       i7            Intel     2.8 GHz     16GB          SSD   \n",
       "6   Microsoft      Surface Laptop       i5            Intel     1.6 GHz      8GB          SSD   \n",
       "7      Lenovo            ThinkPad  Ryzen 7              AMD     3.0 GHz     16GB          SSD   \n",
       "8          HP            Pavilion       i5            Intel     2.3 GHz     12GB          HDD   \n",
       "9        ASUS         ROG Strix G       i7            Intel     2.9 GHz     16GB          SSD   \n",
       "10       Dell              XPS 15       i9            Intel     2.8 GHz     32GB          SSD   \n",
       "11     Lenovo  ThinkPad X1 Carbon       i7            Intel     2.6 GHz     16GB          SSD   \n",
       "12       Acer             Swift 3  Ryzen 5              AMD     2.3 GHz      8GB          SSD   \n",
       "13      Apple         MacBook Air       M1            Apple     3.2 GHz     16GB          SSD   \n",
       "14        MSI         Prestige 14       i5            Intel     2.4 GHz     16GB          SSD   \n",
       "15       ASUS          ZenBook 13       i7            Intel     2.8 GHz     16GB          SSD   \n",
       "16       Dell      Precision 5550     Xeon            Intel     2.6 GHz     32GB          SSD   \n",
       "17         HP           ENVY x360       i7            Intel     2.8 GHz     16GB          SSD   \n",
       "18      Razer            Blade 15       i7            Intel     2.6 GHz     16GB          SSD   \n",
       "19      Apple         MacBook Pro       i9            Intel     2.9 GHz     32GB          SSD   \n",
       "\n",
       "   Display Type Display Size Graphics Processor Screen Resolution          OS Laptop Weight  \\\n",
       "0           LCD        15.6\"          Intel UHD         1920x1080  Windows 10        2.5 kg   \n",
       "1           IPS        15.6\"         NVIDIA GTX         1920x1080  Windows 10        2.3 kg   \n",
       "2           LED          14\"          Intel UHD         1920x1080  Windows 11        1.5 kg   \n",
       "3            TN        15.6\"          Intel UHD          1366x768  Windows 10        2.2 kg   \n",
       "4          OLED        15.6\"         NVIDIA RTX         3840x2160  Windows 10        1.8 kg   \n",
       "5           IPS        17.3\"         NVIDIA GTX         1920x1080  Windows 10        3.2 kg   \n",
       "6    PixelSense        13.5\"    Intel Iris Plus         2256x1504  Windows 11        1.3 kg   \n",
       "7           IPS          14\"         NVIDIA GTX         2560x1440       Linux        1.6 kg   \n",
       "8           LCD        15.6\"          Intel UHD          1366x768  Windows 10        2.1 kg   \n",
       "9           IPS        17.3\"         NVIDIA RTX         1920x1080  Windows 10        2.9 kg   \n",
       "10         OLED        15.6\"         NVIDIA GTX         3840x2160  Windows 11        1.8 kg   \n",
       "11          IPS          14\"          Intel UHD         2560x1440  Windows 10       1.13 kg   \n",
       "12          IPS          14\"         AMD Radeon         1920x1080  Windows 11        1.2 kg   \n",
       "13       Retina        13.3\"           Apple M1         2560x1600       macOS       1.29 kg   \n",
       "14          IPS          14\"         NVIDIA GTX         1920x1080  Windows 10       1.29 kg   \n",
       "15     NanoEdge        13.3\"      Intel Iris Xe         1920x1080  Windows 11       1.11 kg   \n",
       "16         OLED        15.6\"      NVIDIA Quadro         3840x2160      Ubuntu       1.83 kg   \n",
       "17          IPS        15.6\"      Intel Iris Xe         1920x1080  Windows 10       2.05 kg   \n",
       "18          IPS        15.6\"         NVIDIA RTX         1920x1080  Windows 11       2.09 kg   \n",
       "19       Retina          16\"         AMD Radeon         3072x1920       macOS       2.02 kg   \n",
       "\n",
       "              Special Features Warranty Average Battery Life    Price  \\\n",
       "0             Backlit Keyboard   1 year              6 hours   35,000   \n",
       "1                 RGB Keyboard  2 years              4 hours   55,000   \n",
       "2           Fingerprint Sensor  3 years              8 hours   90,000   \n",
       "3                  Dolby Audio   1 year              5 hours   25,000   \n",
       "4             NanoEdge Display  2 years              7 hours  200,000   \n",
       "5            Dual Cooling Fans   1 year              5 hours   80,000   \n",
       "6          Touchscreen Display   1 year             10 hours   90,000   \n",
       "7             Backlit Keyboard  3 years              6 hours   60,000   \n",
       "8                    B&O Audio   1 year              4 hours   30,000   \n",
       "9       Aura Sync RGB Keyboard  2 years              5 hours   85,000   \n",
       "10       Adobe RGB color gamut  3 years              8 hours  180,000   \n",
       "11   IR Camera for Face Unlock  3 years             12 hours  130,000   \n",
       "12          Fingerprint Reader   1 year              9 hours   50,000   \n",
       "13                    Touch ID  3 years             14 hours  100,000   \n",
       "14       True Color Technology  2 years              8 hours   70,000   \n",
       "15   Military-Grade Durability  2 years             11 hours   95,000   \n",
       "16  Thunderbolt 3 Connectivity  3 years              6 hours  250,000   \n",
       "17   2-in-1 Convertible Design   1 year              7 hours   80,000   \n",
       "18         Chroma RGB Keyboard   1 year              6 hours  150,000   \n",
       "19           True Tone Display  3 years             10 hours  280,000   \n",
       "\n",
       "                                          Description  \n",
       "0   The Dell Inspiron is a versatile laptop that c...  \n",
       "1   The MSI GL65 is a high-performance laptop desi...  \n",
       "2   The HP EliteBook is a premium laptop designed ...  \n",
       "3   The Lenovo IdeaPad is a versatile laptop that ...  \n",
       "4   The ASUS ZenBook Pro is a high-end laptop that...  \n",
       "5   The Acer Predator is a powerhouse laptop desig...  \n",
       "6   The Microsoft Surface Laptop is a premium devi...  \n",
       "7   The Lenovo ThinkPad is a powerful laptop desig...  \n",
       "8   The HP Pavilion is a budget-friendly laptop th...  \n",
       "9   The ASUS ROG Strix G is a high-performance gam...  \n",
       "10  The Dell XPS 15 is a premium laptop that combi...  \n",
       "11  The Lenovo ThinkPad X1 Carbon is a sleek and l...  \n",
       "12  The Acer Swift 3 is a lightweight and affordab...  \n",
       "13  The Apple MacBook Air is a sleek and lightweig...  \n",
       "14  The MSI Prestige 14 is a compact and stylish l...  \n",
       "15  The ASUS ZenBook 13 is a lightweight and power...  \n",
       "16  The Dell Precision 5550 is a high-performance ...  \n",
       "17  The HP ENVY x360 is a versatile 2-in-1 convert...  \n",
       "18  The Razer Blade 15 is a high-performance gamin...  \n",
       "19  The Apple MacBook Pro is a high-end laptop tha...  "
      ]
     },
     "execution_count": 2,
     "metadata": {},
     "output_type": "execute_result"
    }
   ],
   "source": [
    "# Import the libraries\n",
    "import pandas as pd\n",
    "from IPython.display import display, HTML\n",
    "# Set the display width to control the output width\n",
    "pd.set_option('display.width', 100)\n",
    "# Read the dataset and read the Laptop Dataset\n",
    "df = pd.read_csv('laptop_data.csv')\n",
    "df"
   ]
  },
  {
   "cell_type": "markdown",
   "id": "81bc7e3b",
   "metadata": {
    "id": "81bc7e3b"
   },
   "source": [
    "#### Approach:\n",
    "\n",
    "1. **Conversation and Information Gathering**: The chatbot will utilize language models to understand and generate natural responses. Through a conversational flow, it will ask relevant questions to gather information about the user's requirements.\n",
    "2. **Information Extraction**: Once the essential information is collected, rule-based functions come into play, extracting top 3 laptops that best matches the user's needs.\n",
    "3. **Personalized Recommendation**: Leveraging this extracted information, the chatbot engages in further dialogue with the user, efficiently addressing their queries and aiding them in finding the perfect laptop solution."
   ]
  },
  {
   "cell_type": "markdown",
   "id": "5e7aada9",
   "metadata": {
    "id": "5e7aada9"
   },
   "source": [
    "## Part 2: System Design"
   ]
  },
  {
   "cell_type": "markdown",
   "id": "a43fb33e",
   "metadata": {
    "id": "a43fb33e"
   },
   "source": [
    "\n",
    "#### Dataset\n",
    "\n",
    "We have a dataset `laptop.csv` where  each row describes the features of a single laptop and also has a small description at the end. The chatbot that we build will leverage LLMs to parse this `Description` column and provide recommendations"
   ]
  },
  {
   "cell_type": "markdown",
   "id": "73d39aba",
   "metadata": {
    "id": "73d39aba"
   },
   "source": [
    "Here's the overall flow of conversation for the ShopAssist Chatbot:\n",
    "\n",
    "The chatbot should ask a series of questions to\n",
    "- Determine the user's requirments. For simplicity, we have used 6 features to encapsulate the user's needs. The 6 features are as follows:\n",
    "    - GPU intensity\n",
    "    - Display quality\n",
    "    - Portability\n",
    "    - Multitasking\n",
    "    - Processing speed\n",
    "    - Budget\n",
    "\n",
    "- Confirm if the user's requirements have been correctly captured at the end.\n",
    "\n",
    "After that the chatbot lists down the top 3 products that are the most relevant, and engages in further conversation to help the user find the best one.\n"
   ]
  },
  {
   "cell_type": "markdown",
   "id": "281ca223",
   "metadata": {
    "id": "281ca223"
   },
   "source": [
    "#### Building the Chatbot\n",
    "\n",
    "Now let's go ahead and understand the system design for the chatbot.\n",
    "\n",
    "![Chatbot_sys_design.png](https://drive.google.com/uc?id=1j-mw_dNcbxGcelQ0PmkDB0nKOpauU1wX)"
   ]
  },
  {
   "cell_type": "markdown",
   "id": "51b581e9",
   "metadata": {
    "id": "51b581e9"
   },
   "source": [
    "`Stage 1`\n",
    "\n",
    "- Intent Clarity Layer\n",
    "- Intent Confirmation Layer\n",
    "\n",
    "`Stage 2`\n",
    "\n",
    "- Product Mapping Layer\n",
    "- Product Information Extraction Layer\n",
    "\n",
    "`Stage 3`\n",
    "\n",
    "- Product Recommendation Layer"
   ]
  },
  {
   "cell_type": "markdown",
   "id": "bbceebf1",
   "metadata": {
    "id": "bbceebf1"
   },
   "source": [
    "##### Major functions behind the Chatbot\n",
    "\n",
    "Let's now look at a brief overview of the major functions that form the chatbot. We'll take a deep dive later\n",
    "\n",
    "\n",
    "\n",
    "- `initialize_conversation()`: This initializes the variable conversation with the system message.\n",
    "- `get_chat_completions()`: This takes the ongoing conversation as the input and returns the response by the assistant\n",
    "- `moderation_check()`: This checks if the user's or the assistant's message is inappropriate. If any of these is inappropriate, it ends the conversation.\n",
    "- `intent_confirmation_layer()`: This function takes the assistant's response and evaluates if the chatbot has captured the user's profile clearly. Specifically, this checks if the following properties for the user has been captured or not GPU intensity, Display quality, Portability, Multitasking, Processing speed, Budget\n",
    "- `dictionary_present()`: This function checks if the final understanding of user's profile is returned by the chatbot as a python dictionary or not. If there is a dictionary, it extracts the information as a Python dictionary.\n",
    "- `compare_laptops_with_user()`: This function compares the user's profile with the different laptops and come back with the top 3 recommendations.\n",
    "- `initialize_conv_reco()`: Initializes the recommendations conversation"
   ]
  },
  {
   "cell_type": "markdown",
   "id": "8cd07e7a",
   "metadata": {
    "id": "8cd07e7a"
   },
   "source": [
    "In the next sections, we will look at how to write the code for the above functions."
   ]
  },
  {
   "cell_type": "markdown",
   "id": "59bd717d",
   "metadata": {
    "id": "59bd717d"
   },
   "source": [
    "## Part 3: Implementation"
   ]
  },
  {
   "cell_type": "markdown",
   "id": "mPMUbPd0R8nl",
   "metadata": {
    "id": "mPMUbPd0R8nl"
   },
   "source": [
    "## Stage 1"
   ]
  },
  {
   "cell_type": "markdown",
   "id": "4NTg1G-9x2rP",
   "metadata": {
    "id": "4NTg1G-9x2rP"
   },
   "source": [
    "[Stage 1 Flowchart](https://cdn.upgrad.com/uploads/production/ed8cf454-0c7c-4c5d-bc05-23bb3cea6c57/image+3.jpg)\n",
    "\n",
    "[Stage1 system design](Stage1_sys_design.png)\n",
    "\n",
    "[Stage1 example design](Stage1_example.png)"
   ]
  },
  {
   "cell_type": "markdown",
   "id": "680b636d",
   "metadata": {
    "id": "680b636d"
   },
   "source": [
    "### 3.1 - Import the libraries\n",
    "\n",
    "Let's start by importing the libraries that we'll require for this project. Following are the ones:\n",
    "- openai\n",
    "- pandas\n",
    "- os, json, ast\n",
    "\n",
    "Make sure the api key is stored in the text file `OPENAI_API_Key.txt`."
   ]
  },
  {
   "cell_type": "code",
   "execution_count": 22,
   "id": "65e05f4f",
   "metadata": {
    "id": "65e05f4f"
   },
   "outputs": [],
   "source": [
    "# Import the libraries\n",
    "import os, json, ast\n",
    "import openai\n",
    "from tenacity import retry, wait_random_exponential, stop_after_attempt\n",
    "from dotenv import load_dotenv\n",
    "load_dotenv()"
   ]
  },
  {
   "cell_type": "code",
   "execution_count": 25,
   "id": "0b186ebc",
   "metadata": {},
   "outputs": [],
   "source": [
    "openai.api_key=os.getenv('OPENAI_API_KEY')"
   ]
  },
  {
   "cell_type": "code",
   "execution_count": 16,
   "id": "SF3vqhzHAJx3",
   "metadata": {
    "id": "SF3vqhzHAJx3"
   },
   "outputs": [],
   "source": [
    "# # If you're using the default OpenAI API key, uncomment the following lines:\n",
    "#openai.api_key = open(\"OPENAI_API_Key.txt\", \"r\").read().strip()\n",
    "#os.environ['OPENAI_API_KEY'] = openai.api_key"
   ]
  },
  {
   "cell_type": "code",
   "execution_count": 17,
   "id": "c67a2ea6",
   "metadata": {
    "id": "c67a2ea6"
   },
   "outputs": [],
   "source": [
    "# # Recall that messages to the LLM is a list of dicts containing system_message, user_input and assistant_message\n",
    "# conversation = [{\"role\": \"system\", \"content\": system_message},\n",
    "#                 {\"role\": \"user\", \"content\": user_input},\n",
    "#                 {\"role\": \"assistant\", \"content\": assistant_message}]"
   ]
  },
  {
   "cell_type": "markdown",
   "id": "f6597837",
   "metadata": {
    "id": "f6597837"
   },
   "source": [
    "### 3.2 - Implementing Intent Clarity and Intent Confirmation Layers\n",
    "\n",
    "Let's start with the first part of the implementation - building the `intent clarity` and `intent confirmation` layers. As mentioned earlier, this layer helps in identifying the user requirements and passing it on to the product matching layer. Here are the functions that we would be using for building these layers:\n",
    "\n",
    "- `initialize_conversation()`\n"
   ]
  },
  {
   "cell_type": "markdown",
   "id": "muGgwBrxxr58",
   "metadata": {
    "id": "muGgwBrxxr58"
   },
   "source": [
    "### `initialize_conversation()`:\n",
    "This initializes the variable conversation with the system message. Using prompt engineering and chain of thought reasoning, the function will enable the chatbot to keep asking questions until the user requirements have been captured in a dictionary. It also includes Few Shot Prompting(sample conversation between the user and assistant) to align the model about user and assistant responses at each step."
   ]
  },
  {
   "cell_type": "markdown",
   "id": "1piZKLXpP_Hf",
   "metadata": {
    "id": "1piZKLXpP_Hf"
   },
   "source": [
    "\n",
    "\n",
    "```\n",
    "def initialize_conversation():\n",
    "    '''\n",
    "    Initializes a conversation for an intelligent laptop gadget expert system.\n",
    "\n",
    "    Returns:\n",
    "        list: [{\"role\": \"system\", \"content\": system_message}]\n",
    "        A list containing a dictionary representing the system's initial message.\n",
    "        \n",
    "    The function initializes a conversation with the user, providing instructions, examples,\n",
    "    and a sample conversation to guide the user in interacting with the system. The system's\n",
    "    initial message includes information about the purpose of the conversation, instructions\n",
    "    for filling in user profile details, guidelines for asking questions, and a sample\n",
    "    conversation demonstrating how the interaction with the system progresses.\n",
    "\n",
    "    The system expects the user to provide information related to their laptop requirements,\n",
    "    including GPU intensity, display quality, portability, multitasking needs, processing\n",
    "    speed, and budget. The provided information is used to update a predefined dictionary\n",
    "    representing the user's profile. The system emphasizes extracting specific details from\n",
    "    the user's responses to accurately fill in the dictionary values.\n",
    "\n",
    "    The conversation flow involves three main thoughts:\n",
    "    - Thought 1: Understanding the user's profile and filling confident values.\n",
    "    - Thought 2: Filling values for remaining keys based on gathered information.\n",
    "    - Thought 3: Confirming and verifying updated dictionary values.\n",
    "\n",
    "    Users are encouraged to engage in a meaningful conversation with the system to ensure\n",
    "    accurate profile representation and tailored recommendations for the best laptop choice.\n",
    "\n",
    "    Usage:\n",
    "        # Initialise the conversation\n",
    "        conversation = initialize_conversation()\n",
    "        # Print the conversation\n",
    "        print(conversation)\n",
    "    '''\n",
    "    ```\n",
    "\n"
   ]
  },
  {
   "cell_type": "code",
   "execution_count": 26,
   "id": "431f76f6",
   "metadata": {
    "id": "431f76f6"
   },
   "outputs": [],
   "source": [
    "def initialize_conversation():\n",
    "    '''\n",
    "    Returns a list [{\"role\": \"system\", \"content\": system_message}]\n",
    "    '''\n",
    "\n",
    "    system_message = f\"\"\"\n",
    "\n",
    "    \"\"\"\n",
    "    conversation = [{\"role\": \"system\", \"content\": system_message}]\n",
    "\n",
    "    return conversation"
   ]
  },
  {
   "cell_type": "code",
   "execution_count": 27,
   "id": "ytJ1tPNDMtZF",
   "metadata": {
    "id": "ytJ1tPNDMtZF"
   },
   "outputs": [
    {
     "name": "stdout",
     "output_type": "stream",
     "text": [
      "\n",
      "\n",
      "    \n"
     ]
    }
   ],
   "source": [
    "# Let's initialise conversation\n",
    "system_message = initialize_conversation()\n",
    "print(system_message[0][\"content\"])"
   ]
  },
  {
   "cell_type": "markdown",
   "id": "00f77346",
   "metadata": {
    "id": "00f77346"
   },
   "source": [
    "Let's now look at the next function.\n",
    "- `get_chat_completions()`: This takes the ongoing conversation as the input and returns the response by the assistant. We'll use the Chat Completions function for performing LLM calls to OpenAI."
   ]
  },
  {
   "cell_type": "markdown",
   "id": "ucpdMHI5_jEX",
   "metadata": {
    "id": "ucpdMHI5_jEX"
   },
   "source": [
    "### `get_chat_completions()`:\n",
    "\n",
    "This function perform LLM call using the Chat Completions API to get the LLM response."
   ]
  },
  {
   "cell_type": "markdown",
   "id": "ycKlHDVNsMTY",
   "metadata": {
    "id": "ycKlHDVNsMTY"
   },
   "source": [
    "```\n",
    "def get_chat_completions(input):\n",
    "    \"\"\"\n",
    "    Generate chat completions using OpenAI's GPT-3.5-turbo model.\n",
    "\n",
    "    Parameters:\n",
    "    - input: list of dictionaries representing chat messages to prompt the model.\n",
    "    - json_format: boolean, specifies whether the output should be in JSON format (default: False).\n",
    "\n",
    "    Returns:\n",
    "    - output: The generated chat completion response. If json_format is True, returns a JSON object.\n",
    "    \"\"\"\n",
    "```"
   ]
  },
  {
   "cell_type": "code",
   "execution_count": 20,
   "id": "dYShGKumNEIM",
   "metadata": {
    "id": "dYShGKumNEIM"
   },
   "outputs": [
    {
     "ename": "SyntaxError",
     "evalue": "incomplete input (751192229.py, line 3)",
     "output_type": "error",
     "traceback": [
      "\u001b[1;36m  Cell \u001b[1;32mIn[20], line 3\u001b[1;36m\u001b[0m\n\u001b[1;33m    \"\"\"\u001b[0m\n\u001b[1;37m    ^\u001b[0m\n\u001b[1;31mSyntaxError\u001b[0m\u001b[1;31m:\u001b[0m incomplete input\n"
     ]
    }
   ],
   "source": [
    "# Define a Chat Completions API call\n",
    "def get_chat_completions(input, json_format = False):\n",
    "    \"\"\"\n",
    "    Generate chat completions using OpenAI's GPT-3.5-turbo model.\n",
    "\n",
    "    Parameters:\n",
    "    - input: list of dictionaries representing chat messages to prompt the model.\n",
    "    - json_format: boolean, specifies whether the output should be in JSON format (default: False).\n",
    "\n",
    "    Returns:\n",
    "    - output: The generated chat completion response. If json_format is True, returns a JSON object."
   ]
  },
  {
   "cell_type": "markdown",
   "id": "I6gq3hIj6XEr",
   "metadata": {
    "id": "I6gq3hIj6XEr"
   },
   "source": [
    "### iterate_response() - Helper Function:\n",
    "We've created a small helper test function to ensure the model's response is consistent.\n",
    "Uncomment the code blocks and run the function `iterate_response(response)` to check if the response of the `intent_confirmation_layer`is consistent.}"
   ]
  },
  {
   "cell_type": "code",
   "execution_count": null,
   "id": "3c369bd0",
   "metadata": {
    "id": "3c369bd0"
   },
   "outputs": [],
   "source": [
    "def iterate_llm_response(funct, debug_response, num=10):\n",
    "    \"\"\"\n",
    "    Calls a specified function repeatedly and prints the results.\n",
    "\n",
    "    This function is designed to test the consistency of a response from a given function.\n",
    "    It calls the function multiple times (default is 10) and prints out the iteration count,\n",
    "    the function's response(s).\n",
    "\n",
    "    Args:\n",
    "        funct (function): The function to be tested. This function should accept a single argument\n",
    "                          and return the response value(s).\n",
    "        debug_response (dict): The input argument to be passed to 'funct' on each call.\n",
    "        num (int, optional): The number of times 'funct' will be called. Defaults to 10.\n",
    "\n",
    "    Returns:\n",
    "        This function only returns the results to the console.\n",
    "\n",
    "    Example usage: Test the consistency of responses from 'intent_confirmation_layer' function\n",
    "    iterate_llm_response(get_chat_completions, messages)\n",
    "    \"\"\"\n"
   ]
  },
  {
   "cell_type": "markdown",
   "id": "af181448",
   "metadata": {
    "id": "af181448"
   },
   "source": [
    "Let's pass the initialized conversation `debug_conversation` and see what is the assistant's response."
   ]
  },
  {
   "cell_type": "code",
   "execution_count": null,
   "id": "7fca12a4",
   "metadata": {
    "id": "7fca12a4"
   },
   "outputs": [],
   "source": [
    "debug_user_input = \"Hi, I am Anand. I need a laptop for coding.\""
   ]
  },
  {
   "cell_type": "code",
   "execution_count": null,
   "id": "h1vip-2uj_M7",
   "metadata": {
    "id": "h1vip-2uj_M7"
   },
   "outputs": [],
   "source": [
    "debug_conversation.append({\"role\": \"user\", \"content\": debug_user_input})\n",
    "# print(debug_conversation[0][\"content\"]) # System Message\n",
    "# print(debug_conversation[1][\"content\"]) # User Input"
   ]
  },
  {
   "cell_type": "code",
   "execution_count": null,
   "id": "aZyiegRPOLJC",
   "metadata": {
    "id": "aZyiegRPOLJC"
   },
   "outputs": [],
   "source": [
    "# Let's look at the debug_conversation list\n",
    "display(debug_conversation)"
   ]
  },
  {
   "cell_type": "code",
   "execution_count": null,
   "id": "fdd0a9ed",
   "metadata": {
    "id": "fdd0a9ed"
   },
   "outputs": [],
   "source": [
    "# Getting the response from the LLM Assistant by passing the conversation to the Chat Completions API\n",
    "debug_response_assistant = get_chat_completions(debug_conversation)\n",
    "display(debug_response_assistant)"
   ]
  },
  {
   "cell_type": "markdown",
   "id": "7dca90c2",
   "metadata": {
    "id": "7dca90c2"
   },
   "source": [
    "Let's play around a bit and add the following user's input `debug_user_input` to the conversation `debug_conversation` and see what the assistant responds with."
   ]
  },
  {
   "cell_type": "code",
   "execution_count": null,
   "id": "kN2nZh_dkT2v",
   "metadata": {
    "id": "kN2nZh_dkT2v"
   },
   "outputs": [],
   "source": [
    "# Let's append this to the conversation list\n",
    "debug_conversation.append(({\"role\": \"system\", \"content\": debug_response_assistant}))\n",
    "debug_conversation"
   ]
  },
  {
   "cell_type": "markdown",
   "id": "389ae50b",
   "metadata": {
    "id": "389ae50b"
   },
   "source": [
    "Typically, whenever the chatbot is interacting with the user, all the conversations should be moderated to identify any inappropriate content. Let's look at the function that can help with it."
   ]
  },
  {
   "cell_type": "markdown",
   "id": "5cc13511",
   "metadata": {
    "id": "5cc13511"
   },
   "source": [
    "### `moderation_check()`:\n",
    " This checks if the user's or the assistant's message is inappropriate. If any of these is inappropriate, you can add a break statement to end the conversation."
   ]
  },
  {
   "cell_type": "code",
   "execution_count": null,
   "id": "e5c799b4",
   "metadata": {
    "id": "e5c799b4"
   },
   "outputs": [],
   "source": [
    "# Define a function called moderation_check that takes user_input as a parameter.\n",
    "def moderation_check(user_input):\n",
    "    \"\"\"\n",
    "    Perform moderation check on user input using the OpenAI API.\n",
    "\n",
    "    Parameters:\n",
    "    - user_input (str): The text input to be checked for moderation.\n",
    "\n",
    "    Returns:\n",
    "    - str: \"Flagged\" if the input is flagged by the moderation system,\n",
    "           \"Not Flagged\" otherwise.\n",
    "    \"\"\"\n",
    "    # Call the OpenAI API to perform moderation on the user's input.\n",
    "\n",
    "    # Extract the moderation result from the API response.\n",
    "\n",
    "    # Check if the input was flagged by the moderation system. If flagged, return \"Flagged\" else return \"Not Flagged\""
   ]
  },
  {
   "cell_type": "code",
   "execution_count": null,
   "id": "67uPavgXgry4",
   "metadata": {
    "id": "67uPavgXgry4"
   },
   "outputs": [],
   "source": [
    "moderation_check(\"I want to kill them.\")"
   ]
  },
  {
   "cell_type": "markdown",
   "id": "8c9225ae",
   "metadata": {
    "id": "8c9225ae"
   },
   "source": [
    "Let's test moderation on the `debug_user_input`"
   ]
  },
  {
   "cell_type": "code",
   "execution_count": null,
   "id": "86d12659",
   "metadata": {
    "id": "86d12659"
   },
   "outputs": [],
   "source": [
    "debug_moderation = moderation_check(debug_user_input)\n",
    "print(debug_moderation)"
   ]
  },
  {
   "cell_type": "markdown",
   "id": "f458b471",
   "metadata": {
    "id": "f458b471"
   },
   "source": [
    "Let's now test moderation on some other text."
   ]
  },
  {
   "cell_type": "code",
   "execution_count": null,
   "id": "3091fc48",
   "metadata": {
    "id": "3091fc48"
   },
   "outputs": [],
   "source": [
    "print(moderation_check(\"I want to kill Ravan.\"))\n",
    "print(moderation_check(\"I need a laptop\"))"
   ]
  },
  {
   "cell_type": "markdown",
   "id": "6c6d2f2b",
   "metadata": {
    "id": "6c6d2f2b"
   },
   "source": [
    "So, this moderation api may not be perfect but if you ask this to the ChatGPT or it's API (GPT 3.5), it'll not help you with such requests. Remember, moderation should also be applied on the GPT 3.5's output."
   ]
  },
  {
   "cell_type": "markdown",
   "id": "ececb22e",
   "metadata": {
    "id": "ececb22e"
   },
   "source": [
    "Let's now check moderation on the assistant's response `debug_response_assistant`."
   ]
  },
  {
   "cell_type": "code",
   "execution_count": null,
   "id": "e289d1c1",
   "metadata": {
    "id": "e289d1c1"
   },
   "outputs": [],
   "source": [
    "moderation_check(debug_response_assistant)"
   ]
  },
  {
   "cell_type": "markdown",
   "id": "6a47575a",
   "metadata": {
    "id": "6a47575a"
   },
   "source": [
    "As mentioned earlier, you need to understand the user's profile, which essentially means that all the features: GPU intensity, Display quality, Portability, Multitasking, Processing speed, Budget are captured or not. Let's look at the function that helps us verify that."
   ]
  },
  {
   "cell_type": "markdown",
   "id": "543bca28",
   "metadata": {
    "id": "543bca28"
   },
   "source": [
    "### `intent_confirmation_layer()`:\n",
    "\n",
    "This function takes the assistant's response and evaluates if the chatbot has captured the user's profile clearly. Specifically, this checks if the following properties for the user has been captured or not\n",
    "   - GPU intensity\n",
    "   - Display quality\n",
    "   - Portability\n",
    "   - Multitasking\n",
    "   - Processing speed\n",
    "   - Budget"
   ]
  },
  {
   "cell_type": "markdown",
   "id": "-3MoEBBhRDpr",
   "metadata": {
    "id": "-3MoEBBhRDpr"
   },
   "source": [
    "\n",
    "\n",
    "```\n",
    "def intent_confirmation_layer(response_assistant):\n",
    "    \"\"\"\n",
    "    This function serves as an intent confirmation layer for a laptop recommendation system using OpenAI LLM API.\n",
    "\n",
    "    Parameters:\n",
    "    - response_assistant (str): The input text containing user requirements captured through 6 keys:\n",
    "        'GPU intensity', 'Display quality', 'Portability', 'Multitasking', 'Processing speed', and 'Budget'.\n",
    "\n",
    "    Returns:\n",
    "    - str: A one-word string in JSON format indicating if the values for the specified keys are correctly filled.\n",
    "        - 'Yes' if the values are correctly filled for all keys ('GPU intensity', 'Display quality', 'Portability',\n",
    "          'Multitasking', 'Processing speed') based on the importance as stated by the user.\n",
    "        - 'No' otherwise.\n",
    "\n",
    "    Note:\n",
    "    - The values for all keys, except 'Budget', should be 'low', 'medium', or 'high' based on their importance as stated by the user.\n",
    "    - The input text should be structured such that it contains the necessary keys and their corresponding values.\n",
    "    - The function uses OpenAI's Chat Completion API to evaluate the correctness of the input values.\n",
    "    \"\"\"\n",
    "```\n",
    "\n"
   ]
  },
  {
   "cell_type": "code",
   "execution_count": null,
   "id": "w1o5KuBeONhF",
   "metadata": {
    "id": "w1o5KuBeONhF"
   },
   "outputs": [],
   "source": [
    "def intent_confirmation_layer(response_assistant):\n",
    "    \"\"\"\n",
    "    This function takes in a response from an AI assistant and evaluates it based on specific criteria.\n",
    "\n",
    "    Args:\n",
    "    - response_assistant (str): The input text containing user requirements captured through 6 keys:\n",
    "      'GPU intensity', 'Display quality', 'Portability', 'Multitasking', 'Processing speed', and 'Budget'.\n",
    "\n",
    "    Returns:\n",
    "    - dict: A JSON-formatted dictionary with keys 'result' and, if applicable, 'reason'.\n",
    "      - 'result' (str): Either 'Yes' or 'No', indicating if the input meets the criteria.\n",
    "      - 'reason' (str, optional): If 'result' is 'No', this key provides a reason for the evaluation.\n",
    "\n",
    "    Key Instructions:\n",
    "    1. The input should include values for the specified keys.\n",
    "    2. Allowed values for 'GPU intensity', 'Display quality', 'Portability', 'Multitasking', and 'Processing speed'\n",
    "       are 'low', 'medium', and 'high'.\n",
    "    3. 'Budget' should only have a numerical value.\n",
    "    4. Only a one-word string in JSON format ('Yes' or 'No') should be output at the key 'result'.\n",
    "    5. If 'result' is 'No', include the reason in the key 'reason'.\n",
    "    6. Use the AI model 'gpt-3.5-turbo' to process the evaluation.\n",
    "\n",
    "    Example:\n",
    "    >>> input_text = \"{'GPU intensity': 'high', 'Display quality': 'medium', 'Portability': 'low',\n",
    "                      'Multitasking': 'medium', 'Processing speed': 'high', 'Budget': 1200}\"\n",
    "    >>> intent_confirmation_layer(input_text)\n",
    "    {'result': 'Yes'}\n",
    "\n",
    "    Note: Modify the input text to match the expected format before passing it to this function.\n",
    "    \"\"\"\n"
   ]
  },
  {
   "cell_type": "code",
   "execution_count": null,
   "id": "26f1535d",
   "metadata": {
    "id": "26f1535d"
   },
   "outputs": [],
   "source": [
    "# Here are some sample input output pairs for better understanding:\n",
    "# {delimiter}\n",
    "# input: \"{{'GPU intensity': 'low', 'Display quality': 'high', 'Portability': 'low', 'Multitasking': 'high', 'Processing speed': 'low'}}\"\n",
    "# output: No\n",
    "\n",
    "# input: \"{{'GPU intensity': 'low', 'Display quality': 'high', 'Portability': 'low', 'Multitasking': 'high', 'Processing speed': '', 'Budget': '90000'}}\"\n",
    "# output: No\n",
    "\n",
    "# input: \"Here is your user profile 'GPU intensity': 'high','Display quality': 'high','Portability': 'medium','Multitasking': 'low','Processing speed': 'high','Budget': '200000'\"\n",
    "# output: Yes\n",
    "\n",
    "# input: \"Here is your recommendation {{'GPU intensity': 'low', 'Display quality': 'high', 'Portability': 'low', 'Multitasking': 'high', 'Processing speed': 'low', 'Budget': '90000'}}\"\n",
    "# output: Yes\n",
    "\n",
    "# input: \"Here is your recommendation - 'GPU intensity': 'high' - 'Display quality': 'low' - 'Portability': 'low'  - 'Multitasking': 'high' - 'Processing speed': 'high' - 'Budget': '90000' \"\n",
    "# output: Yes\n",
    "\n",
    "# input: \"You can look at this - GPU intensity: high - Display quality: low - Portability: low  - Multitasking: high - Processing speed: high - Budget: 90000\"\n",
    "# output: Yes\n",
    "\n",
    "# input: \"{{GPU intensity: low, Display quality: high, Portability: low, Multitasking:high,Processing speed: Low, Budget: 70000}}\"\n",
    "# output: No\n",
    "\n",
    "# {delimiter}"
   ]
  },
  {
   "cell_type": "markdown",
   "id": "356fc469",
   "metadata": {
    "id": "356fc469"
   },
   "source": [
    "Let's apply the function to the assistant's reponse and see if it has captured the user profile."
   ]
  },
  {
   "cell_type": "code",
   "execution_count": null,
   "id": "TbsoK64ZXnDZ",
   "metadata": {
    "id": "TbsoK64ZXnDZ"
   },
   "outputs": [],
   "source": [
    "debug_response_assistant"
   ]
  },
  {
   "cell_type": "code",
   "execution_count": null,
   "id": "89031a63",
   "metadata": {
    "id": "89031a63"
   },
   "outputs": [],
   "source": [
    "debug_confirmation = intent_confirmation_layer(debug_response_assistant)\n",
    "display(debug_confirmation)"
   ]
  },
  {
   "cell_type": "code",
   "execution_count": null,
   "id": "ODyge0F8puJJ",
   "metadata": {
    "id": "ODyge0F8puJJ"
   },
   "outputs": [],
   "source": [
    "# Printing the value for better clarity\n",
    "print(\"Result:\",debug_confirmation.get('result'),\"\\t\", \"Reason:\", debug_confirmation.get('reason'))"
   ]
  },
  {
   "cell_type": "markdown",
   "id": "4fc34f79",
   "metadata": {
    "id": "4fc34f79"
   },
   "source": [
    "Now, you can keep adding user and assistant responses to debug_conversation and get to a point where intent_confirmation_layer() gives yes as a response. Let's see if the following response by the assistant passes the intent_confirmation_layer() test."
   ]
  },
  {
   "cell_type": "code",
   "execution_count": null,
   "id": "ef807cad",
   "metadata": {
    "id": "ef807cad"
   },
   "outputs": [],
   "source": [
    "#Let's add the above assistant response to the debug_conversation.\n",
    "debug_conversation.append({\"role\": \"assistant\", \"content\": debug_response_assistant})"
   ]
  },
  {
   "cell_type": "code",
   "execution_count": null,
   "id": "PIN620N722gd",
   "metadata": {
    "id": "PIN620N722gd"
   },
   "outputs": [],
   "source": [
    "debug_conversation"
   ]
  },
  {
   "cell_type": "markdown",
   "id": "e05526d0",
   "metadata": {
    "id": "e05526d0"
   },
   "source": [
    "Let's say that after a series of conversations you get the following response from the assistant."
   ]
  },
  {
   "cell_type": "code",
   "execution_count": null,
   "id": "5a744f8f",
   "metadata": {
    "id": "5a744f8f"
   },
   "outputs": [],
   "source": [
    "# Example 1 - Let's check with the confirmation_layer if all the keys are present\n",
    "debug_response_assistant_1 = f\"\"\"\n",
    "Great, thank you for clarifying your requirements.\n",
    "Based on your inputs, here is the final profile for the laptop you are looking for:\n",
    "{{'GPU intensity':'high',\n",
    " 'Display quality':'high',\n",
    " 'Portability':'low',\n",
    " 'Multitasking':'low',\n",
    " 'Processing speed':'low',\n",
    " 'Budget':'50000 INR'}}\n",
    "\"\"\"\n",
    "#Note that you are using double curly braces\n",
    "\n",
    "print(debug_response_assistant_1)"
   ]
  },
  {
   "cell_type": "markdown",
   "id": "f7f909ea",
   "metadata": {
    "id": "f7f909ea"
   },
   "source": [
    "Do you think it'll pass the `intent_confirmation_layer()` test?\n",
    "\n",
    " Let's try it out."
   ]
  },
  {
   "cell_type": "code",
   "execution_count": null,
   "id": "lJjze8xQf8_S",
   "metadata": {
    "id": "lJjze8xQf8_S"
   },
   "outputs": [],
   "source": [
    "response = intent_confirmation_layer(debug_response_assistant_1)\n",
    "response.get('result') # Extract the result key from the dictionary"
   ]
  },
  {
   "cell_type": "code",
   "execution_count": null,
   "id": "BS0_vM3ok-t-",
   "metadata": {
    "id": "BS0_vM3ok-t-"
   },
   "outputs": [],
   "source": [
    "# Example 2 - Let's check confirmation_layer if all the keys are present\n",
    "debug_response_assistant_2 = f\"\"\"\n",
    "Great, thank you for clarifying your requirements.\n",
    "Based on your inputs, here is the final profile for the laptop you are looking for:\n",
    "{{'GPU intensity':'high',\n",
    " 'Display quality':'high',\n",
    " 'Portability':'low',\n",
    " 'Multitasking':'low',\n",
    " 'Processing speed':'low'}}\n",
    "\"\"\"\n",
    "#Note that you are using double curly braces\n",
    "\n",
    "print(debug_response_assistant_2)"
   ]
  },
  {
   "cell_type": "code",
   "execution_count": null,
   "id": "_9qbx_XLlAY9",
   "metadata": {
    "id": "_9qbx_XLlAY9"
   },
   "outputs": [],
   "source": [
    "intent_confirmation_layer(debug_response_assistant_2)\n",
    "# iterate_llm_response(intent_confirmation_layer, debug_response_assistant_2)"
   ]
  },
  {
   "cell_type": "code",
   "execution_count": null,
   "id": "sFl2vRm0oYet",
   "metadata": {
    "id": "sFl2vRm0oYet"
   },
   "outputs": [],
   "source": [
    "# Example 3 - Let's check confirmation_layer if all the keys are present\n",
    "debug_response_assistant_3 = f\"\"\"\n",
    "Great, thank you for clarifying your requirements.\n",
    "Based on your inputs, here is the final profile for the laptop you are looking for:\n",
    "{{'GPU intensity':'high',\n",
    " 'Display quality':'high',\n",
    " 'Portability':'low',\n",
    " 'Multitasking':'low',\n",
    " 'Processing speed':'low',\n",
    " 'Budget':'50000'}}\n",
    "\"\"\"\n",
    "#Note that you are using double curly braces\n",
    "\n",
    "print(debug_response_assistant_3)"
   ]
  },
  {
   "cell_type": "code",
   "execution_count": null,
   "id": "wA17-LWiohEP",
   "metadata": {
    "id": "wA17-LWiohEP"
   },
   "outputs": [],
   "source": [
    "intent_confirmation_layer(debug_response_assistant_3)"
   ]
  },
  {
   "cell_type": "markdown",
   "id": "b570ff33",
   "metadata": {
    "id": "b570ff33"
   },
   "source": [
    "Let's now look at the working of `dictionary_present()`."
   ]
  },
  {
   "cell_type": "code",
   "execution_count": null,
   "id": "Gs2ECB3Atwkt",
   "metadata": {
    "id": "Gs2ECB3Atwkt"
   },
   "outputs": [],
   "source": [
    "# Let's check the consistency of the output responses\n",
    "# iterate_llm_response(intent_confirmation_layer, debug_response_assistant_3)"
   ]
  },
  {
   "cell_type": "markdown",
   "id": "8941aef4",
   "metadata": {
    "id": "8941aef4"
   },
   "source": [
    "### `dictionary_present()`:\n",
    "\n",
    "This function checks if the final understanding of user's profile is returned by the chatbot is a Python dictionary or not. This is important as it'll be used later on for finding the right laptops using dictionary matching."
   ]
  },
  {
   "cell_type": "code",
   "execution_count": null,
   "id": "SDmxzKDkuAg6",
   "metadata": {
    "id": "SDmxzKDkuAg6"
   },
   "outputs": [],
   "source": [
    "def dictionary_present(response):\n",
    "    \"\"\"\n",
    "    Extracts and returns a Python dictionary in JSON format from the given input string if it matches a specific format.\n",
    "    Args:\n",
    "    - response (str): A string containing the user input or a Python dictionary in a specific format.\n",
    "\n",
    "    Returns:\n",
    "    - dict: The extracted Python dictionary in JSON format if found, otherwise returns None.\n",
    "\n",
    "    The input string is expected to contain a Python dictionary in the following format:\n",
    "    {'GPU intensity': 'low/ medium/ high',\n",
    "    'Display quality': 'low/ medium/ high',\n",
    "    'Portability': 'low/ medium/ high',\n",
    "    'Multitasking': 'low/ medium/ high',\n",
    "    'Processing speed': 'low/ medium/ high',\n",
    "    'Budget': 'Budget in numerical value'}\n",
    "\n",
    "    The function extracts the relevant values from the input and returns only the Python dictionary in JSON format. The output must match the format described above.\n",
    "\n",
    "    Example:\n",
    "    input = \"Here is your user profile \\\n",
    "    'GPU intensity': 'high','Display quality': 'high','Portability': 'medium','Multitasking': 'high','Processing speed': 'high','Budget': '200000 INR'\"\n",
    "    >>> dictionary_present(response)\n",
    "    '{\"GPU intensity\": \"high\",\"Display quality\": \"high\",\"Portability\": \"medium\",\"Multitasking\": \"high\",\"Processing speed\": \"high\",\"Budget\": \"200000\"}'\n",
    "\n",
    "    NOTE: The function internally uses get_chat_completions() to interact with the user in a chat-like manner.\n",
    "    \"\"\""
   ]
  },
  {
   "cell_type": "code",
   "execution_count": null,
   "id": "KjZlut6U2p_e",
   "metadata": {
    "id": "KjZlut6U2p_e"
   },
   "outputs": [],
   "source": [
    "def dictionary_present(response):\n",
    "    delimiter = \"####\"\n",
    "\n",
    "\n",
    "    prompt = f\"\"\"\n",
    "            \"\"\"\n",
    "    messages = [{\"role\": \"system\", \"content\":prompt },\n",
    "                {\"role\": \"user\", \"content\":f\"\"\"Here is the user input: {response}\"\"\" }]\n",
    "\n",
    "    confirmation = get_chat_completions(messages)\n",
    "\n",
    "    return confirmation"
   ]
  },
  {
   "cell_type": "markdown",
   "id": "01dd4ca1",
   "metadata": {
    "id": "01dd4ca1"
   },
   "source": [
    "Let's start by passing the `debug_response_assistant`."
   ]
  },
  {
   "cell_type": "code",
   "execution_count": null,
   "id": "qhG-yoxqZ6g2",
   "metadata": {
    "id": "qhG-yoxqZ6g2"
   },
   "outputs": [],
   "source": [
    "debug_response_assistant_n = \"\"\"\n",
    "{'GPU intensity':'high',\n",
    " 'Display quality':'high',\n",
    " 'Portability':'low',\n",
    " 'Multitasking':'low',\n",
    " 'Processing speed':'low',\n",
    " 'Budget':'50000'}\n",
    "\"\"\""
   ]
  },
  {
   "cell_type": "code",
   "execution_count": null,
   "id": "c9795d76",
   "metadata": {
    "id": "c9795d76"
   },
   "outputs": [],
   "source": [
    "response_dict_n = dictionary_present(debug_response_assistant_n)\n",
    "display(response_dict_n)"
   ]
  },
  {
   "cell_type": "code",
   "execution_count": null,
   "id": "9j07XZONGBTN",
   "metadata": {
    "id": "9j07XZONGBTN"
   },
   "outputs": [],
   "source": [
    "type(response_dict_n)"
   ]
  },
  {
   "cell_type": "markdown",
   "id": "95fe9455",
   "metadata": {
    "id": "95fe9455"
   },
   "source": [
    "What if you pass something like this where it is not in the form of a dictionary? Or some key or some values are missing? Let's see."
   ]
  },
  {
   "cell_type": "code",
   "execution_count": null,
   "id": "706a8a28",
   "metadata": {
    "id": "706a8a28"
   },
   "outputs": [],
   "source": [
    "debug_response_assistant_n = f\"\"\"Thank you for providing your budget.\n",
    "Based on your budget of 50,000 INR, I will consider this while recommending suitable laptop options for you.\n",
    "Here is the final recommendation for your laptop:\n",
    "- GPU intensity: high\n",
    "- Display quality: high\n",
    "- Portability: low\n",
    "- Multitasking: high\n",
    "- Processing speed: medium\n",
    "- Budget: 80,000 INR\n",
    "\n",
    "Please note that these specifications are based on your requirements for surfing and a decent display within your budget.\n",
    "Let me know if there's anything else I can assist you with!\"\"\""
   ]
  },
  {
   "cell_type": "code",
   "execution_count": null,
   "id": "79a1d0f5",
   "metadata": {
    "id": "79a1d0f5",
    "scrolled": true
   },
   "outputs": [],
   "source": [
    "response_dict_n = dictionary_present(debug_response_assistant_n)\n",
    "display(response_dict_n)"
   ]
  },
  {
   "cell_type": "code",
   "execution_count": null,
   "id": "5Jwp8q2NGGAg",
   "metadata": {
    "id": "5Jwp8q2NGGAg"
   },
   "outputs": [],
   "source": [
    "type(response_dict_n)"
   ]
  },
  {
   "cell_type": "code",
   "execution_count": null,
   "id": "kzXtY0As84vl",
   "metadata": {
    "id": "kzXtY0As84vl"
   },
   "outputs": [],
   "source": [
    "# Check for LLM function's consistency\n",
    "iterate_llm_response(dictionary_present, debug_response_assistant_n)"
   ]
  },
  {
   "cell_type": "markdown",
   "id": "4e3135e6",
   "metadata": {
    "id": "4e3135e6"
   },
   "source": [
    "Let's quickly take a look at the code that we have run until now."
   ]
  },
  {
   "cell_type": "code",
   "execution_count": null,
   "id": "IJmvsVt25Y7r",
   "metadata": {
    "id": "IJmvsVt25Y7r"
   },
   "outputs": [],
   "source": [
    "debug_conversation"
   ]
  },
  {
   "cell_type": "code",
   "execution_count": null,
   "id": "a1190d29",
   "metadata": {
    "id": "a1190d29"
   },
   "outputs": [],
   "source": [
    "debug_conversation = initialize_conversation()\n",
    "debug_user_input = \"Hi, I am Anand. I need a laptop for coding.\"\n",
    "debug_moderation = moderation_check(debug_user_input)\n",
    "debug_conversation.append({\"role\": \"user\", \"content\": debug_user_input})\n",
    "debug_response_assistant = get_chat_completions(debug_conversation)\n",
    "debug_moderation = moderation_check(debug_response_assistant)\n",
    "debug_conversation.append({\"role\": \"assistant\", \"content\": debug_response_assistant})\n",
    "debug_confirmation = intent_confirmation_layer(debug_response_assistant)\n",
    "# After a series of conversation...\n",
    "response_dict_n = dictionary_present(debug_response_assistant_n)\n",
    "print(response_dict_n)"
   ]
  },
  {
   "cell_type": "markdown",
   "id": "c95c036b",
   "metadata": {
    "id": "c95c036b"
   },
   "source": [
    "So, now that you have the user profile stored in `response_dict_n`. We'll use this to generate recommendations. Before that, we need to create a similar profile for every laptop. Let's see how we do it."
   ]
  },
  {
   "cell_type": "markdown",
   "id": "TWY1b2OXRx4u",
   "metadata": {
    "id": "TWY1b2OXRx4u"
   },
   "source": [
    "## Stage 2"
   ]
  },
  {
   "cell_type": "markdown",
   "id": "-HEFP9rps1a5",
   "metadata": {
    "id": "-HEFP9rps1a5"
   },
   "source": [
    "[Stage 2 Flowchart](https://cdn.upgrad.com/uploads/production/c71aa254-32db-4265-a083-f4a540dac014/Stage+2.jpg)"
   ]
  },
  {
   "cell_type": "markdown",
   "id": "af7ced9d",
   "metadata": {
    "id": "af7ced9d"
   },
   "source": [
    "### 3.3 Implementing the Product Mapping and Information Extraction Layers\n",
    "\n",
    "In this section, we take in the output of the previous layers, i.e. the user requirements, which is in the format of a Python dictionary.\n",
    "<br>\n",
    "Next we will extract the top 3 laptop recommendations based on user's requirements.\n",
    "\n",
    "This stage consists of the following helper functions that will implement the information extraction and product matching layers."
   ]
  },
  {
   "cell_type": "markdown",
   "id": "R2F8yCDkvsVd",
   "metadata": {
    "id": "R2F8yCDkvsVd"
   },
   "source": [
    "### `product_map_layer()`:\n",
    "\n",
    "This function is responsible for extracting key features and criteria from laptop descriptions. Here's a breakdown of how it works:\n",
    "\n",
    "-  Use a prompt that assign it the role of a Laptop Specifications Classifier, whose objective is to extract key features and classify them based on laptop descriptions.\n",
    "\n",
    "- Provide step-by-step instructions for extracting laptop features from description.\n",
    "\n",
    "- Assign specific rules for each feature (e.g., GPU Intensity, Display Quality, Portability, Multitasking, Processing Speed) and associate them with the appropriate classification value (Low, Medium, or High).\n",
    "\n",
    "- Includes Few Shot Prompting (sample conversation between the user and assistant) to demonstrate the expected result of the feature extraction and classification process."
   ]
  },
  {
   "cell_type": "code",
   "execution_count": null,
   "id": "axk6Fs9vvKvT",
   "metadata": {
    "id": "axk6Fs9vvKvT"
   },
   "outputs": [],
   "source": [
    "def product_map_layer(laptop_description):\n",
    "    \"\"\"\n",
    "    Extracts key features from a laptop description and classifies them based on predefined rules.\n",
    "\n",
    "    Args:\n",
    "        laptop_description (str): The description of the laptop to be analyzed.\n",
    "\n",
    "    Returns:\n",
    "        dict: A dictionary containing the classified features of the laptop.\n",
    "            Keys represent different aspects such as GPU intensity, Display quality, Portability,\n",
    "            Multitasking, and Processing speed, each mapped to a value indicating the classification\n",
    "            (low, medium, or high) based on the extracted features.\n",
    "    \"\"\""
   ]
  },
  {
   "cell_type": "code",
   "execution_count": null,
   "id": "240d34cc",
   "metadata": {
    "id": "240d34cc"
   },
   "outputs": [],
   "source": [
    "def product_map_layer(laptop_description):\n",
    "    delimiter = \"#####\"\n",
    "\n",
    "    prompt=f\"\"\"\n",
    "\n",
    "    \"\"\"\n",
    "\n",
    "    input = f\"\"\"Follow the prompt instructions step-by-step and output the dictionary in JSON format for the following laptop {laptop_description}.\"\"\"\n",
    "\n",
    "    messages=[{\"role\": \"system\", \"content\":prompt },{\"role\": \"user\",\"content\":input}]\n",
    "\n",
    "    response = get_chat_completions(messages)\n",
    "\n",
    "    return response"
   ]
  },
  {
   "cell_type": "markdown",
   "id": "OF23tYUiDSMI",
   "metadata": {
    "id": "OF23tYUiDSMI"
   },
   "source": [
    "Let's test this for one sample laptop description."
   ]
  },
  {
   "cell_type": "code",
   "execution_count": null,
   "id": "JhrRxWNEC5Ls",
   "metadata": {
    "id": "JhrRxWNEC5Ls"
   },
   "outputs": [],
   "source": [
    "laptop_description_1 = f\"\"\"\n",
    "The Dell Inspiron is a versatile laptop that combines powerful performance and affordability.\n",
    "It features an Intel Core i5 processor clocked at 2.4 GHz, ensuring smooth multitasking and efficient computing.\n",
    "With 8GB of RAM and an SSD, it offers quick data access and ample storage capacity.\n",
    "The laptop sports a vibrant 15.6\" LCD display with a resolution of 1920x1080, delivering crisp visuals and immersive viewing experience.\n",
    "Weighing just 2.5 kg, it is highly portable, making it ideal for on-the-go usage.\n",
    "Additionally, it boasts an Intel UHD GPU for decent graphical performance and a backlit keyboard for enhanced typing convenience.\n",
    "With a one-year warranty and a battery life of up to 6 hours, the Dell Inspiron is a reliable companion for work or entertainment.\n",
    "All these features are packed at an affordable price of 35,000, making it an excellent choice for budget-conscious users.\n",
    "\"\"\""
   ]
  },
  {
   "cell_type": "code",
   "execution_count": null,
   "id": "3JiOft8JDDgv",
   "metadata": {
    "id": "3JiOft8JDDgv"
   },
   "outputs": [],
   "source": [
    "display(product_map_layer(laptop_description_1))"
   ]
  },
  {
   "cell_type": "code",
   "execution_count": null,
   "id": "u7O5Et_aSW0_",
   "metadata": {
    "id": "u7O5Et_aSW0_"
   },
   "outputs": [],
   "source": [
    "# # Data type of the output response\n",
    "print(type(product_map_layer(laptop_description_1)))"
   ]
  },
  {
   "cell_type": "code",
   "execution_count": null,
   "id": "xfDgYwldSXlx",
   "metadata": {
    "id": "xfDgYwldSXlx"
   },
   "outputs": [],
   "source": [
    "# # Check for consistency with iterate_response function\n",
    "iterate_llm_response(product_map_layer, laptop_description_1)"
   ]
  },
  {
   "cell_type": "markdown",
   "id": "dG5wTcerDVaH",
   "metadata": {
    "id": "dG5wTcerDVaH"
   },
   "source": [
    "Let's now apply this function to the entire laptop dataset"
   ]
  },
  {
   "cell_type": "code",
   "execution_count": null,
   "id": "c9bd0233",
   "metadata": {
    "id": "c9bd0233",
    "scrolled": true
   },
   "outputs": [],
   "source": [
    "##Run this code once to extract product info in the form of a dictionary\n",
    "laptop_df= pd.read_csv('laptop_data.csv')\n",
    "\n",
    "## Create a new column \"laptop_feature\" that contains the dictionary of the product features\n",
    "laptop_df['laptop_feature'] = laptop_df['Description'].apply(lambda x: product_map_layer(x))"
   ]
  },
  {
   "cell_type": "code",
   "execution_count": null,
   "id": "7441d1aa",
   "metadata": {
    "id": "7441d1aa"
   },
   "outputs": [],
   "source": [
    "laptop_df.to_csv(\"updated_laptop.csv\",index=False,header = True)"
   ]
  },
  {
   "cell_type": "markdown",
   "id": "3141b150",
   "metadata": {
    "id": "3141b150"
   },
   "source": [
    "### `compare_laptops_with_user()`:\n",
    "\n",
    "This function compares the user's profile with the different laptops and come back with the top  recommendations. It will perform the following steps:\n",
    "    - It will take the user requirements dictionary as input\n",
    "    - Filter the laptops based on their price, keeping only the ones within the user's budget.\n",
    "    - Calculate a score for each laptop based on how well it matches the user's requirements.\n",
    "    - Sort the laptops based on their scores in descending order.\n",
    "    - Return the top 3 laptops as a JSON-formatted string."
   ]
  },
  {
   "cell_type": "code",
   "execution_count": null,
   "id": "j5-PMNztwh_M",
   "metadata": {
    "id": "j5-PMNztwh_M"
   },
   "outputs": [],
   "source": [
    "def compare_laptops_with_user(user_req_string):\n",
    "    \"\"\"\n",
    "    Compares laptops based on user requirements and returns the top 3 matching laptops in JSON format.\n",
    "\n",
    "    Parameters:\n",
    "    - user_req_string (str): A string representing user requirements in JSON format.\n",
    "\n",
    "    Returns:\n",
    "    - str: A JSON string containing information about the top 3 matching laptops based on user requirements.\n",
    "    \"\"\""
   ]
  },
  {
   "cell_type": "code",
   "execution_count": null,
   "id": "ZqKvUdFkcPXF",
   "metadata": {
    "id": "ZqKvUdFkcPXF"
   },
   "outputs": [],
   "source": [
    "def compare_laptops_with_user(user_req_string):\n",
    "    laptop_df = pd.read_csv('updated_laptop.csv')\n",
    "\n",
    "    user_requirements = user_req_string\n",
    "\n",
    "    # Extracting user requirements from the input string (assuming it's a dictionary)\n",
    "    # Create a scoring mechanism for comparing the laptops in the laptop descriptions against the user_req_string containing the user's persona\n",
    "    # Sorting laptops by score in descending order and selecting the top 3 products\n",
    "\n",
    "    # top_laptops"
   ]
  },
  {
   "cell_type": "markdown",
   "id": "e1faebdc",
   "metadata": {
    "id": "e1faebdc"
   },
   "source": [
    "Now that you have the `compare_laptops_with_user()` function ready, let's pass the `response_dict_n` to the function to get top 3 recommendation."
   ]
  },
  {
   "cell_type": "code",
   "execution_count": null,
   "id": "rsTOq6lrb53Y",
   "metadata": {
    "id": "rsTOq6lrb53Y"
   },
   "outputs": [],
   "source": [
    "display(response_dict_n, '\\n',type(response_dict_n))"
   ]
  },
  {
   "cell_type": "code",
   "execution_count": null,
   "id": "oJrlVQZo8h7t",
   "metadata": {
    "id": "oJrlVQZo8h7t"
   },
   "outputs": [],
   "source": [
    "dictionary_present(response_dict_n)"
   ]
  },
  {
   "cell_type": "code",
   "execution_count": null,
   "id": "c4d3ff4a",
   "metadata": {
    "id": "c4d3ff4a"
   },
   "outputs": [],
   "source": [
    "top_3_laptops = compare_laptops_with_user(response_dict_n)\n",
    "\n",
    "display(top_3_laptops)"
   ]
  },
  {
   "cell_type": "markdown",
   "id": "U23YCuEhv3tH",
   "metadata": {
    "id": "U23YCuEhv3tH"
   },
   "source": [
    "### `product_validation_layer()`:\n",
    "\n",
    "This function verifies that the laptop recommendations are good enough, has score greater than 2, and matches the user's requirements."
   ]
  },
  {
   "cell_type": "code",
   "execution_count": null,
   "id": "a0d6dd68",
   "metadata": {
    "id": "a0d6dd68"
   },
   "outputs": [],
   "source": [
    "def recommendation_validation(laptop_recommendation):\n",
    "    \"\"\"\n",
    "    Validate a list of laptop recommendations based on a score threshold.\n",
    "\n",
    "    Parameters:\n",
    "    - laptop_recommendation (str): JSON string containing a list of laptop recommendations,\n",
    "      each with a 'Score' key representing its rating.\n",
    "\n",
    "    Returns:\n",
    "    - list: A filtered list of laptop recommendations where each item has a 'Score' greater than 2.\n",
    "    \"\"\""
   ]
  },
  {
   "cell_type": "code",
   "execution_count": null,
   "id": "c22c6b76",
   "metadata": {
    "id": "c22c6b76",
    "scrolled": true
   },
   "outputs": [],
   "source": [
    "validated_data = recommendation_validation(top_3_laptops)\n",
    "print(validated_data)"
   ]
  },
  {
   "cell_type": "markdown",
   "id": "f1f97d7a",
   "metadata": {
    "id": "f1f97d7a"
   },
   "source": [
    "Now that you the top 3 laptops extracted, let's pass it to the recommendation layer that'll send it to the user and the user can ask questions around it."
   ]
  }
 ],
 "metadata": {
  "colab": {
   "provenance": [
    {
     "file_id": "1kOSIjMD1n8knrabu16aI8Glcpd7OiN0Q",
     "timestamp": 1712664627556
    }
   ],
   "toc_visible": true
  },
  "kernelspec": {
   "display_name": "python310_env",
   "language": "python",
   "name": "python3"
  },
  "language_info": {
   "codemirror_mode": {
    "name": "ipython",
    "version": 3
   },
   "file_extension": ".py",
   "mimetype": "text/x-python",
   "name": "python",
   "nbconvert_exporter": "python",
   "pygments_lexer": "ipython3",
   "version": "3.10.16"
  }
 },
 "nbformat": 4,
 "nbformat_minor": 5
}
